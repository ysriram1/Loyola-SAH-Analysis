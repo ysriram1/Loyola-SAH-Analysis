{
 "cells": [
  {
   "cell_type": "markdown",
   "metadata": {},
   "source": [
    "# Reading and Exploring the Data"
   ]
  },
  {
   "cell_type": "code",
   "execution_count": 1,
   "metadata": {
    "collapsed": true
   },
   "outputs": [],
   "source": [
    "'''\n",
    "Author: Sriram Yarlagadda\n",
    "Date Created: 8/26/2016\n",
    "Note: Please use Python 2.7\n",
    "'''\n",
    "import os\n",
    "import numpy as np\n",
    "import pandas as pd\n",
    "os.chdir('C:\\Users\\syarlag1\\Desktop\\Loyola-SAH-Analysis') #Set location of home dir here."
   ]
  },
  {
   "cell_type": "markdown",
   "metadata": {},
   "source": [
    "### Reading Data"
   ]
  },
  {
   "cell_type": "code",
   "execution_count": 2,
   "metadata": {
    "collapsed": false
   },
   "outputs": [
    {
     "name": "stdout",
     "output_type": "stream",
     "text": [
      "CAData\n",
      "FLData\n",
      "IAData\n",
      "NYData\n",
      "WAData\n"
     ]
    }
   ],
   "source": [
    "os.chdir('./data')\n",
    "dataFiles = os.listdir('.')\n",
    "varLst = ['KEY','LOS','DIED','AGE','SAH','ASA','PT_INT_SAH','PT_INT_SAH_ASA','SCORE']#Names of the variables we need\n",
    "fullDataDict = {}\n",
    "for fileName in dataFiles:\n",
    "    dataStr = fileName[:2] + 'Data'; print dataStr #print to confirm that the data is created\n",
    "    fullDataDict[dataStr] = pd.DataFrame()\n",
    "    fullDataDict[dataStr] = pd.read_stata(fileName, columns=varLst)\n",
    "    fullDataDict[dataStr]['KEY'] = fullDataDict[dataStr]['KEY'].astype(str)#Setting the KEY variable as an object   \n",
    "    #fullDataDict[dataStr].index = fullDataDict[dataStr]['KEY']; del fullDataDict[dataStr]['KEY'] #Setting 'KEY' as index"
   ]
  },
  {
   "cell_type": "code",
   "execution_count": 3,
   "metadata": {
    "collapsed": false
   },
   "outputs": [],
   "source": [
    "for key in fullDataDict.keys(): #creating a new state identifier column\n",
    "    fullDataDict[key]['State'] = pd.Series([str(key)[:2]]*fullDataDict[key].shape[0])\n",
    "allStateData = pd.concat(fullDataDict.values()) #combing into a single dataframe\n",
    "allStateData.index = range(allStateData.shape[0])"
   ]
  },
  {
   "cell_type": "markdown",
   "metadata": {},
   "source": [
    "### Data Preprocessing"
   ]
  },
  {
   "cell_type": "code",
   "execution_count": 4,
   "metadata": {
    "collapsed": false
   },
   "outputs": [
    {
     "data": {
      "text/html": [
       "<div>\n",
       "<table border=\"1\" class=\"dataframe\">\n",
       "  <thead>\n",
       "    <tr style=\"text-align: right;\">\n",
       "      <th></th>\n",
       "      <th>LOS</th>\n",
       "      <th>DIED</th>\n",
       "      <th>AGE</th>\n",
       "      <th>SAH</th>\n",
       "      <th>ASA</th>\n",
       "      <th>PT_INT_SAH</th>\n",
       "      <th>PT_INT_SAH_ASA</th>\n",
       "      <th>SCORE</th>\n",
       "    </tr>\n",
       "  </thead>\n",
       "  <tbody>\n",
       "    <tr>\n",
       "      <th>count</th>\n",
       "      <td>38307.000000</td>\n",
       "      <td>38304.000000</td>\n",
       "      <td>38231.000000</td>\n",
       "      <td>38310.0</td>\n",
       "      <td>38310.000000</td>\n",
       "      <td>38310.0</td>\n",
       "      <td>38310.000000</td>\n",
       "      <td>38310.000000</td>\n",
       "    </tr>\n",
       "    <tr>\n",
       "      <th>mean</th>\n",
       "      <td>12.153001</td>\n",
       "      <td>0.204626</td>\n",
       "      <td>58.659569</td>\n",
       "      <td>1.0</td>\n",
       "      <td>0.033908</td>\n",
       "      <td>1.0</td>\n",
       "      <td>0.033908</td>\n",
       "      <td>5.732522</td>\n",
       "    </tr>\n",
       "    <tr>\n",
       "      <th>std</th>\n",
       "      <td>37.072215</td>\n",
       "      <td>0.406335</td>\n",
       "      <td>16.465707</td>\n",
       "      <td>0.0</td>\n",
       "      <td>0.180971</td>\n",
       "      <td>0.0</td>\n",
       "      <td>0.180971</td>\n",
       "      <td>10.280618</td>\n",
       "    </tr>\n",
       "    <tr>\n",
       "      <th>min</th>\n",
       "      <td>-6666.000000</td>\n",
       "      <td>-9.000000</td>\n",
       "      <td>0.000000</td>\n",
       "      <td>1.0</td>\n",
       "      <td>0.000000</td>\n",
       "      <td>1.0</td>\n",
       "      <td>0.000000</td>\n",
       "      <td>0.298197</td>\n",
       "    </tr>\n",
       "    <tr>\n",
       "      <th>25%</th>\n",
       "      <td>3.000000</td>\n",
       "      <td>0.000000</td>\n",
       "      <td>48.000000</td>\n",
       "      <td>1.0</td>\n",
       "      <td>0.000000</td>\n",
       "      <td>1.0</td>\n",
       "      <td>0.000000</td>\n",
       "      <td>0.932394</td>\n",
       "    </tr>\n",
       "    <tr>\n",
       "      <th>50%</th>\n",
       "      <td>9.000000</td>\n",
       "      <td>0.000000</td>\n",
       "      <td>58.000000</td>\n",
       "      <td>1.0</td>\n",
       "      <td>0.000000</td>\n",
       "      <td>1.0</td>\n",
       "      <td>0.000000</td>\n",
       "      <td>0.932394</td>\n",
       "    </tr>\n",
       "    <tr>\n",
       "      <th>75%</th>\n",
       "      <td>17.000000</td>\n",
       "      <td>0.000000</td>\n",
       "      <td>71.000000</td>\n",
       "      <td>1.0</td>\n",
       "      <td>0.000000</td>\n",
       "      <td>1.0</td>\n",
       "      <td>0.000000</td>\n",
       "      <td>6.958751</td>\n",
       "    </tr>\n",
       "    <tr>\n",
       "      <th>max</th>\n",
       "      <td>362.000000</td>\n",
       "      <td>1.000000</td>\n",
       "      <td>111.000000</td>\n",
       "      <td>1.0</td>\n",
       "      <td>1.000000</td>\n",
       "      <td>1.0</td>\n",
       "      <td>1.000000</td>\n",
       "      <td>106.059479</td>\n",
       "    </tr>\n",
       "  </tbody>\n",
       "</table>\n",
       "</div>"
      ],
      "text/plain": [
       "                LOS          DIED           AGE      SAH           ASA  \\\n",
       "count  38307.000000  38304.000000  38231.000000  38310.0  38310.000000   \n",
       "mean      12.153001      0.204626     58.659569      1.0      0.033908   \n",
       "std       37.072215      0.406335     16.465707      0.0      0.180971   \n",
       "min    -6666.000000     -9.000000      0.000000      1.0      0.000000   \n",
       "25%        3.000000      0.000000     48.000000      1.0      0.000000   \n",
       "50%        9.000000      0.000000     58.000000      1.0      0.000000   \n",
       "75%       17.000000      0.000000     71.000000      1.0      0.000000   \n",
       "max      362.000000      1.000000    111.000000      1.0      1.000000   \n",
       "\n",
       "       PT_INT_SAH  PT_INT_SAH_ASA         SCORE  \n",
       "count     38310.0    38310.000000  38310.000000  \n",
       "mean          1.0        0.033908      5.732522  \n",
       "std           0.0        0.180971     10.280618  \n",
       "min           1.0        0.000000      0.298197  \n",
       "25%           1.0        0.000000      0.932394  \n",
       "50%           1.0        0.000000      0.932394  \n",
       "75%           1.0        0.000000      6.958751  \n",
       "max           1.0        1.000000    106.059479  "
      ]
     },
     "execution_count": 4,
     "metadata": {},
     "output_type": "execute_result"
    }
   ],
   "source": [
    "allStateData.describe()"
   ]
  },
  {
   "cell_type": "markdown",
   "metadata": {},
   "source": [
    "As we can see if have some abberations. For example, the min of LOS is -6666, which is not possible. Hence we quickly scan for other such outliers and remove the corresponding cases."
   ]
  },
  {
   "cell_type": "code",
   "execution_count": 5,
   "metadata": {
    "collapsed": false
   },
   "outputs": [
    {
     "data": {
      "text/plain": [
       "array([0, 1, 1, 0, 0, 0, 0, 0, 0, 0])"
      ]
     },
     "execution_count": 5,
     "metadata": {},
     "output_type": "execute_result"
    }
   ],
   "source": [
    "np.sum(np.array(allStateData < 0), 0)"
   ]
  },
  {
   "cell_type": "markdown",
   "metadata": {},
   "source": [
    "As we can see from the above output, only two features -- LOS and DIED -- have negative values. We look at the cases that correspond to these:"
   ]
  },
  {
   "cell_type": "code",
   "execution_count": 6,
   "metadata": {
    "collapsed": false
   },
   "outputs": [
    {
     "data": {
      "text/html": [
       "<div>\n",
       "<table border=\"1\" class=\"dataframe\">\n",
       "  <thead>\n",
       "    <tr style=\"text-align: right;\">\n",
       "      <th></th>\n",
       "      <th>KEY</th>\n",
       "      <th>LOS</th>\n",
       "      <th>DIED</th>\n",
       "      <th>AGE</th>\n",
       "      <th>SAH</th>\n",
       "      <th>ASA</th>\n",
       "      <th>PT_INT_SAH</th>\n",
       "      <th>PT_INT_SAH_ASA</th>\n",
       "      <th>SCORE</th>\n",
       "      <th>State</th>\n",
       "    </tr>\n",
       "  </thead>\n",
       "  <tbody>\n",
       "    <tr>\n",
       "      <th>35184</th>\n",
       "      <td>6.20061320052e+12</td>\n",
       "      <td>1.0</td>\n",
       "      <td>-9.0</td>\n",
       "      <td>46.0</td>\n",
       "      <td>1.0</td>\n",
       "      <td>0.0</td>\n",
       "      <td>1.0</td>\n",
       "      <td>0.0</td>\n",
       "      <td>6.958751</td>\n",
       "      <td>CA</td>\n",
       "    </tr>\n",
       "  </tbody>\n",
       "</table>\n",
       "</div>"
      ],
      "text/plain": [
       "                     KEY  LOS  DIED   AGE  SAH  ASA  PT_INT_SAH  \\\n",
       "35184  6.20061320052e+12  1.0  -9.0  46.0  1.0  0.0         1.0   \n",
       "\n",
       "       PT_INT_SAH_ASA     SCORE State  \n",
       "35184             0.0  6.958751    CA  "
      ]
     },
     "execution_count": 6,
     "metadata": {},
     "output_type": "execute_result"
    }
   ],
   "source": [
    "allStateData[allStateData['DIED'] < 0]"
   ]
  },
  {
   "cell_type": "code",
   "execution_count": 7,
   "metadata": {
    "collapsed": false
   },
   "outputs": [
    {
     "data": {
      "text/html": [
       "<div>\n",
       "<table border=\"1\" class=\"dataframe\">\n",
       "  <thead>\n",
       "    <tr style=\"text-align: right;\">\n",
       "      <th></th>\n",
       "      <th>KEY</th>\n",
       "      <th>LOS</th>\n",
       "      <th>DIED</th>\n",
       "      <th>AGE</th>\n",
       "      <th>SAH</th>\n",
       "      <th>ASA</th>\n",
       "      <th>PT_INT_SAH</th>\n",
       "      <th>PT_INT_SAH_ASA</th>\n",
       "      <th>SCORE</th>\n",
       "      <th>State</th>\n",
       "    </tr>\n",
       "  </thead>\n",
       "  <tbody>\n",
       "    <tr>\n",
       "      <th>24598</th>\n",
       "      <td>6.20061082797e+12</td>\n",
       "      <td>-6666.0</td>\n",
       "      <td>0.0</td>\n",
       "      <td>67.0</td>\n",
       "      <td>1.0</td>\n",
       "      <td>0.0</td>\n",
       "      <td>1.0</td>\n",
       "      <td>0.0</td>\n",
       "      <td>5.473947</td>\n",
       "      <td>CA</td>\n",
       "    </tr>\n",
       "  </tbody>\n",
       "</table>\n",
       "</div>"
      ],
      "text/plain": [
       "                     KEY     LOS  DIED   AGE  SAH  ASA  PT_INT_SAH  \\\n",
       "24598  6.20061082797e+12 -6666.0   0.0  67.0  1.0  0.0         1.0   \n",
       "\n",
       "       PT_INT_SAH_ASA     SCORE State  \n",
       "24598             0.0  5.473947    CA  "
      ]
     },
     "execution_count": 7,
     "metadata": {},
     "output_type": "execute_result"
    }
   ],
   "source": [
    "allStateData[allStateData['LOS'] < 0]"
   ]
  },
  {
   "cell_type": "code",
   "execution_count": 8,
   "metadata": {
    "collapsed": false
   },
   "outputs": [
    {
     "data": {
      "text/plain": [
       "array([ 0,  3,  6, 79,  0,  0,  0,  0,  0,  0])"
      ]
     },
     "execution_count": 8,
     "metadata": {},
     "output_type": "execute_result"
    }
   ],
   "source": [
    "np.sum(np.array(pd.isnull(allStateData)),0)"
   ]
  },
  {
   "cell_type": "markdown",
   "metadata": {},
   "source": [
    "There are **89** missing values in our data."
   ]
  },
  {
   "cell_type": "markdown",
   "metadata": {},
   "source": [
    "We remove all cases which have such outliers:"
   ]
  },
  {
   "cell_type": "code",
   "execution_count": 9,
   "metadata": {
    "collapsed": false
   },
   "outputs": [],
   "source": [
    "for feature in allStateData.columns: \n",
    "    allStateData = allStateData[allStateData[feature] >= 0] #removing all the cases that are less than 0 (only 2 in our case)"
   ]
  },
  {
   "cell_type": "code",
   "execution_count": 10,
   "metadata": {
    "collapsed": true
   },
   "outputs": [],
   "source": [
    "os.chdir('./..')\n",
    "allStateData.to_csv('./allStateData.csv')"
   ]
  },
  {
   "cell_type": "code",
   "execution_count": null,
   "metadata": {
    "collapsed": true
   },
   "outputs": [],
   "source": []
  }
 ],
 "metadata": {
  "kernelspec": {
   "display_name": "Python 2",
   "language": "python",
   "name": "python2"
  },
  "language_info": {
   "codemirror_mode": {
    "name": "ipython",
    "version": 2
   },
   "file_extension": ".py",
   "mimetype": "text/x-python",
   "name": "python",
   "nbconvert_exporter": "python",
   "pygments_lexer": "ipython2",
   "version": "2.7.11"
  }
 },
 "nbformat": 4,
 "nbformat_minor": 0
}
