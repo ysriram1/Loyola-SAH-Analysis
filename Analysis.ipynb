{
 "cells": [
  {
   "cell_type": "code",
   "execution_count": 5,
   "metadata": {
    "collapsed": false
   },
   "outputs": [],
   "source": [
    "'''\n",
    "Author: Sriram Yarlagadda\n",
    "Date Created: 8/26/2016\n",
    "Note: Please use Python 2.7\n",
    "'''\n",
    "import os\n",
    "import numpy as np\n",
    "import pandas as pd\n",
    "import matplotlib.pyplot as plt\n",
    "%matplotlib inline\n",
    "#os.chdir('C:\\Users\\syarlag1\\Desktop\\Loyola-SAH-Analysis') #Set location of home dir here.\n",
    "os.chdir('/Users/Sriram/Desktop/DePaul/Loyola-SAH-Analysis')#location in Mac"
   ]
  },
  {
   "cell_type": "markdown",
   "metadata": {},
   "source": [
    "### Reading Data"
   ]
  },
  {
   "cell_type": "markdown",
   "metadata": {},
   "source": [
    "Only the variables needed are extracted. See the variable \"varLst\"."
   ]
  },
  {
   "cell_type": "code",
   "execution_count": 6,
   "metadata": {
    "collapsed": false
   },
   "outputs": [
    {
     "name": "stdout",
     "output_type": "stream",
     "text": [
      "CAData\n",
      "FLData\n",
      "IAData\n",
      "NYData\n",
      "WAData\n"
     ]
    }
   ],
   "source": [
    "os.chdir('./data')\n",
    "dataFiles = os.listdir('.')\n",
    "#Names of the variables we need\n",
    "varLst = ['KEY','LOS','DIED','AGE','SAH','ASA','RACE','PT_INT_SAH','PT_INT_SAH_ASA','SCORE','DISCHARGE_BAD','DISCHARGE_GOOD']\n",
    "fullDataDict = {}\n",
    "for fileName in dataFiles:\n",
    "    dataStr = fileName[:2] + 'Data'; print dataStr #print to confirm that the data is created\n",
    "    fullDataDict[dataStr] = pd.DataFrame()\n",
    "    fullDataDict[dataStr] = pd.read_stata(fileName, columns=varLst)\n",
    "    fullDataDict[dataStr]['KEY'] = fullDataDict[dataStr]['KEY'].astype(str)#Setting the KEY variable as an object   \n",
    "    #fullDataDict[dataStr].index = fullDataDict[dataStr]['KEY']; del fullDataDict[dataStr]['KEY'] #Setting 'KEY' as index"
   ]
  },
  {
   "cell_type": "code",
   "execution_count": 7,
   "metadata": {
    "collapsed": false
   },
   "outputs": [],
   "source": [
    "for key in fullDataDict.keys(): #creating a new state identifier column\n",
    "    fullDataDict[key]['State'] = pd.Series([str(key)[:2]]*fullDataDict[key].shape[0])\n",
    "allStateData = pd.concat(fullDataDict.values()) #combing into a single dataframe\n",
    "allStateData.index = range(allStateData.shape[0])"
   ]
  },
  {
   "cell_type": "markdown",
   "metadata": {},
   "source": [
    "### Data Preprocessing"
   ]
  },
  {
   "cell_type": "code",
   "execution_count": 8,
   "metadata": {
    "collapsed": false
   },
   "outputs": [
    {
     "name": "stderr",
     "output_type": "stream",
     "text": [
      "//anaconda/envs/py2/lib/python2.7/site-packages/numpy/lib/function_base.py:3823: RuntimeWarning: Invalid value encountered in percentile\n",
      "  RuntimeWarning)\n"
     ]
    },
    {
     "data": {
      "text/html": [
       "<div>\n",
       "<table border=\"1\" class=\"dataframe\">\n",
       "  <thead>\n",
       "    <tr style=\"text-align: right;\">\n",
       "      <th></th>\n",
       "      <th>LOS</th>\n",
       "      <th>DIED</th>\n",
       "      <th>AGE</th>\n",
       "      <th>SAH</th>\n",
       "      <th>ASA</th>\n",
       "      <th>RACE</th>\n",
       "      <th>PT_INT_SAH</th>\n",
       "      <th>PT_INT_SAH_ASA</th>\n",
       "      <th>SCORE</th>\n",
       "      <th>DISCHARGE_BAD</th>\n",
       "      <th>DISCHARGE_GOOD</th>\n",
       "    </tr>\n",
       "  </thead>\n",
       "  <tbody>\n",
       "    <tr>\n",
       "      <th>count</th>\n",
       "      <td>38227.000000</td>\n",
       "      <td>38224.000000</td>\n",
       "      <td>38151.000000</td>\n",
       "      <td>38230.0</td>\n",
       "      <td>38230.000000</td>\n",
       "      <td>36868.000000</td>\n",
       "      <td>38230.0</td>\n",
       "      <td>38230.000000</td>\n",
       "      <td>38230.000000</td>\n",
       "      <td>38230.000000</td>\n",
       "      <td>38230.000000</td>\n",
       "    </tr>\n",
       "    <tr>\n",
       "      <th>mean</th>\n",
       "      <td>12.151830</td>\n",
       "      <td>0.204871</td>\n",
       "      <td>58.760662</td>\n",
       "      <td>1.0</td>\n",
       "      <td>0.033979</td>\n",
       "      <td>1.838641</td>\n",
       "      <td>1.0</td>\n",
       "      <td>0.033979</td>\n",
       "      <td>5.731389</td>\n",
       "      <td>0.053911</td>\n",
       "      <td>0.300785</td>\n",
       "    </tr>\n",
       "    <tr>\n",
       "      <th>std</th>\n",
       "      <td>37.107648</td>\n",
       "      <td>0.406519</td>\n",
       "      <td>16.332432</td>\n",
       "      <td>0.0</td>\n",
       "      <td>0.181145</td>\n",
       "      <td>1.980915</td>\n",
       "      <td>0.0</td>\n",
       "      <td>0.181145</td>\n",
       "      <td>10.280527</td>\n",
       "      <td>0.225886</td>\n",
       "      <td>0.458530</td>\n",
       "    </tr>\n",
       "    <tr>\n",
       "      <th>min</th>\n",
       "      <td>-6666.000000</td>\n",
       "      <td>-9.000000</td>\n",
       "      <td>0.000000</td>\n",
       "      <td>1.0</td>\n",
       "      <td>0.000000</td>\n",
       "      <td>-9.000000</td>\n",
       "      <td>1.0</td>\n",
       "      <td>0.000000</td>\n",
       "      <td>0.298197</td>\n",
       "      <td>0.000000</td>\n",
       "      <td>0.000000</td>\n",
       "    </tr>\n",
       "    <tr>\n",
       "      <th>25%</th>\n",
       "      <td>NaN</td>\n",
       "      <td>NaN</td>\n",
       "      <td>NaN</td>\n",
       "      <td>1.0</td>\n",
       "      <td>0.000000</td>\n",
       "      <td>NaN</td>\n",
       "      <td>1.0</td>\n",
       "      <td>0.000000</td>\n",
       "      <td>0.932394</td>\n",
       "      <td>0.000000</td>\n",
       "      <td>0.000000</td>\n",
       "    </tr>\n",
       "    <tr>\n",
       "      <th>50%</th>\n",
       "      <td>NaN</td>\n",
       "      <td>NaN</td>\n",
       "      <td>NaN</td>\n",
       "      <td>1.0</td>\n",
       "      <td>0.000000</td>\n",
       "      <td>NaN</td>\n",
       "      <td>1.0</td>\n",
       "      <td>0.000000</td>\n",
       "      <td>0.932394</td>\n",
       "      <td>0.000000</td>\n",
       "      <td>0.000000</td>\n",
       "    </tr>\n",
       "    <tr>\n",
       "      <th>75%</th>\n",
       "      <td>NaN</td>\n",
       "      <td>NaN</td>\n",
       "      <td>NaN</td>\n",
       "      <td>1.0</td>\n",
       "      <td>0.000000</td>\n",
       "      <td>NaN</td>\n",
       "      <td>1.0</td>\n",
       "      <td>0.000000</td>\n",
       "      <td>6.958751</td>\n",
       "      <td>0.000000</td>\n",
       "      <td>1.000000</td>\n",
       "    </tr>\n",
       "    <tr>\n",
       "      <th>max</th>\n",
       "      <td>362.000000</td>\n",
       "      <td>1.000000</td>\n",
       "      <td>111.000000</td>\n",
       "      <td>1.0</td>\n",
       "      <td>1.000000</td>\n",
       "      <td>6.000000</td>\n",
       "      <td>1.0</td>\n",
       "      <td>1.000000</td>\n",
       "      <td>106.059479</td>\n",
       "      <td>1.000000</td>\n",
       "      <td>1.000000</td>\n",
       "    </tr>\n",
       "  </tbody>\n",
       "</table>\n",
       "</div>"
      ],
      "text/plain": [
       "                LOS          DIED           AGE      SAH           ASA  \\\n",
       "count  38227.000000  38224.000000  38151.000000  38230.0  38230.000000   \n",
       "mean      12.151830      0.204871     58.760662      1.0      0.033979   \n",
       "std       37.107648      0.406519     16.332432      0.0      0.181145   \n",
       "min    -6666.000000     -9.000000      0.000000      1.0      0.000000   \n",
       "25%             NaN           NaN           NaN      1.0      0.000000   \n",
       "50%             NaN           NaN           NaN      1.0      0.000000   \n",
       "75%             NaN           NaN           NaN      1.0      0.000000   \n",
       "max      362.000000      1.000000    111.000000      1.0      1.000000   \n",
       "\n",
       "               RACE  PT_INT_SAH  PT_INT_SAH_ASA         SCORE  DISCHARGE_BAD  \\\n",
       "count  36868.000000     38230.0    38230.000000  38230.000000   38230.000000   \n",
       "mean       1.838641         1.0        0.033979      5.731389       0.053911   \n",
       "std        1.980915         0.0        0.181145     10.280527       0.225886   \n",
       "min       -9.000000         1.0        0.000000      0.298197       0.000000   \n",
       "25%             NaN         1.0        0.000000      0.932394       0.000000   \n",
       "50%             NaN         1.0        0.000000      0.932394       0.000000   \n",
       "75%             NaN         1.0        0.000000      6.958751       0.000000   \n",
       "max        6.000000         1.0        1.000000    106.059479       1.000000   \n",
       "\n",
       "       DISCHARGE_GOOD  \n",
       "count    38230.000000  \n",
       "mean         0.300785  \n",
       "std          0.458530  \n",
       "min          0.000000  \n",
       "25%          0.000000  \n",
       "50%          0.000000  \n",
       "75%          1.000000  \n",
       "max          1.000000  "
      ]
     },
     "execution_count": 8,
     "metadata": {},
     "output_type": "execute_result"
    }
   ],
   "source": [
    "allStateData.describe()"
   ]
  },
  {
   "cell_type": "markdown",
   "metadata": {},
   "source": [
    "As we can see, there are some abberations. For example, the min of LOS is -6666, which is not possible. Hence we scan for other such outliers and remove the cases that correspond to them."
   ]
  },
  {
   "cell_type": "code",
   "execution_count": 9,
   "metadata": {
    "collapsed": false
   },
   "outputs": [
    {
     "data": {
      "text/plain": [
       "array([  0,   1,   1,   0,   0,   0, 629,   0,   0,   0,   0,   0,   0])"
      ]
     },
     "execution_count": 9,
     "metadata": {},
     "output_type": "execute_result"
    }
   ],
   "source": [
    "np.sum(np.array(allStateData < 0),0)"
   ]
  },
  {
   "cell_type": "markdown",
   "metadata": {},
   "source": [
    "As we can see from the above output, only two features -- LOS and DIED -- have negative values. We look at the cases that correspond to these:"
   ]
  },
  {
   "cell_type": "code",
   "execution_count": 10,
   "metadata": {
    "collapsed": false
   },
   "outputs": [
    {
     "data": {
      "text/html": [
       "<div>\n",
       "<table border=\"1\" class=\"dataframe\">\n",
       "  <thead>\n",
       "    <tr style=\"text-align: right;\">\n",
       "      <th></th>\n",
       "      <th>KEY</th>\n",
       "      <th>LOS</th>\n",
       "      <th>DIED</th>\n",
       "      <th>AGE</th>\n",
       "      <th>SAH</th>\n",
       "      <th>ASA</th>\n",
       "      <th>RACE</th>\n",
       "      <th>PT_INT_SAH</th>\n",
       "      <th>PT_INT_SAH_ASA</th>\n",
       "      <th>SCORE</th>\n",
       "      <th>DISCHARGE_BAD</th>\n",
       "      <th>DISCHARGE_GOOD</th>\n",
       "      <th>State</th>\n",
       "    </tr>\n",
       "  </thead>\n",
       "  <tbody>\n",
       "    <tr>\n",
       "      <th>35104</th>\n",
       "      <td>6.20061320052e+12</td>\n",
       "      <td>1.0</td>\n",
       "      <td>-9.0</td>\n",
       "      <td>46.0</td>\n",
       "      <td>1.0</td>\n",
       "      <td>0.0</td>\n",
       "      <td>1.0</td>\n",
       "      <td>1.0</td>\n",
       "      <td>0.0</td>\n",
       "      <td>6.958751</td>\n",
       "      <td>0.0</td>\n",
       "      <td>0.0</td>\n",
       "      <td>CA</td>\n",
       "    </tr>\n",
       "  </tbody>\n",
       "</table>\n",
       "</div>"
      ],
      "text/plain": [
       "                     KEY  LOS  DIED   AGE  SAH  ASA  RACE  PT_INT_SAH  \\\n",
       "35104  6.20061320052e+12  1.0  -9.0  46.0  1.0  0.0   1.0         1.0   \n",
       "\n",
       "       PT_INT_SAH_ASA     SCORE  DISCHARGE_BAD  DISCHARGE_GOOD State  \n",
       "35104             0.0  6.958751            0.0             0.0    CA  "
      ]
     },
     "execution_count": 10,
     "metadata": {},
     "output_type": "execute_result"
    }
   ],
   "source": [
    "allStateData[allStateData['DIED'] < 0]"
   ]
  },
  {
   "cell_type": "code",
   "execution_count": 11,
   "metadata": {
    "collapsed": false
   },
   "outputs": [
    {
     "data": {
      "text/html": [
       "<div>\n",
       "<table border=\"1\" class=\"dataframe\">\n",
       "  <thead>\n",
       "    <tr style=\"text-align: right;\">\n",
       "      <th></th>\n",
       "      <th>KEY</th>\n",
       "      <th>LOS</th>\n",
       "      <th>DIED</th>\n",
       "      <th>AGE</th>\n",
       "      <th>SAH</th>\n",
       "      <th>ASA</th>\n",
       "      <th>RACE</th>\n",
       "      <th>PT_INT_SAH</th>\n",
       "      <th>PT_INT_SAH_ASA</th>\n",
       "      <th>SCORE</th>\n",
       "      <th>DISCHARGE_BAD</th>\n",
       "      <th>DISCHARGE_GOOD</th>\n",
       "      <th>State</th>\n",
       "    </tr>\n",
       "  </thead>\n",
       "  <tbody>\n",
       "    <tr>\n",
       "      <th>24518</th>\n",
       "      <td>6.20061082797e+12</td>\n",
       "      <td>-6666.0</td>\n",
       "      <td>0.0</td>\n",
       "      <td>67.0</td>\n",
       "      <td>1.0</td>\n",
       "      <td>0.0</td>\n",
       "      <td>4.0</td>\n",
       "      <td>1.0</td>\n",
       "      <td>0.0</td>\n",
       "      <td>5.473947</td>\n",
       "      <td>0.0</td>\n",
       "      <td>0.0</td>\n",
       "      <td>CA</td>\n",
       "    </tr>\n",
       "  </tbody>\n",
       "</table>\n",
       "</div>"
      ],
      "text/plain": [
       "                     KEY     LOS  DIED   AGE  SAH  ASA  RACE  PT_INT_SAH  \\\n",
       "24518  6.20061082797e+12 -6666.0   0.0  67.0  1.0  0.0   4.0         1.0   \n",
       "\n",
       "       PT_INT_SAH_ASA     SCORE  DISCHARGE_BAD  DISCHARGE_GOOD State  \n",
       "24518             0.0  5.473947            0.0             0.0    CA  "
      ]
     },
     "execution_count": 11,
     "metadata": {},
     "output_type": "execute_result"
    }
   ],
   "source": [
    "allStateData[allStateData['LOS'] < 0]"
   ]
  },
  {
   "cell_type": "code",
   "execution_count": 16,
   "metadata": {
    "collapsed": false
   },
   "outputs": [],
   "source": [
    "allStateData[allStateData['RACE'] < 0]; # not showing output (629 cases)"
   ]
  },
  {
   "cell_type": "code",
   "execution_count": 17,
   "metadata": {
    "collapsed": false
   },
   "outputs": [
    {
     "data": {
      "text/plain": [
       "array([   0,    3,    6,   79,    0,    0, 1362,    0,    0,    0,    0,\n",
       "          0,    0])"
      ]
     },
     "execution_count": 17,
     "metadata": {},
     "output_type": "execute_result"
    }
   ],
   "source": [
    "np.sum(np.array(pd.isnull(allStateData)),0)"
   ]
  },
  {
   "cell_type": "markdown",
   "metadata": {},
   "source": [
    "There are **1457** missing values in our data."
   ]
  },
  {
   "cell_type": "markdown",
   "metadata": {},
   "source": [
    "We remove all cases which have such outliers:"
   ]
  },
  {
   "cell_type": "code",
   "execution_count": 18,
   "metadata": {
    "collapsed": false
   },
   "outputs": [],
   "source": [
    "for feature in allStateData.columns: \n",
    "    allStateData = allStateData[allStateData[feature] >= 0] #removing all the cases that are less than 0 (only 2 in our case)"
   ]
  },
  {
   "cell_type": "code",
   "execution_count": 19,
   "metadata": {
    "collapsed": true
   },
   "outputs": [],
   "source": [
    "os.chdir('./..') \n",
    "allStateData.to_csv('./allStateData.csv') #saving entire file for easy future access"
   ]
  },
  {
   "cell_type": "markdown",
   "metadata": {},
   "source": [
    "### Data Exploration\n",
    "\n",
    "In this section we first look at how the cases are distributed by STATE and ASA status and then we visualize the relation between the SCORE, DIED, and LOS variables and the ASA status (0 or 1)"
   ]
  },
  {
   "cell_type": "code",
   "execution_count": 20,
   "metadata": {
    "collapsed": false
   },
   "outputs": [],
   "source": [
    "allStateData = pd.read_csv('./allStateData.csv')#ignore this if running script from top"
   ]
  },
  {
   "cell_type": "markdown",
   "metadata": {},
   "source": [
    "#### First we look at the distribution of the case counts by State and ASA status\n",
    "\n",
    "**NOTE:** Since we are including the race variable, which has a lot of NaNs, we will have slightly different results from the previous analysis. None of the conclusion have changed. "
   ]
  },
  {
   "cell_type": "markdown",
   "metadata": {},
   "source": [
    "Taking a look at the number of cases by state:"
   ]
  },
  {
   "cell_type": "code",
   "execution_count": 21,
   "metadata": {
    "collapsed": false
   },
   "outputs": [
    {
     "data": {
      "text/plain": [
       "CA    16990\n",
       "FL     8340\n",
       "NY     8300\n",
       "WA     1709\n",
       "IA      891\n",
       "Name: State, dtype: int64"
      ]
     },
     "execution_count": 21,
     "metadata": {},
     "output_type": "execute_result"
    }
   ],
   "source": [
    "allStateData.State.value_counts()"
   ]
  },
  {
   "cell_type": "code",
   "execution_count": 22,
   "metadata": {
    "collapsed": false
   },
   "outputs": [
    {
     "data": {
      "text/plain": [
       "<matplotlib.text.Text at 0x1155f0d90>"
      ]
     },
     "execution_count": 22,
     "metadata": {},
     "output_type": "execute_result"
    },
    {
     "data": {
      "image/png": "[encoded data removed]",
      "text/plain": [
       "<matplotlib.figure.Figure at 0x119478450>"
      ]
     },
     "metadata": {},
     "output_type": "display_data"
    }
   ],
   "source": [
    "allStateData.State.value_counts().plot('bar')\n",
    "plt.title('State Distribution')"
   ]
  },
  {
   "cell_type": "markdown",
   "metadata": {},
   "source": [
    "As seen above, California has the most number of cases, more than the next two (FL and NY) combined.\n"
   ]
  },
  {
   "cell_type": "code",
   "execution_count": 23,
   "metadata": {
    "collapsed": false
   },
   "outputs": [
    {
     "data": {
      "text/plain": [
       "<matplotlib.text.Text at 0x116f86c50>"
      ]
     },
     "execution_count": 23,
     "metadata": {},
     "output_type": "execute_result"
    },
    {
     "data": {
      "image/png": "[encoded data removed]",
      "text/plain": [
       "<matplotlib.figure.Figure at 0x117180f50>"
      ]
     },
     "metadata": {},
     "output_type": "display_data"
    }
   ],
   "source": [
    "allStateData.ASA.value_counts().plot('bar')\n",
    "plt.title('ASA distribution')"
   ]
  },
  {
   "cell_type": "markdown",
   "metadata": {},
   "source": [
    "The above barplot shows us that there are **far fewer** cases of ASA than without ASA\n",
    "\n",
    "#### We now look at the distribution of the SCORE variable"
   ]
  },
  {
   "cell_type": "code",
   "execution_count": 24,
   "metadata": {
    "collapsed": false
   },
   "outputs": [
    {
     "data": {
      "image/png": "[encoded data removed]",
      "text/plain": [
       "<matplotlib.figure.Figure at 0x117129490>"
      ]
     },
     "metadata": {},
     "output_type": "display_data"
    },
    {
     "data": {
      "image/png": "[encoded data removed]",
      "text/plain": [
       "<matplotlib.figure.Figure at 0x1171f9b50>"
      ]
     },
     "metadata": {},
     "output_type": "display_data"
    },
    {
     "data": {
      "image/png": "[encoded data removed]",
      "text/plain": [
       "<matplotlib.figure.Figure at 0x1162bbb90>"
      ]
     },
     "metadata": {},
     "output_type": "display_data"
    },
    {
     "data": {
      "image/png": "[encoded data removed]",
      "text/plain": [
       "<matplotlib.figure.Figure at 0x116520ad0>"
      ]
     },
     "metadata": {},
     "output_type": "display_data"
    }
   ],
   "source": [
    "###ASA = 0\n",
    "allStateData[allStateData.ASA == 0.].SCORE.plot('box')\n",
    "plt.title('Boxplot of SCORE when ASA = 0'); plt.show()\n",
    "###ASA == 1\n",
    "allStateData[allStateData.ASA == 1.].SCORE.plot('box')\n",
    "plt.title('Boxplot of SCORE when ASA = 1'); plt.show()\n",
    "###ASA = 0\n",
    "allStateData[allStateData.ASA == 0.].SCORE.plot('hist', xlim=(0,20), bins = 100) #zooming in to ignore outliers\n",
    "plt.title('Histogram of SCORE when ASA = 0'); plt.show()\n",
    "###ASA = 1\n",
    "allStateData[allStateData.ASA == 1.].SCORE.plot('hist', xlim=(0,20), bins = 100) #zooming in to ignore outliers\n",
    "plt.title('Histogram of SCORE when ASA = 1'); plt.show()"
   ]
  },
  {
   "cell_type": "markdown",
   "metadata": {},
   "source": [
    "From above we can see that both ASA = 1 and ASA = 0 both have a similar distribution for the SCORE variable. However, it is important to notice that these distributions are **NOT** normal. T-tests may **not** be appropriate when the distributions are not normal.\n",
    "\n",
    "Since there seem to be a lot of discrete values, we also create a cross tabulation (contingency table) of the data with proportions:"
   ]
  },
  {
   "cell_type": "code",
   "execution_count": 25,
   "metadata": {
    "collapsed": false
   },
   "outputs": [
    {
     "data": {
      "text/html": [
       "<div>\n",
       "<table border=\"1\" class=\"dataframe\">\n",
       "  <thead>\n",
       "    <tr style=\"text-align: right;\">\n",
       "      <th>ASA</th>\n",
       "      <th>0.0</th>\n",
       "      <th>1.0</th>\n",
       "    </tr>\n",
       "    <tr>\n",
       "      <th>SCORE</th>\n",
       "      <th></th>\n",
       "      <th></th>\n",
       "    </tr>\n",
       "  </thead>\n",
       "  <tbody>\n",
       "    <tr>\n",
       "      <th>0.298197</th>\n",
       "      <td>0.015837</td>\n",
       "      <td>0.012019</td>\n",
       "    </tr>\n",
       "    <tr>\n",
       "      <th>0.463013</th>\n",
       "      <td>0.000200</td>\n",
       "      <td>0.001603</td>\n",
       "    </tr>\n",
       "    <tr>\n",
       "      <th>0.774142</th>\n",
       "      <td>0.000086</td>\n",
       "      <td>0.000000</td>\n",
       "    </tr>\n",
       "    <tr>\n",
       "      <th>0.932394</th>\n",
       "      <td>0.576697</td>\n",
       "      <td>0.644231</td>\n",
       "    </tr>\n",
       "    <tr>\n",
       "      <th>1.447735</th>\n",
       "      <td>0.008376</td>\n",
       "      <td>0.020833</td>\n",
       "    </tr>\n",
       "    <tr>\n",
       "      <th>1.558931</th>\n",
       "      <td>0.000029</td>\n",
       "      <td>0.000000</td>\n",
       "    </tr>\n",
       "    <tr>\n",
       "      <th>1.750672</th>\n",
       "      <td>0.000114</td>\n",
       "      <td>0.000000</td>\n",
       "    </tr>\n",
       "    <tr>\n",
       "      <th>2.225541</th>\n",
       "      <td>0.006375</td>\n",
       "      <td>0.002404</td>\n",
       "    </tr>\n",
       "    <tr>\n",
       "      <th>2.420563</th>\n",
       "      <td>0.001201</td>\n",
       "      <td>0.002404</td>\n",
       "    </tr>\n",
       "    <tr>\n",
       "      <th>3.455614</th>\n",
       "      <td>0.000029</td>\n",
       "      <td>0.000000</td>\n",
       "    </tr>\n",
       "    <tr>\n",
       "      <th>5.473947</th>\n",
       "      <td>0.011406</td>\n",
       "      <td>0.016026</td>\n",
       "    </tr>\n",
       "    <tr>\n",
       "      <th>6.958751</th>\n",
       "      <td>0.301441</td>\n",
       "      <td>0.233974</td>\n",
       "    </tr>\n",
       "    <tr>\n",
       "      <th>8.499436</th>\n",
       "      <td>0.000229</td>\n",
       "      <td>0.000000</td>\n",
       "    </tr>\n",
       "    <tr>\n",
       "      <th>10.804901</th>\n",
       "      <td>0.003545</td>\n",
       "      <td>0.005609</td>\n",
       "    </tr>\n",
       "    <tr>\n",
       "      <th>13.065824</th>\n",
       "      <td>0.001572</td>\n",
       "      <td>0.000000</td>\n",
       "    </tr>\n",
       "    <tr>\n",
       "      <th>14.210769</th>\n",
       "      <td>0.000029</td>\n",
       "      <td>0.000000</td>\n",
       "    </tr>\n",
       "    <tr>\n",
       "      <th>18.065428</th>\n",
       "      <td>0.000600</td>\n",
       "      <td>0.000000</td>\n",
       "    </tr>\n",
       "    <tr>\n",
       "      <th>40.853809</th>\n",
       "      <td>0.071322</td>\n",
       "      <td>0.060096</td>\n",
       "    </tr>\n",
       "    <tr>\n",
       "      <th>63.434006</th>\n",
       "      <td>0.000829</td>\n",
       "      <td>0.000000</td>\n",
       "    </tr>\n",
       "    <tr>\n",
       "      <th>106.059479</th>\n",
       "      <td>0.000086</td>\n",
       "      <td>0.000801</td>\n",
       "    </tr>\n",
       "  </tbody>\n",
       "</table>\n",
       "</div>"
      ],
      "text/plain": [
       "ASA              0.0       1.0\n",
       "SCORE                         \n",
       "0.298197    0.015837  0.012019\n",
       "0.463013    0.000200  0.001603\n",
       "0.774142    0.000086  0.000000\n",
       "0.932394    0.576697  0.644231\n",
       "1.447735    0.008376  0.020833\n",
       "1.558931    0.000029  0.000000\n",
       "1.750672    0.000114  0.000000\n",
       "2.225541    0.006375  0.002404\n",
       "2.420563    0.001201  0.002404\n",
       "3.455614    0.000029  0.000000\n",
       "5.473947    0.011406  0.016026\n",
       "6.958751    0.301441  0.233974\n",
       "8.499436    0.000229  0.000000\n",
       "10.804901   0.003545  0.005609\n",
       "13.065824   0.001572  0.000000\n",
       "14.210769   0.000029  0.000000\n",
       "18.065428   0.000600  0.000000\n",
       "40.853809   0.071322  0.060096\n",
       "63.434006   0.000829  0.000000\n",
       "106.059479  0.000086  0.000801"
      ]
     },
     "execution_count": 25,
     "metadata": {},
     "output_type": "execute_result"
    }
   ],
   "source": [
    "pd.crosstab(allStateData.SCORE, allStateData.ASA).apply(lambda x: x/x.sum(), 0).sort_index()"
   ]
  },
  {
   "cell_type": "markdown",
   "metadata": {},
   "source": [
    "From the table the main difference between ASA=0 and ASA=1 Scores is at **6.958 and 0.9324**"
   ]
  },
  {
   "cell_type": "markdown",
   "metadata": {
    "collapsed": true
   },
   "source": [
    "#### Next we look at the distribution of LOS variable"
   ]
  },
  {
   "cell_type": "code",
   "execution_count": 26,
   "metadata": {
    "collapsed": false
   },
   "outputs": [
    {
     "data": {
      "image/png": "[encoded data removed]",
      "text/plain": [
       "<matplotlib.figure.Figure at 0x118c10b90>"
      ]
     },
     "metadata": {},
     "output_type": "display_data"
    },
    {
     "data": {
      "image/png": "[encoded data removed]",
      "text/plain": [
       "<matplotlib.figure.Figure at 0x1172c4810>"
      ]
     },
     "metadata": {},
     "output_type": "display_data"
    },
    {
     "data": {
      "image/png": "[encoded data removed]",
      "text/plain": [
       "<matplotlib.figure.Figure at 0x1171f9910>"
      ]
     },
     "metadata": {},
     "output_type": "display_data"
    },
    {
     "data": {
      "image/png": "[encoded data removed]",
      "text/plain": [
       "<matplotlib.figure.Figure at 0x116a2e810>"
      ]
     },
     "metadata": {},
     "output_type": "display_data"
    }
   ],
   "source": [
    "###ASA = 0\n",
    "allStateData[allStateData.ASA == 0.].LOS.plot('box')\n",
    "plt.title('Boxplot of LOS when ASA = 0'); plt.show()\n",
    "###ASA = 1\n",
    "allStateData[allStateData.ASA == 1.].LOS.plot('box')\n",
    "plt.title('Boxplot of LOS when ASA = 1'); plt.show()\n",
    "###ASA = 0\n",
    "allStateData[allStateData.ASA == 0.].LOS.plot('hist', xlim=(0,120), bins = 100)\n",
    "plt.title('Histogram of LOS when ASA = 0'); plt.show()\n",
    "###ASA = 1\n",
    "allStateData[allStateData.ASA == 1.].LOS.plot('hist',  xlim=(0,120), bins = 100)\n",
    "plt.title('Histogram of LOS when ASA = 1'); plt.show()"
   ]
  },
  {
   "cell_type": "markdown",
   "metadata": {},
   "source": [
    "Just as before, we can see that the ASA = 1 group and ASA = 0 group both have an approximately similar distribution. And **neither** of these these distributions are normal - seem to have a pareto distribution."
   ]
  },
  {
   "cell_type": "markdown",
   "metadata": {},
   "source": [
    "#### Now we look at the distribution of the DIED variable\n",
    "(Box plots are unnecessary here since the data is boolean (0 or 1))"
   ]
  },
  {
   "cell_type": "code",
   "execution_count": 27,
   "metadata": {
    "collapsed": false
   },
   "outputs": [
    {
     "data": {
      "text/html": [
       "<div>\n",
       "<table border=\"1\" class=\"dataframe\">\n",
       "  <thead>\n",
       "    <tr style=\"text-align: right;\">\n",
       "      <th>ASA</th>\n",
       "      <th>0.0</th>\n",
       "      <th>1.0</th>\n",
       "    </tr>\n",
       "    <tr>\n",
       "      <th>DIED</th>\n",
       "      <th></th>\n",
       "      <th></th>\n",
       "    </tr>\n",
       "  </thead>\n",
       "  <tbody>\n",
       "    <tr>\n",
       "      <th>0.0</th>\n",
       "      <td>0.795095</td>\n",
       "      <td>0.801282</td>\n",
       "    </tr>\n",
       "    <tr>\n",
       "      <th>1.0</th>\n",
       "      <td>0.204905</td>\n",
       "      <td>0.198718</td>\n",
       "    </tr>\n",
       "  </tbody>\n",
       "</table>\n",
       "</div>"
      ],
      "text/plain": [
       "ASA        0.0       1.0\n",
       "DIED                    \n",
       "0.0   0.795095  0.801282\n",
       "1.0   0.204905  0.198718"
      ]
     },
     "execution_count": 27,
     "metadata": {},
     "output_type": "execute_result"
    }
   ],
   "source": [
    "pd.crosstab(allStateData.DIED, allStateData.ASA).apply(lambda x: x/x.sum(),0)"
   ]
  },
  {
   "cell_type": "code",
   "execution_count": 28,
   "metadata": {
    "collapsed": false
   },
   "outputs": [
    {
     "data": {
      "image/png": "[encoded data removed]",
      "text/plain": [
       "<matplotlib.figure.Figure at 0x1164e98d0>"
      ]
     },
     "metadata": {},
     "output_type": "display_data"
    },
    {
     "data": {
      "image/png": "[encoded data removed]",
      "text/plain": [
       "<matplotlib.figure.Figure at 0x1195b6bd0>"
      ]
     },
     "metadata": {},
     "output_type": "display_data"
    }
   ],
   "source": [
    "###ASA = 0\n",
    "allStateData[allStateData.ASA == 0.].DIED.plot('hist', bins = 100)\n",
    "plt.title('Histogram of DIED when ASA = 0'); plt.show()\n",
    "###ASA = 1\n",
    "allStateData[allStateData.ASA == 1.].DIED.plot('hist', bins = 100)\n",
    "plt.title('Histogram of DIED when ASA = 1'); plt.show()"
   ]
  },
  {
   "cell_type": "markdown",
   "metadata": {},
   "source": [
    "The table and plots show us that both the cases almost have the exact same distribution."
   ]
  },
  {
   "cell_type": "markdown",
   "metadata": {},
   "source": [
    "### Specific Answers"
   ]
  },
  {
   "cell_type": "code",
   "execution_count": 29,
   "metadata": {
    "collapsed": true
   },
   "outputs": [],
   "source": [
    "from scipy import stats  "
   ]
  },
  {
   "cell_type": "markdown",
   "metadata": {},
   "source": [
    "#### Q1 Is there a relation between Aspirin Usage (ASA) and Hospital Stay (LOS)?\n",
    "\n",
    "To answer this question, we run a simple Mann-Whitney (Wilcoxon Rank Sum) test on both the groups. Mann-Whitney U tests are preferred over a t-test since the data is very unbalanced and it is not normal. It is essentially a non-parametric alternative to a t-test. Also important to note here, this test is comparing the medians and not the means. Means are really only relevant if the distributions are normal, since CLT doesnt apply otherwise.\n",
    "\n",
    "Please note here that this variable (LOS) follows a Pareto distribution (see the data exploration part). So it might make sense for us to find a test that is specifically meant for such distributions. I am searching for one and will update this as soon as I find something."
   ]
  },
  {
   "cell_type": "code",
   "execution_count": 30,
   "metadata": {
    "collapsed": true
   },
   "outputs": [],
   "source": [
    "group1_LOS =  allStateData[allStateData.ASA == 0.].LOS\n",
    "group2_LOS =  allStateData[allStateData.ASA == 1.].LOS"
   ]
  },
  {
   "cell_type": "code",
   "execution_count": 31,
   "metadata": {
    "collapsed": false
   },
   "outputs": [
    {
     "name": "stdout",
     "output_type": "stream",
     "text": [
      "The median LOS of ASA = 0 is  9.0\n"
     ]
    }
   ],
   "source": [
    "print \"The median LOS of ASA = 0 is \", group1_LOS.median()"
   ]
  },
  {
   "cell_type": "code",
   "execution_count": 32,
   "metadata": {
    "collapsed": false
   },
   "outputs": [
    {
     "name": "stdout",
     "output_type": "stream",
     "text": [
      "The median LOS of ASA = 1 is  5.0\n"
     ]
    }
   ],
   "source": [
    "print \"The median LOS of ASA = 1 is \", group2_LOS.median()"
   ]
  },
  {
   "cell_type": "code",
   "execution_count": 33,
   "metadata": {
    "collapsed": false
   },
   "outputs": [
    {
     "name": "stdout",
     "output_type": "stream",
     "text": [
      "p-value:  5.25450822196e-31\n"
     ]
    }
   ],
   "source": [
    "z_stat, p_val = stats.ranksums(group1_LOS, group2_LOS)\n",
    "print \"p-value: \", p_val  "
   ]
  },
  {
   "cell_type": "code",
   "execution_count": 34,
   "metadata": {
    "collapsed": false
   },
   "outputs": [
    {
     "name": "stdout",
     "output_type": "stream",
     "text": [
      "The mean LOS of ASA = 0 is  12.55628609\n",
      "The mean LOS of ASA = 1 is  8.29887820513\n"
     ]
    }
   ],
   "source": [
    "# Looking at the mean of the LOS variable\n",
    "print \"The mean LOS of ASA = 0 is \", group1_LOS.mean()\n",
    "print \"The mean LOS of ASA = 1 is \", group2_LOS.mean()"
   ]
  },
  {
   "cell_type": "markdown",
   "metadata": {},
   "source": [
    "Since the p-value is <0.01, there is enough evidence to conclude that the mean Hospital Stay of patients that **do not** use aspirin is **greater** than those that do. However, I am **not** convinced that this is a causal relationship. It could just so happen that patients that are given aspirin are just suffering a less severe SAH and are let out sooner as a result."
   ]
  },
  {
   "cell_type": "markdown",
   "metadata": {},
   "source": [
    "#### Q2 Is there a relation between Aspirin Usage (ASA) and Mortality (DIED)?"
   ]
  },
  {
   "cell_type": "markdown",
   "metadata": {},
   "source": [
    "Since the data here is boolean and independent, I suggest we use a **Chi-Squared test**."
   ]
  },
  {
   "cell_type": "code",
   "execution_count": 35,
   "metadata": {
    "collapsed": true
   },
   "outputs": [],
   "source": [
    "group1_DIED =  allStateData[allStateData.ASA == 0.].DIED\n",
    "group2_DIED =  allStateData[allStateData.ASA == 1.].DIED"
   ]
  },
  {
   "cell_type": "code",
   "execution_count": 36,
   "metadata": {
    "collapsed": false
   },
   "outputs": [
    {
     "name": "stdout",
     "output_type": "stream",
     "text": [
      "The mean SCORE of ASA = 0 is  0.20490537991\n"
     ]
    }
   ],
   "source": [
    "print \"The mean SCORE of ASA = 0 is \", group1_DIED.mean()"
   ]
  },
  {
   "cell_type": "code",
   "execution_count": 37,
   "metadata": {
    "collapsed": false
   },
   "outputs": [
    {
     "name": "stdout",
     "output_type": "stream",
     "text": [
      "The mean SCORE of ASA = 1 is  0.198717948718\n"
     ]
    }
   ],
   "source": [
    "print \"The mean SCORE of ASA = 1 is \", group2_DIED.mean()"
   ]
  },
  {
   "cell_type": "code",
   "execution_count": 38,
   "metadata": {
    "collapsed": false
   },
   "outputs": [
    {
     "data": {
      "text/html": [
       "<div>\n",
       "<table border=\"1\" class=\"dataframe\">\n",
       "  <thead>\n",
       "    <tr style=\"text-align: right;\">\n",
       "      <th>ASA</th>\n",
       "      <th>0.0</th>\n",
       "      <th>1.0</th>\n",
       "    </tr>\n",
       "    <tr>\n",
       "      <th>DIED</th>\n",
       "      <th></th>\n",
       "      <th></th>\n",
       "    </tr>\n",
       "  </thead>\n",
       "  <tbody>\n",
       "    <tr>\n",
       "      <th>0.0</th>\n",
       "      <td>27814</td>\n",
       "      <td>1000</td>\n",
       "    </tr>\n",
       "    <tr>\n",
       "      <th>1.0</th>\n",
       "      <td>7168</td>\n",
       "      <td>248</td>\n",
       "    </tr>\n",
       "  </tbody>\n",
       "</table>\n",
       "</div>"
      ],
      "text/plain": [
       "ASA     0.0   1.0\n",
       "DIED             \n",
       "0.0   27814  1000\n",
       "1.0    7168   248"
      ]
     },
     "execution_count": 38,
     "metadata": {},
     "output_type": "execute_result"
    }
   ],
   "source": [
    "ctDIED = pd.crosstab(allStateData.DIED, allStateData.ASA); ctDIED"
   ]
  },
  {
   "cell_type": "code",
   "execution_count": 39,
   "metadata": {
    "collapsed": false
   },
   "outputs": [
    {
     "name": "stdout",
     "output_type": "stream",
     "text": [
      "p-value:  0.619443610554\n"
     ]
    }
   ],
   "source": [
    "p_val = stats.chi2_contingency(ctDIED)[1]\n",
    "print \"p-value: \", p_val  "
   ]
  },
  {
   "cell_type": "code",
   "execution_count": 40,
   "metadata": {
    "collapsed": false
   },
   "outputs": [
    {
     "data": {
      "text/plain": [
       "'\\nprop.test(c(29341,1037),c(36922,1298),correct=FALSE)\\n\\n\\t2-sample test for equality of proportions without\\n\\tcontinuity correction\\n\\ndata:  c(29341, 1037) out of c(36922, 1298)\\nX-squared = 0.13863, df = 1, p-value = 0.7096\\nalternative hypothesis: two.sided\\n95 percent confidence interval:\\n -0.02643650  0.01794419\\nsample estimates:\\n   prop 1    prop 2 \\n0.7946753 0.7989214 \\n'"
      ]
     },
     "execution_count": 40,
     "metadata": {},
     "output_type": "execute_result"
    }
   ],
   "source": [
    "# even the R implementation of ChiSq test, shows the same result. \n",
    "'''\n",
    "prop.test(c(29341,1037),c(36922,1298),correct=FALSE)\n",
    "\n",
    "\t2-sample test for equality of proportions without\n",
    "\tcontinuity correction\n",
    "\n",
    "data:  c(29341, 1037) out of c(36922, 1298)\n",
    "X-squared = 0.13863, df = 1, p-value = 0.7096\n",
    "alternative hypothesis: two.sided\n",
    "95 percent confidence interval:\n",
    " -0.02643650  0.01794419\n",
    "sample estimates:\n",
    "   prop 1    prop 2 \n",
    "0.7946753 0.7989214 \n",
    "'''"
   ]
  },
  {
   "cell_type": "markdown",
   "metadata": {},
   "source": [
    "Since the p-value is >0.05, there is **not** enough evidence to prove that there is a difference in the mortality rate between patients that use aspirin and those that dont."
   ]
  },
  {
   "cell_type": "markdown",
   "metadata": {},
   "source": [
    "#### Q3 Is there a relation between Aspirin Usage (ASA) and Severity of SAH (SCORE)?\n",
    "\n",
    "As seen in the exploration part, this variable is discrete and not really continuous. Mann-Whitney assumes that the distribution is continuous so it might **not** be appropriate here. Hence, we also test using Chi-Sq, which will show if the distributions are similar or not."
   ]
  },
  {
   "cell_type": "code",
   "execution_count": 41,
   "metadata": {
    "collapsed": true
   },
   "outputs": [],
   "source": [
    "group1_SCORE =  allStateData[allStateData.ASA == 0.].SCORE\n",
    "group2_SCORE =  allStateData[allStateData.ASA == 1.].SCORE"
   ]
  },
  {
   "cell_type": "code",
   "execution_count": 42,
   "metadata": {
    "collapsed": false
   },
   "outputs": [
    {
     "name": "stdout",
     "output_type": "stream",
     "text": [
      "The median SCORE of ASA = 0 is  0.932393848896\n"
     ]
    }
   ],
   "source": [
    "print \"The median SCORE of ASA = 0 is \", group1_SCORE.median()"
   ]
  },
  {
   "cell_type": "code",
   "execution_count": 43,
   "metadata": {
    "collapsed": false
   },
   "outputs": [
    {
     "name": "stdout",
     "output_type": "stream",
     "text": [
      "The median SCORE of ASA = 1 is  0.932393848896\n"
     ]
    }
   ],
   "source": [
    "print \"The median SCORE of ASA = 1 is \", group2_SCORE.median()"
   ]
  },
  {
   "cell_type": "code",
   "execution_count": 44,
   "metadata": {
    "collapsed": false
   },
   "outputs": [
    {
     "name": "stdout",
     "output_type": "stream",
     "text": [
      "The mean SCORE of ASA = 0 is  5.77974957189\n"
     ]
    }
   ],
   "source": [
    "print \"The mean SCORE of ASA = 0 is \", group1_SCORE.mean()"
   ]
  },
  {
   "cell_type": "code",
   "execution_count": 45,
   "metadata": {
    "collapsed": false
   },
   "outputs": [
    {
     "name": "stdout",
     "output_type": "stream",
     "text": [
      "The mean SCORE of ASA = 1 is  4.96297010498\n"
     ]
    }
   ],
   "source": [
    "print \"The mean SCORE of ASA = 1 is \", group2_SCORE.mean()"
   ]
  },
  {
   "cell_type": "code",
   "execution_count": 46,
   "metadata": {
    "collapsed": false
   },
   "outputs": [
    {
     "name": "stdout",
     "output_type": "stream",
     "text": [
      "p-value:  3.84194275899e-05\n"
     ]
    }
   ],
   "source": [
    "z_stat, p_val = stats.ranksums(group1_SCORE, group2_SCORE)#, alternative = 'greater')  \n",
    "print \"p-value: \", p_val  "
   ]
  },
  {
   "cell_type": "markdown",
   "metadata": {},
   "source": [
    "Since the p-value is <0.01, there is enough evidence to say that the severity of SAH of patients that use aspirin is **lower** than those that don't use aspirin. "
   ]
  },
  {
   "cell_type": "code",
   "execution_count": 47,
   "metadata": {
    "collapsed": false
   },
   "outputs": [
    {
     "data": {
      "text/html": [
       "<div>\n",
       "<table border=\"1\" class=\"dataframe\">\n",
       "  <thead>\n",
       "    <tr style=\"text-align: right;\">\n",
       "      <th>ASA</th>\n",
       "      <th>0.0</th>\n",
       "      <th>1.0</th>\n",
       "    </tr>\n",
       "    <tr>\n",
       "      <th>SCORE</th>\n",
       "      <th></th>\n",
       "      <th></th>\n",
       "    </tr>\n",
       "  </thead>\n",
       "  <tbody>\n",
       "    <tr>\n",
       "      <th>0.298197</th>\n",
       "      <td>554</td>\n",
       "      <td>15</td>\n",
       "    </tr>\n",
       "    <tr>\n",
       "      <th>0.463013</th>\n",
       "      <td>7</td>\n",
       "      <td>2</td>\n",
       "    </tr>\n",
       "    <tr>\n",
       "      <th>0.774142</th>\n",
       "      <td>3</td>\n",
       "      <td>0</td>\n",
       "    </tr>\n",
       "    <tr>\n",
       "      <th>0.932394</th>\n",
       "      <td>20174</td>\n",
       "      <td>804</td>\n",
       "    </tr>\n",
       "    <tr>\n",
       "      <th>1.447735</th>\n",
       "      <td>293</td>\n",
       "      <td>26</td>\n",
       "    </tr>\n",
       "    <tr>\n",
       "      <th>1.558931</th>\n",
       "      <td>1</td>\n",
       "      <td>0</td>\n",
       "    </tr>\n",
       "    <tr>\n",
       "      <th>1.750672</th>\n",
       "      <td>4</td>\n",
       "      <td>0</td>\n",
       "    </tr>\n",
       "    <tr>\n",
       "      <th>2.225541</th>\n",
       "      <td>223</td>\n",
       "      <td>3</td>\n",
       "    </tr>\n",
       "    <tr>\n",
       "      <th>2.420563</th>\n",
       "      <td>42</td>\n",
       "      <td>3</td>\n",
       "    </tr>\n",
       "    <tr>\n",
       "      <th>3.455614</th>\n",
       "      <td>1</td>\n",
       "      <td>0</td>\n",
       "    </tr>\n",
       "    <tr>\n",
       "      <th>5.473947</th>\n",
       "      <td>399</td>\n",
       "      <td>20</td>\n",
       "    </tr>\n",
       "    <tr>\n",
       "      <th>6.958751</th>\n",
       "      <td>10545</td>\n",
       "      <td>292</td>\n",
       "    </tr>\n",
       "    <tr>\n",
       "      <th>8.499436</th>\n",
       "      <td>8</td>\n",
       "      <td>0</td>\n",
       "    </tr>\n",
       "    <tr>\n",
       "      <th>10.804901</th>\n",
       "      <td>124</td>\n",
       "      <td>7</td>\n",
       "    </tr>\n",
       "    <tr>\n",
       "      <th>13.065824</th>\n",
       "      <td>55</td>\n",
       "      <td>0</td>\n",
       "    </tr>\n",
       "    <tr>\n",
       "      <th>14.210769</th>\n",
       "      <td>1</td>\n",
       "      <td>0</td>\n",
       "    </tr>\n",
       "    <tr>\n",
       "      <th>18.065428</th>\n",
       "      <td>21</td>\n",
       "      <td>0</td>\n",
       "    </tr>\n",
       "    <tr>\n",
       "      <th>40.853809</th>\n",
       "      <td>2495</td>\n",
       "      <td>75</td>\n",
       "    </tr>\n",
       "    <tr>\n",
       "      <th>63.434006</th>\n",
       "      <td>29</td>\n",
       "      <td>0</td>\n",
       "    </tr>\n",
       "    <tr>\n",
       "      <th>106.059479</th>\n",
       "      <td>3</td>\n",
       "      <td>1</td>\n",
       "    </tr>\n",
       "  </tbody>\n",
       "</table>\n",
       "</div>"
      ],
      "text/plain": [
       "ASA           0.0  1.0\n",
       "SCORE                 \n",
       "0.298197      554   15\n",
       "0.463013        7    2\n",
       "0.774142        3    0\n",
       "0.932394    20174  804\n",
       "1.447735      293   26\n",
       "1.558931        1    0\n",
       "1.750672        4    0\n",
       "2.225541      223    3\n",
       "2.420563       42    3\n",
       "3.455614        1    0\n",
       "5.473947      399   20\n",
       "6.958751    10545  292\n",
       "8.499436        8    0\n",
       "10.804901     124    7\n",
       "13.065824      55    0\n",
       "14.210769       1    0\n",
       "18.065428      21    0\n",
       "40.853809    2495   75\n",
       "63.434006      29    0\n",
       "106.059479      3    1"
      ]
     },
     "execution_count": 47,
     "metadata": {},
     "output_type": "execute_result"
    }
   ],
   "source": [
    "ctSevere = pd.crosstab(allStateData.SCORE, allStateData.ASA); ctSevere"
   ]
  },
  {
   "cell_type": "code",
   "execution_count": 48,
   "metadata": {
    "collapsed": false
   },
   "outputs": [
    {
     "name": "stdout",
     "output_type": "stream",
     "text": [
      "p-value:  1.90580927596e-09\n"
     ]
    }
   ],
   "source": [
    "p_val = stats.chi2_contingency(ctSevere)[1]\n",
    "print \"p-value: \", p_val"
   ]
  },
  {
   "cell_type": "markdown",
   "metadata": {},
   "source": [
    "This result shows that the distributions are **NOT** similar. Given that this is the case and the Mann-Whitney test is significant. We can move forward with concluding that Patients on Aspirin and those using it have varying levels of severity of SAH. This does **not** mean that using a higher dose of aspirin results in more severe SAH or vice versa. It just shows that they are related. "
   ]
  },
  {
   "cell_type": "markdown",
   "metadata": {},
   "source": [
    "#### Q4 Is there a relation between the discharge status of the patient and ASA?"
   ]
  },
  {
   "cell_type": "code",
   "execution_count": 49,
   "metadata": {
    "collapsed": false
   },
   "outputs": [
    {
     "data": {
      "text/html": [
       "<div>\n",
       "<table border=\"1\" class=\"dataframe\">\n",
       "  <thead>\n",
       "    <tr style=\"text-align: right;\">\n",
       "      <th></th>\n",
       "      <th>ASA</th>\n",
       "      <th>0.0</th>\n",
       "      <th>1.0</th>\n",
       "    </tr>\n",
       "    <tr>\n",
       "      <th>DISCHARGE_GOOD</th>\n",
       "      <th>DISCHARGE_BAD</th>\n",
       "      <th></th>\n",
       "      <th></th>\n",
       "    </tr>\n",
       "  </thead>\n",
       "  <tbody>\n",
       "    <tr>\n",
       "      <th rowspan=\"2\" valign=\"top\">0.0</th>\n",
       "      <th>0.0</th>\n",
       "      <td>22332</td>\n",
       "      <td>823</td>\n",
       "    </tr>\n",
       "    <tr>\n",
       "      <th>1.0</th>\n",
       "      <td>1967</td>\n",
       "      <td>41</td>\n",
       "    </tr>\n",
       "    <tr>\n",
       "      <th>1.0</th>\n",
       "      <th>0.0</th>\n",
       "      <td>10683</td>\n",
       "      <td>384</td>\n",
       "    </tr>\n",
       "  </tbody>\n",
       "</table>\n",
       "</div>"
      ],
      "text/plain": [
       "ASA                             0.0  1.0\n",
       "DISCHARGE_GOOD DISCHARGE_BAD            \n",
       "0.0            0.0            22332  823\n",
       "               1.0             1967   41\n",
       "1.0            0.0            10683  384"
      ]
     },
     "execution_count": 49,
     "metadata": {},
     "output_type": "execute_result"
    }
   ],
   "source": [
    "pd.crosstab([allStateData.DISCHARGE_GOOD,allStateData.DISCHARGE_BAD],allStateData.ASA)"
   ]
  },
  {
   "cell_type": "markdown",
   "metadata": {},
   "source": [
    "Something to note here (see table above) is that of the patients that have **not** been discharged good, only a handful have been discharged bad, a large number of them have are **not** classified as discharged bad. For this analysis, we only use those instances where the patient is either has a discharged_good or discharged_bad of 1. Instances where both these variables are 0 are **not** chosen. "
   ]
  },
  {
   "cell_type": "code",
   "execution_count": 50,
   "metadata": {
    "collapsed": false
   },
   "outputs": [
    {
     "data": {
      "text/plain": [
       "(13075, 14)"
      ]
     },
     "execution_count": 50,
     "metadata": {},
     "output_type": "execute_result"
    }
   ],
   "source": [
    "dataSubset = allStateData[allStateData.DISCHARGE_GOOD+allStateData.DISCHARGE_BAD == 1]; dataSubset.shape # data subset"
   ]
  },
  {
   "cell_type": "code",
   "execution_count": 51,
   "metadata": {
    "collapsed": false
   },
   "outputs": [
    {
     "data": {
      "text/html": [
       "<div>\n",
       "<table border=\"1\" class=\"dataframe\">\n",
       "  <thead>\n",
       "    <tr style=\"text-align: right;\">\n",
       "      <th></th>\n",
       "      <th>ASA</th>\n",
       "      <th>0.0</th>\n",
       "      <th>1.0</th>\n",
       "    </tr>\n",
       "    <tr>\n",
       "      <th>DISCHARGE_GOOD</th>\n",
       "      <th>DISCHARGE_BAD</th>\n",
       "      <th></th>\n",
       "      <th></th>\n",
       "    </tr>\n",
       "  </thead>\n",
       "  <tbody>\n",
       "    <tr>\n",
       "      <th>0.0</th>\n",
       "      <th>1.0</th>\n",
       "      <td>1967</td>\n",
       "      <td>41</td>\n",
       "    </tr>\n",
       "    <tr>\n",
       "      <th>1.0</th>\n",
       "      <th>0.0</th>\n",
       "      <td>10683</td>\n",
       "      <td>384</td>\n",
       "    </tr>\n",
       "  </tbody>\n",
       "</table>\n",
       "</div>"
      ],
      "text/plain": [
       "ASA                             0.0  1.0\n",
       "DISCHARGE_GOOD DISCHARGE_BAD            \n",
       "0.0            1.0             1967   41\n",
       "1.0            0.0            10683  384"
      ]
     },
     "execution_count": 51,
     "metadata": {},
     "output_type": "execute_result"
    }
   ],
   "source": [
    "pd.crosstab( [dataSubset.DISCHARGE_GOOD,dataSubset.DISCHARGE_BAD],dataSubset.ASA) # numbers"
   ]
  },
  {
   "cell_type": "code",
   "execution_count": 52,
   "metadata": {
    "collapsed": false
   },
   "outputs": [
    {
     "data": {
      "text/html": [
       "<div>\n",
       "<table border=\"1\" class=\"dataframe\">\n",
       "  <thead>\n",
       "    <tr style=\"text-align: right;\">\n",
       "      <th>ASA</th>\n",
       "      <th>0.0</th>\n",
       "      <th>1.0</th>\n",
       "    </tr>\n",
       "    <tr>\n",
       "      <th>DISCHARGE_GOOD</th>\n",
       "      <th></th>\n",
       "      <th></th>\n",
       "    </tr>\n",
       "  </thead>\n",
       "  <tbody>\n",
       "    <tr>\n",
       "      <th>0.0</th>\n",
       "      <td>0.155494</td>\n",
       "      <td>0.096471</td>\n",
       "    </tr>\n",
       "    <tr>\n",
       "      <th>1.0</th>\n",
       "      <td>0.844506</td>\n",
       "      <td>0.903529</td>\n",
       "    </tr>\n",
       "  </tbody>\n",
       "</table>\n",
       "</div>"
      ],
      "text/plain": [
       "ASA                  0.0       1.0\n",
       "DISCHARGE_GOOD                    \n",
       "0.0             0.155494  0.096471\n",
       "1.0             0.844506  0.903529"
      ]
     },
     "execution_count": 52,
     "metadata": {},
     "output_type": "execute_result"
    }
   ],
   "source": [
    "pd.crosstab(dataSubset.DISCHARGE_GOOD, dataSubset.ASA).apply(lambda x: x/x.sum()) # percentages"
   ]
  },
  {
   "cell_type": "code",
   "execution_count": 53,
   "metadata": {
    "collapsed": false
   },
   "outputs": [
    {
     "data": {
      "text/plain": [
       "'\\nprop.test(c(1969,41),c(10731+1969,41+384),correct=FALSE)\\n\\n\\t2-sample test for equality of proportions without continuity\\n\\tcorrection\\n\\ndata:  c(1969, 41) out of c(10731 + 1969, 41 + 384)\\nX-squared = 10.877, df = 1, p-value = 0.0009735\\nalternative hypothesis: two.sided\\n95 percent confidence interval:\\n 0.02980288 0.08733468\\nsample estimates:\\n    prop 1     prop 2 \\n0.15503937 0.09647059 \\n'"
      ]
     },
     "execution_count": 53,
     "metadata": {},
     "output_type": "execute_result"
    }
   ],
   "source": [
    "# running a chiSq test in R\n",
    "'''\n",
    "prop.test(c(1969,41),c(10731+1969,41+384),correct=FALSE)\n",
    "\n",
    "\t2-sample test for equality of proportions without continuity\n",
    "\tcorrection\n",
    "\n",
    "data:  c(1969, 41) out of c(10731 + 1969, 41 + 384)\n",
    "X-squared = 10.877, df = 1, p-value = 0.0009735\n",
    "alternative hypothesis: two.sided\n",
    "95 percent confidence interval:\n",
    " 0.02980288 0.08733468\n",
    "sample estimates:\n",
    "    prop 1     prop 2 \n",
    "0.15503937 0.09647059 \n",
    "'''"
   ]
  },
  {
   "cell_type": "markdown",
   "metadata": {},
   "source": [
    "Although the test is significant and the confidence interval tells us that patients on Aspirin have a higher proportion of better discharge than those who are not on aspirin. The sample size for the patients not using Aspirin is so small, that I would **not** draw any conclusions from this. "
   ]
  },
  {
   "cell_type": "markdown",
   "metadata": {
    "collapsed": true
   },
   "source": [
    "### Q5 Is there a relation between the race of the patient and SAH score ?\n",
    "#### KEY:\n",
    "1-White;\n",
    "2-Black;\n",
    "3-Hispanic;\n",
    "4-Asian;\n",
    "0-Other\n",
    "\n",
    "The there are 6 race values in the data (there are only 5 listed above). Also the race IDs start at 1 in the data."
   ]
  },
  {
   "cell_type": "code",
   "execution_count": 54,
   "metadata": {
    "collapsed": false
   },
   "outputs": [
    {
     "data": {
      "text/html": [
       "<div>\n",
       "<table border=\"1\" class=\"dataframe\">\n",
       "  <thead>\n",
       "    <tr style=\"text-align: right;\">\n",
       "      <th>RACE</th>\n",
       "      <th>1.0</th>\n",
       "      <th>2.0</th>\n",
       "      <th>3.0</th>\n",
       "      <th>4.0</th>\n",
       "      <th>5.0</th>\n",
       "      <th>6.0</th>\n",
       "    </tr>\n",
       "    <tr>\n",
       "      <th>SCORE</th>\n",
       "      <th></th>\n",
       "      <th></th>\n",
       "      <th></th>\n",
       "      <th></th>\n",
       "      <th></th>\n",
       "      <th></th>\n",
       "    </tr>\n",
       "  </thead>\n",
       "  <tbody>\n",
       "    <tr>\n",
       "      <th>0.298197</th>\n",
       "      <td>280</td>\n",
       "      <td>82</td>\n",
       "      <td>115</td>\n",
       "      <td>52</td>\n",
       "      <td>2</td>\n",
       "      <td>38</td>\n",
       "    </tr>\n",
       "    <tr>\n",
       "      <th>0.463013</th>\n",
       "      <td>2</td>\n",
       "      <td>1</td>\n",
       "      <td>3</td>\n",
       "      <td>1</td>\n",
       "      <td>0</td>\n",
       "      <td>2</td>\n",
       "    </tr>\n",
       "    <tr>\n",
       "      <th>0.774142</th>\n",
       "      <td>0</td>\n",
       "      <td>0</td>\n",
       "      <td>0</td>\n",
       "      <td>3</td>\n",
       "      <td>0</td>\n",
       "      <td>0</td>\n",
       "    </tr>\n",
       "    <tr>\n",
       "      <th>0.932394</th>\n",
       "      <td>11747</td>\n",
       "      <td>2277</td>\n",
       "      <td>4400</td>\n",
       "      <td>1438</td>\n",
       "      <td>41</td>\n",
       "      <td>1075</td>\n",
       "    </tr>\n",
       "    <tr>\n",
       "      <th>1.447735</th>\n",
       "      <td>177</td>\n",
       "      <td>37</td>\n",
       "      <td>59</td>\n",
       "      <td>28</td>\n",
       "      <td>2</td>\n",
       "      <td>16</td>\n",
       "    </tr>\n",
       "    <tr>\n",
       "      <th>1.558931</th>\n",
       "      <td>0</td>\n",
       "      <td>1</td>\n",
       "      <td>0</td>\n",
       "      <td>0</td>\n",
       "      <td>0</td>\n",
       "      <td>0</td>\n",
       "    </tr>\n",
       "    <tr>\n",
       "      <th>1.750672</th>\n",
       "      <td>2</td>\n",
       "      <td>0</td>\n",
       "      <td>0</td>\n",
       "      <td>0</td>\n",
       "      <td>0</td>\n",
       "      <td>2</td>\n",
       "    </tr>\n",
       "    <tr>\n",
       "      <th>2.225541</th>\n",
       "      <td>122</td>\n",
       "      <td>35</td>\n",
       "      <td>37</td>\n",
       "      <td>15</td>\n",
       "      <td>1</td>\n",
       "      <td>16</td>\n",
       "    </tr>\n",
       "    <tr>\n",
       "      <th>2.420563</th>\n",
       "      <td>20</td>\n",
       "      <td>6</td>\n",
       "      <td>13</td>\n",
       "      <td>4</td>\n",
       "      <td>0</td>\n",
       "      <td>2</td>\n",
       "    </tr>\n",
       "    <tr>\n",
       "      <th>3.455614</th>\n",
       "      <td>0</td>\n",
       "      <td>1</td>\n",
       "      <td>0</td>\n",
       "      <td>0</td>\n",
       "      <td>0</td>\n",
       "      <td>0</td>\n",
       "    </tr>\n",
       "    <tr>\n",
       "      <th>5.473947</th>\n",
       "      <td>252</td>\n",
       "      <td>25</td>\n",
       "      <td>69</td>\n",
       "      <td>54</td>\n",
       "      <td>0</td>\n",
       "      <td>19</td>\n",
       "    </tr>\n",
       "    <tr>\n",
       "      <th>6.958751</th>\n",
       "      <td>5814</td>\n",
       "      <td>1342</td>\n",
       "      <td>2190</td>\n",
       "      <td>882</td>\n",
       "      <td>34</td>\n",
       "      <td>575</td>\n",
       "    </tr>\n",
       "    <tr>\n",
       "      <th>8.499436</th>\n",
       "      <td>6</td>\n",
       "      <td>1</td>\n",
       "      <td>0</td>\n",
       "      <td>1</td>\n",
       "      <td>0</td>\n",
       "      <td>0</td>\n",
       "    </tr>\n",
       "    <tr>\n",
       "      <th>10.804901</th>\n",
       "      <td>69</td>\n",
       "      <td>16</td>\n",
       "      <td>24</td>\n",
       "      <td>14</td>\n",
       "      <td>2</td>\n",
       "      <td>6</td>\n",
       "    </tr>\n",
       "    <tr>\n",
       "      <th>13.065824</th>\n",
       "      <td>28</td>\n",
       "      <td>6</td>\n",
       "      <td>9</td>\n",
       "      <td>7</td>\n",
       "      <td>0</td>\n",
       "      <td>5</td>\n",
       "    </tr>\n",
       "    <tr>\n",
       "      <th>14.210769</th>\n",
       "      <td>0</td>\n",
       "      <td>1</td>\n",
       "      <td>0</td>\n",
       "      <td>0</td>\n",
       "      <td>0</td>\n",
       "      <td>0</td>\n",
       "    </tr>\n",
       "    <tr>\n",
       "      <th>18.065428</th>\n",
       "      <td>11</td>\n",
       "      <td>5</td>\n",
       "      <td>2</td>\n",
       "      <td>1</td>\n",
       "      <td>0</td>\n",
       "      <td>2</td>\n",
       "    </tr>\n",
       "    <tr>\n",
       "      <th>40.853809</th>\n",
       "      <td>1329</td>\n",
       "      <td>306</td>\n",
       "      <td>518</td>\n",
       "      <td>276</td>\n",
       "      <td>10</td>\n",
       "      <td>131</td>\n",
       "    </tr>\n",
       "    <tr>\n",
       "      <th>63.434006</th>\n",
       "      <td>14</td>\n",
       "      <td>4</td>\n",
       "      <td>9</td>\n",
       "      <td>2</td>\n",
       "      <td>0</td>\n",
       "      <td>0</td>\n",
       "    </tr>\n",
       "    <tr>\n",
       "      <th>106.059479</th>\n",
       "      <td>2</td>\n",
       "      <td>1</td>\n",
       "      <td>1</td>\n",
       "      <td>0</td>\n",
       "      <td>0</td>\n",
       "      <td>0</td>\n",
       "    </tr>\n",
       "  </tbody>\n",
       "</table>\n",
       "</div>"
      ],
      "text/plain": [
       "RACE          1.0   2.0   3.0   4.0  5.0   6.0\n",
       "SCORE                                         \n",
       "0.298197      280    82   115    52    2    38\n",
       "0.463013        2     1     3     1    0     2\n",
       "0.774142        0     0     0     3    0     0\n",
       "0.932394    11747  2277  4400  1438   41  1075\n",
       "1.447735      177    37    59    28    2    16\n",
       "1.558931        0     1     0     0    0     0\n",
       "1.750672        2     0     0     0    0     2\n",
       "2.225541      122    35    37    15    1    16\n",
       "2.420563       20     6    13     4    0     2\n",
       "3.455614        0     1     0     0    0     0\n",
       "5.473947      252    25    69    54    0    19\n",
       "6.958751     5814  1342  2190   882   34   575\n",
       "8.499436        6     1     0     1    0     0\n",
       "10.804901      69    16    24    14    2     6\n",
       "13.065824      28     6     9     7    0     5\n",
       "14.210769       0     1     0     0    0     0\n",
       "18.065428      11     5     2     1    0     2\n",
       "40.853809    1329   306   518   276   10   131\n",
       "63.434006      14     4     9     2    0     0\n",
       "106.059479      2     1     1     0    0     0"
      ]
     },
     "execution_count": 54,
     "metadata": {},
     "output_type": "execute_result"
    }
   ],
   "source": [
    "ctRACE = pd.crosstab(allStateData.SCORE,allStateData.RACE); ctRACE"
   ]
  },
  {
   "cell_type": "code",
   "execution_count": 55,
   "metadata": {
    "collapsed": false
   },
   "outputs": [
    {
     "data": {
      "text/html": [
       "<div>\n",
       "<table border=\"1\" class=\"dataframe\">\n",
       "  <thead>\n",
       "    <tr style=\"text-align: right;\">\n",
       "      <th>RACE</th>\n",
       "      <th>1.0</th>\n",
       "      <th>2.0</th>\n",
       "      <th>3.0</th>\n",
       "      <th>4.0</th>\n",
       "      <th>5.0</th>\n",
       "      <th>6.0</th>\n",
       "    </tr>\n",
       "    <tr>\n",
       "      <th>SCORE</th>\n",
       "      <th></th>\n",
       "      <th></th>\n",
       "      <th></th>\n",
       "      <th></th>\n",
       "      <th></th>\n",
       "      <th></th>\n",
       "    </tr>\n",
       "  </thead>\n",
       "  <tbody>\n",
       "    <tr>\n",
       "      <th>0.298197</th>\n",
       "      <td>0.014088</td>\n",
       "      <td>0.019773</td>\n",
       "      <td>0.015438</td>\n",
       "      <td>0.018719</td>\n",
       "      <td>0.021739</td>\n",
       "      <td>0.020116</td>\n",
       "    </tr>\n",
       "    <tr>\n",
       "      <th>0.463013</th>\n",
       "      <td>0.000101</td>\n",
       "      <td>0.000241</td>\n",
       "      <td>0.000403</td>\n",
       "      <td>0.000360</td>\n",
       "      <td>0.000000</td>\n",
       "      <td>0.001059</td>\n",
       "    </tr>\n",
       "    <tr>\n",
       "      <th>0.774142</th>\n",
       "      <td>0.000000</td>\n",
       "      <td>0.000000</td>\n",
       "      <td>0.000000</td>\n",
       "      <td>0.001080</td>\n",
       "      <td>0.000000</td>\n",
       "      <td>0.000000</td>\n",
       "    </tr>\n",
       "    <tr>\n",
       "      <th>0.932394</th>\n",
       "      <td>0.591044</td>\n",
       "      <td>0.549072</td>\n",
       "      <td>0.590683</td>\n",
       "      <td>0.517639</td>\n",
       "      <td>0.445652</td>\n",
       "      <td>0.569084</td>\n",
       "    </tr>\n",
       "    <tr>\n",
       "      <th>1.447735</th>\n",
       "      <td>0.008906</td>\n",
       "      <td>0.008922</td>\n",
       "      <td>0.007921</td>\n",
       "      <td>0.010079</td>\n",
       "      <td>0.021739</td>\n",
       "      <td>0.008470</td>\n",
       "    </tr>\n",
       "    <tr>\n",
       "      <th>1.558931</th>\n",
       "      <td>0.000000</td>\n",
       "      <td>0.000241</td>\n",
       "      <td>0.000000</td>\n",
       "      <td>0.000000</td>\n",
       "      <td>0.000000</td>\n",
       "      <td>0.000000</td>\n",
       "    </tr>\n",
       "    <tr>\n",
       "      <th>1.750672</th>\n",
       "      <td>0.000101</td>\n",
       "      <td>0.000000</td>\n",
       "      <td>0.000000</td>\n",
       "      <td>0.000000</td>\n",
       "      <td>0.000000</td>\n",
       "      <td>0.001059</td>\n",
       "    </tr>\n",
       "    <tr>\n",
       "      <th>2.225541</th>\n",
       "      <td>0.006138</td>\n",
       "      <td>0.008440</td>\n",
       "      <td>0.004967</td>\n",
       "      <td>0.005400</td>\n",
       "      <td>0.010870</td>\n",
       "      <td>0.008470</td>\n",
       "    </tr>\n",
       "    <tr>\n",
       "      <th>2.420563</th>\n",
       "      <td>0.001006</td>\n",
       "      <td>0.001447</td>\n",
       "      <td>0.001745</td>\n",
       "      <td>0.001440</td>\n",
       "      <td>0.000000</td>\n",
       "      <td>0.001059</td>\n",
       "    </tr>\n",
       "    <tr>\n",
       "      <th>3.455614</th>\n",
       "      <td>0.000000</td>\n",
       "      <td>0.000241</td>\n",
       "      <td>0.000000</td>\n",
       "      <td>0.000000</td>\n",
       "      <td>0.000000</td>\n",
       "      <td>0.000000</td>\n",
       "    </tr>\n",
       "    <tr>\n",
       "      <th>5.473947</th>\n",
       "      <td>0.012679</td>\n",
       "      <td>0.006028</td>\n",
       "      <td>0.009263</td>\n",
       "      <td>0.019438</td>\n",
       "      <td>0.000000</td>\n",
       "      <td>0.010058</td>\n",
       "    </tr>\n",
       "    <tr>\n",
       "      <th>6.958751</th>\n",
       "      <td>0.292528</td>\n",
       "      <td>0.323607</td>\n",
       "      <td>0.293999</td>\n",
       "      <td>0.317495</td>\n",
       "      <td>0.369565</td>\n",
       "      <td>0.304394</td>\n",
       "    </tr>\n",
       "    <tr>\n",
       "      <th>8.499436</th>\n",
       "      <td>0.000302</td>\n",
       "      <td>0.000241</td>\n",
       "      <td>0.000000</td>\n",
       "      <td>0.000360</td>\n",
       "      <td>0.000000</td>\n",
       "      <td>0.000000</td>\n",
       "    </tr>\n",
       "    <tr>\n",
       "      <th>10.804901</th>\n",
       "      <td>0.003472</td>\n",
       "      <td>0.003858</td>\n",
       "      <td>0.003222</td>\n",
       "      <td>0.005040</td>\n",
       "      <td>0.021739</td>\n",
       "      <td>0.003176</td>\n",
       "    </tr>\n",
       "    <tr>\n",
       "      <th>13.065824</th>\n",
       "      <td>0.001409</td>\n",
       "      <td>0.001447</td>\n",
       "      <td>0.001208</td>\n",
       "      <td>0.002520</td>\n",
       "      <td>0.000000</td>\n",
       "      <td>0.002647</td>\n",
       "    </tr>\n",
       "    <tr>\n",
       "      <th>14.210769</th>\n",
       "      <td>0.000000</td>\n",
       "      <td>0.000241</td>\n",
       "      <td>0.000000</td>\n",
       "      <td>0.000000</td>\n",
       "      <td>0.000000</td>\n",
       "      <td>0.000000</td>\n",
       "    </tr>\n",
       "    <tr>\n",
       "      <th>18.065428</th>\n",
       "      <td>0.000553</td>\n",
       "      <td>0.001206</td>\n",
       "      <td>0.000268</td>\n",
       "      <td>0.000360</td>\n",
       "      <td>0.000000</td>\n",
       "      <td>0.001059</td>\n",
       "    </tr>\n",
       "    <tr>\n",
       "      <th>40.853809</th>\n",
       "      <td>0.066868</td>\n",
       "      <td>0.073788</td>\n",
       "      <td>0.069540</td>\n",
       "      <td>0.099352</td>\n",
       "      <td>0.108696</td>\n",
       "      <td>0.069349</td>\n",
       "    </tr>\n",
       "    <tr>\n",
       "      <th>63.434006</th>\n",
       "      <td>0.000704</td>\n",
       "      <td>0.000965</td>\n",
       "      <td>0.001208</td>\n",
       "      <td>0.000720</td>\n",
       "      <td>0.000000</td>\n",
       "      <td>0.000000</td>\n",
       "    </tr>\n",
       "    <tr>\n",
       "      <th>106.059479</th>\n",
       "      <td>0.000101</td>\n",
       "      <td>0.000241</td>\n",
       "      <td>0.000134</td>\n",
       "      <td>0.000000</td>\n",
       "      <td>0.000000</td>\n",
       "      <td>0.000000</td>\n",
       "    </tr>\n",
       "  </tbody>\n",
       "</table>\n",
       "</div>"
      ],
      "text/plain": [
       "RACE             1.0       2.0       3.0       4.0       5.0       6.0\n",
       "SCORE                                                                 \n",
       "0.298197    0.014088  0.019773  0.015438  0.018719  0.021739  0.020116\n",
       "0.463013    0.000101  0.000241  0.000403  0.000360  0.000000  0.001059\n",
       "0.774142    0.000000  0.000000  0.000000  0.001080  0.000000  0.000000\n",
       "0.932394    0.591044  0.549072  0.590683  0.517639  0.445652  0.569084\n",
       "1.447735    0.008906  0.008922  0.007921  0.010079  0.021739  0.008470\n",
       "1.558931    0.000000  0.000241  0.000000  0.000000  0.000000  0.000000\n",
       "1.750672    0.000101  0.000000  0.000000  0.000000  0.000000  0.001059\n",
       "2.225541    0.006138  0.008440  0.004967  0.005400  0.010870  0.008470\n",
       "2.420563    0.001006  0.001447  0.001745  0.001440  0.000000  0.001059\n",
       "3.455614    0.000000  0.000241  0.000000  0.000000  0.000000  0.000000\n",
       "5.473947    0.012679  0.006028  0.009263  0.019438  0.000000  0.010058\n",
       "6.958751    0.292528  0.323607  0.293999  0.317495  0.369565  0.304394\n",
       "8.499436    0.000302  0.000241  0.000000  0.000360  0.000000  0.000000\n",
       "10.804901   0.003472  0.003858  0.003222  0.005040  0.021739  0.003176\n",
       "13.065824   0.001409  0.001447  0.001208  0.002520  0.000000  0.002647\n",
       "14.210769   0.000000  0.000241  0.000000  0.000000  0.000000  0.000000\n",
       "18.065428   0.000553  0.001206  0.000268  0.000360  0.000000  0.001059\n",
       "40.853809   0.066868  0.073788  0.069540  0.099352  0.108696  0.069349\n",
       "63.434006   0.000704  0.000965  0.001208  0.000720  0.000000  0.000000\n",
       "106.059479  0.000101  0.000241  0.000134  0.000000  0.000000  0.000000"
      ]
     },
     "execution_count": 55,
     "metadata": {},
     "output_type": "execute_result"
    }
   ],
   "source": [
    "pd.crosstab(allStateData.SCORE,allStateData.RACE).apply(lambda x: x/x.sum()) # percentages"
   ]
  },
  {
   "cell_type": "code",
   "execution_count": 56,
   "metadata": {
    "collapsed": false
   },
   "outputs": [
    {
     "name": "stdout",
     "output_type": "stream",
     "text": [
      "p-value:  3.69055252772e-17\n"
     ]
    }
   ],
   "source": [
    "p_val = stats.chi2_contingency(ctRACE)[1]\n",
    "print \"p-value: \", p_val  "
   ]
  },
  {
   "cell_type": "markdown",
   "metadata": {},
   "source": [
    "P-value < 0.01 so there are difference in the scores between the various races. "
   ]
  },
  {
   "cell_type": "code",
   "execution_count": 57,
   "metadata": {
    "collapsed": false
   },
   "outputs": [
    {
     "data": {
      "text/plain": [
       "RACE\n",
       "1.0    5.545185\n",
       "2.0    6.028415\n",
       "3.0    5.666142\n",
       "4.0    7.036609\n",
       "5.0    7.724902\n",
       "6.0    5.667084\n",
       "Name: SCORE, dtype: float64"
      ]
     },
     "execution_count": 57,
     "metadata": {},
     "output_type": "execute_result"
    }
   ],
   "source": [
    "# These are the mean scores for each race\n",
    "allStateData.groupby('RACE')['SCORE'].mean()"
   ]
  },
  {
   "cell_type": "markdown",
   "metadata": {},
   "source": [
    "As we can see there is a clear difference in the means. We perform a ANOVA to test the statistical significance of this difference. "
   ]
  },
  {
   "cell_type": "code",
   "execution_count": 58,
   "metadata": {
    "collapsed": false
   },
   "outputs": [],
   "source": [
    "race_1 = allStateData[allStateData.RACE == 1].SCORE;  race_2 = allStateData[allStateData.RACE == 2].SCORE;\n",
    "race_3 = allStateData[allStateData.RACE == 3].SCORE;  race_4 = allStateData[allStateData.RACE == 4].SCORE;\n",
    "race_5 = allStateData[allStateData.RACE == 5].SCORE;  race_6 = allStateData[allStateData.RACE == 6].SCORE; \n",
    "racesLst = [allStateData[allStateData.RACE == x].SCORE for x in range(1,7)]"
   ]
  },
  {
   "cell_type": "code",
   "execution_count": 59,
   "metadata": {
    "collapsed": false
   },
   "outputs": [
    {
     "data": {
      "text/plain": [
       "F_onewayResult(statistic=11.666526608046929, pvalue=2.7430732442263212e-11)"
      ]
     },
     "execution_count": 59,
     "metadata": {},
     "output_type": "execute_result"
    }
   ],
   "source": [
    "stats.f_oneway(race_1, race_2, race_3, race_4, race_5, race_6)"
   ]
  },
  {
   "cell_type": "markdown",
   "metadata": {},
   "source": [
    "The p-value < 0.01 indicates a significant ANOVA, i.e., the means are different.\n",
    "Let us now compare each race with the other to see the results."
   ]
  },
  {
   "cell_type": "code",
   "execution_count": 60,
   "metadata": {
    "collapsed": false
   },
   "outputs": [],
   "source": [
    "from statsmodels.stats.weightstats import ttest_ind\n",
    "pVals = {}\n",
    "for race_i in range(len(racesLst)):\n",
    "    for race_j in range(len(racesLst)):\n",
    "        if race_i == race_j: continue\n",
    "        else:\n",
    "            pVals[(race_i+1,race_j+1)] = ttest_ind(racesLst[race_i],racesLst[race_j], 'larger')[1]"
   ]
  },
  {
   "cell_type": "code",
   "execution_count": 61,
   "metadata": {
    "collapsed": false
   },
   "outputs": [
    {
     "data": {
      "text/plain": [
       "{(1, 2): 0.99740379078161834,\n",
       " (1, 3): 0.81071709311802609,\n",
       " (1, 4): 0.99999999999963596,\n",
       " (1, 5): 0.98103037236755886,\n",
       " (1, 6): 0.69299736631358111,\n",
       " (2, 1): 0.0025962092183816361,\n",
       " (2, 3): 0.03590336251107714,\n",
       " (2, 4): 0.99990443805822371,\n",
       " (2, 5): 0.93605647036930439,\n",
       " (2, 6): 0.10488508807033055,\n",
       " (3, 1): 0.18928290688197391,\n",
       " (3, 2): 0.96409663748892283,\n",
       " (3, 4): 0.99999999572908282,\n",
       " (3, 5): 0.97134820501396901,\n",
       " (3, 6): 0.50142372867481899,\n",
       " (4, 1): 3.6398618969155618e-13,\n",
       " (4, 2): 9.5561941776298889e-05,\n",
       " (4, 3): 4.27091718648795e-09,\n",
       " (4, 5): 0.71042461789641864,\n",
       " (4, 6): 1.6533399704889659e-05,\n",
       " (5, 1): 0.01896962763244112,\n",
       " (5, 2): 0.063943529630695578,\n",
       " (5, 3): 0.028651794986030991,\n",
       " (5, 4): 0.28957538210358141,\n",
       " (5, 6): 0.028525690626844659,\n",
       " (6, 1): 0.30700263368641889,\n",
       " (6, 2): 0.89511491192966952,\n",
       " (6, 3): 0.49857627132518095,\n",
       " (6, 4): 0.99998346660029513,\n",
       " (6, 5): 0.97147430937315538}"
      ]
     },
     "execution_count": 61,
     "metadata": {},
     "output_type": "execute_result"
    }
   ],
   "source": [
    "pVals"
   ]
  },
  {
   "cell_type": "markdown",
   "metadata": {},
   "source": [
    "**Conclusions**\n",
    "\n",
    "As seen from the p-values: The following conclusions can be drawn: (using alpha of 0.01)\n",
    "- race2 has higher mean than race1\n",
    "- race4 has higher mean than race1\n",
    "- race4 has higher mean than race2\n",
    "- race4 has higher mean than race3\n",
    "- race4 has higher mean than race6\n",
    "- race5 has higher mean than race1"
   ]
  },
  {
   "cell_type": "markdown",
   "metadata": {},
   "source": [
    "### Q6 Is there a relation between the age of the patient and SAH score ?"
   ]
  },
  {
   "cell_type": "code",
   "execution_count": 62,
   "metadata": {
    "collapsed": false
   },
   "outputs": [
    {
     "data": {
      "text/plain": [
       "(array([   65.,   539.,  1615.,  4169.,  9376.,  8668.,  6186.,  4747.,\n",
       "          849.,    16.]),\n",
       " array([   0. ,   11.1,   22.2,   33.3,   44.4,   55.5,   66.6,   77.7,\n",
       "          88.8,   99.9,  111. ]),\n",
       " <a list of 10 Patch objects>)"
      ]
     },
     "execution_count": 62,
     "metadata": {},
     "output_type": "execute_result"
    },
    {
     "data": {
      "image/png": "[encoded data removed]",
      "text/plain": [
       "<matplotlib.figure.Figure at 0x11663c410>"
      ]
     },
     "metadata": {},
     "output_type": "display_data"
    }
   ],
   "source": [
    "# distribution of age values in the data\n",
    "plt.hist(allStateData.AGE)"
   ]
  },
  {
   "cell_type": "markdown",
   "metadata": {},
   "source": [
    "let us take a look at the correlation between the AGE of the patient and his/her score"
   ]
  },
  {
   "cell_type": "code",
   "execution_count": 63,
   "metadata": {
    "collapsed": false
   },
   "outputs": [
    {
     "data": {
      "text/plain": [
       "0.037332795129763889"
      ]
     },
     "execution_count": 63,
     "metadata": {},
     "output_type": "execute_result"
    }
   ],
   "source": [
    "stats.pearsonr(allStateData.AGE, allStateData.SCORE)[0]"
   ]
  },
  {
   "cell_type": "markdown",
   "metadata": {},
   "source": [
    "This indicates that there is really no correlation. But let us take a look at the means."
   ]
  },
  {
   "cell_type": "code",
   "execution_count": 64,
   "metadata": {
    "collapsed": false
   },
   "outputs": [
    {
     "data": {
      "image/png": "[encoded data removed]",
      "text/plain": [
       "<matplotlib.figure.Figure at 0x119688050>"
      ]
     },
     "metadata": {},
     "output_type": "display_data"
    }
   ],
   "source": [
    "# let us also look at how the (mean) score varies with age\n",
    "meanScoreByAge = allStateData.groupby('AGE')['SCORE'].mean()\n",
    "plt.scatter(meanScoreByAge.index, meanScoreByAge)\n",
    "plt.xlabel('age'); plt.ylabel('mean score')\n",
    "df_AgeScore = pd.DataFrame({'AGE':meanScoreByAge.index, 'SCORE':meanScoreByAge})"
   ]
  },
  {
   "cell_type": "markdown",
   "metadata": {},
   "source": [
    "Looking at this plot there seems to be a linear increase in the score going from 20 to 70 years and then a drop from 70 to 100 years. Let us take a look at the correlations for these ranges."
   ]
  },
  {
   "cell_type": "code",
   "execution_count": 65,
   "metadata": {
    "collapsed": false
   },
   "outputs": [
    {
     "data": {
      "text/plain": [
       "0.81234396723046531"
      ]
     },
     "execution_count": 65,
     "metadata": {},
     "output_type": "execute_result"
    }
   ],
   "source": [
    "# 20years to 70years\n",
    "age20_70 =df_AgeScore[(df_AgeScore.AGE>20) & (df_AgeScore.AGE<70)].AGE \n",
    "score20_70 = df_AgeScore[(df_AgeScore.AGE>20) & (df_AgeScore.AGE<70)].SCORE\n",
    "stats.pearsonr(age20_70, score20_70)[0]"
   ]
  },
  {
   "cell_type": "code",
   "execution_count": 66,
   "metadata": {
    "collapsed": false
   },
   "outputs": [
    {
     "data": {
      "text/plain": [
       "-0.62974811515403373"
      ]
     },
     "execution_count": 66,
     "metadata": {},
     "output_type": "execute_result"
    }
   ],
   "source": [
    "# 70years to 100years\n",
    "age70_100 =df_AgeScore[(df_AgeScore.AGE>70) & (df_AgeScore.AGE<100)].AGE\n",
    "score70_100 = df_AgeScore[(df_AgeScore.AGE>70) & (df_AgeScore.AGE<100)].SCORE\n",
    "stats.pearsonr(age70_100, score70_100)[0]"
   ]
  },
  {
   "cell_type": "markdown",
   "metadata": {},
   "source": [
    "Based on these values, we can conclude that there is some correaltion between age and score. In the 20 to 70 year group, there is a 81% correlation. And in the 70 to 100 year group there is a -63% correlation (decreasing)."
   ]
  },
  {
   "cell_type": "markdown",
   "metadata": {
    "collapsed": true
   },
   "source": [
    "Let us now conduct some hypothesis test on these values to check if they are statistically significant:"
   ]
  },
  {
   "cell_type": "code",
   "execution_count": 67,
   "metadata": {
    "collapsed": false
   },
   "outputs": [
    {
     "data": {
      "text/plain": [
       "1.3869377395118408e-12"
      ]
     },
     "execution_count": 67,
     "metadata": {},
     "output_type": "execute_result"
    }
   ],
   "source": [
    "# 20years to 70years\n",
    "stats.pearsonr(age20_70, score20_70)[1]"
   ]
  },
  {
   "cell_type": "code",
   "execution_count": 68,
   "metadata": {
    "collapsed": false
   },
   "outputs": [
    {
     "data": {
      "text/plain": [
       "0.00025171174106927653"
      ]
     },
     "execution_count": 68,
     "metadata": {},
     "output_type": "execute_result"
    }
   ],
   "source": [
    "# 70years to 100years\n",
    "stats.pearsonr(age70_100, score70_100)[1]"
   ]
  },
  {
   "cell_type": "markdown",
   "metadata": {},
   "source": [
    "From the above results we can see that both tests are significant using at $\\alpha$ of 0.05."
   ]
  }
 ],
 "metadata": {
  "kernelspec": {
   "display_name": "Python 2",
   "language": "python",
   "name": "python2"
  },
  "language_info": {
   "codemirror_mode": {
    "name": "ipython",
    "version": 2
   },
   "file_extension": ".py",
   "mimetype": "text/x-python",
   "name": "python",
   "nbconvert_exporter": "python",
   "pygments_lexer": "ipython2",
   "version": "2.7.11"
  }
 },
 "nbformat": 4,
 "nbformat_minor": 0
}
