{
 "cells": [
  {
   "cell_type": "code",
   "execution_count": 8,
   "metadata": {
    "collapsed": false
   },
   "outputs": [],
   "source": [
    "'''\n",
    "Author: Sriram Yarlagadda\n",
    "Date Created: 8/26/2016\n",
    "Note: Please use Python 2.7\n",
    "'''\n",
    "import os\n",
    "import numpy as np\n",
    "import pandas as pd\n",
    "import matplotlib.pyplot as plt\n",
    "%matplotlib inline\n",
    "os.chdir('C:\\Users\\syarlag1\\Desktop\\Loyola-SAH-Analysis') #Set location of home dir here.\n",
    "#os.chdir('/Users/Sriram/Desktop/DePaul/Loyola-SAH-Analysis')#location in Mac"
   ]
  },
  {
   "cell_type": "markdown",
   "metadata": {},
   "source": [
    "### Reading Data"
   ]
  },
  {
   "cell_type": "markdown",
   "metadata": {},
   "source": [
    "Only the variables needed are extracted. See the variable \"varLst\"."
   ]
  },
  {
   "cell_type": "code",
   "execution_count": 9,
   "metadata": {
    "collapsed": false
   },
   "outputs": [
    {
     "name": "stdout",
     "output_type": "stream",
     "text": [
      "CAData\n",
      "FLData\n",
      "IAData\n",
      "NYData\n",
      "WAData\n"
     ]
    }
   ],
   "source": [
    "os.chdir('./data')\n",
    "dataFiles = os.listdir('.')\n",
    "#Names of the variables we need\n",
    "varLst = ['KEY','LOS','DIED','AGE','SAH','ASA','RACE','PT_INT_SAH','PT_INT_SAH_ASA','SCORE','DISCHARGE_BAD','DISCHARGE_GOOD']\n",
    "fullDataDict = {}\n",
    "for fileName in dataFiles:\n",
    "    dataStr = fileName[:2] + 'Data'; print dataStr #print to confirm that the data is created\n",
    "    fullDataDict[dataStr] = pd.DataFrame()\n",
    "    fullDataDict[dataStr] = pd.read_stata(fileName, columns=varLst)\n",
    "    fullDataDict[dataStr]['KEY'] = fullDataDict[dataStr]['KEY'].astype(str)#Setting the KEY variable as an object   \n",
    "    #fullDataDict[dataStr].index = fullDataDict[dataStr]['KEY']; del fullDataDict[dataStr]['KEY'] #Setting 'KEY' as index"
   ]
  },
  {
   "cell_type": "code",
   "execution_count": 10,
   "metadata": {
    "collapsed": false
   },
   "outputs": [],
   "source": [
    "for key in fullDataDict.keys(): #creating a new state identifier column\n",
    "    fullDataDict[key]['State'] = pd.Series([str(key)[:2]]*fullDataDict[key].shape[0])\n",
    "allStateData = pd.concat(fullDataDict.values()) #combing into a single dataframe\n",
    "allStateData.index = range(allStateData.shape[0])"
   ]
  },
  {
   "cell_type": "markdown",
   "metadata": {},
   "source": [
    "### Data Preprocessing"
   ]
  },
  {
   "cell_type": "code",
   "execution_count": 13,
   "metadata": {
    "collapsed": false
   },
   "outputs": [
    {
     "data": {
      "text/html": [
       "<div>\n",
       "<table border=\"1\" class=\"dataframe\">\n",
       "  <thead>\n",
       "    <tr style=\"text-align: right;\">\n",
       "      <th></th>\n",
       "      <th>LOS</th>\n",
       "      <th>DIED</th>\n",
       "      <th>AGE</th>\n",
       "      <th>SAH</th>\n",
       "      <th>ASA</th>\n",
       "      <th>RACE</th>\n",
       "      <th>PT_INT_SAH</th>\n",
       "      <th>PT_INT_SAH_ASA</th>\n",
       "      <th>SCORE</th>\n",
       "      <th>DISCHARGE_BAD</th>\n",
       "      <th>DISCHARGE_GOOD</th>\n",
       "    </tr>\n",
       "  </thead>\n",
       "  <tbody>\n",
       "    <tr>\n",
       "      <th>count</th>\n",
       "      <td>38307.000000</td>\n",
       "      <td>38304.000000</td>\n",
       "      <td>38231.000000</td>\n",
       "      <td>38310.0</td>\n",
       "      <td>38310.000000</td>\n",
       "      <td>36941.000000</td>\n",
       "      <td>38310.0</td>\n",
       "      <td>38310.000000</td>\n",
       "      <td>38310.000000</td>\n",
       "      <td>38310.000000</td>\n",
       "      <td>38310.000000</td>\n",
       "    </tr>\n",
       "    <tr>\n",
       "      <th>mean</th>\n",
       "      <td>12.153001</td>\n",
       "      <td>0.204626</td>\n",
       "      <td>58.659569</td>\n",
       "      <td>1.0</td>\n",
       "      <td>0.033908</td>\n",
       "      <td>1.839149</td>\n",
       "      <td>1.0</td>\n",
       "      <td>0.033908</td>\n",
       "      <td>5.732522</td>\n",
       "      <td>0.053850</td>\n",
       "      <td>0.301566</td>\n",
       "    </tr>\n",
       "    <tr>\n",
       "      <th>std</th>\n",
       "      <td>37.072215</td>\n",
       "      <td>0.406335</td>\n",
       "      <td>16.465707</td>\n",
       "      <td>0.0</td>\n",
       "      <td>0.180971</td>\n",
       "      <td>1.980743</td>\n",
       "      <td>0.0</td>\n",
       "      <td>0.180971</td>\n",
       "      <td>10.280618</td>\n",
       "      <td>0.225772</td>\n",
       "      <td>0.458856</td>\n",
       "    </tr>\n",
       "    <tr>\n",
       "      <th>min</th>\n",
       "      <td>-6666.000000</td>\n",
       "      <td>-9.000000</td>\n",
       "      <td>0.000000</td>\n",
       "      <td>1.0</td>\n",
       "      <td>0.000000</td>\n",
       "      <td>-9.000000</td>\n",
       "      <td>1.0</td>\n",
       "      <td>0.000000</td>\n",
       "      <td>0.298197</td>\n",
       "      <td>0.000000</td>\n",
       "      <td>0.000000</td>\n",
       "    </tr>\n",
       "    <tr>\n",
       "      <th>25%</th>\n",
       "      <td>3.000000</td>\n",
       "      <td>0.000000</td>\n",
       "      <td>48.000000</td>\n",
       "      <td>1.0</td>\n",
       "      <td>0.000000</td>\n",
       "      <td>1.000000</td>\n",
       "      <td>1.0</td>\n",
       "      <td>0.000000</td>\n",
       "      <td>0.932394</td>\n",
       "      <td>0.000000</td>\n",
       "      <td>0.000000</td>\n",
       "    </tr>\n",
       "    <tr>\n",
       "      <th>50%</th>\n",
       "      <td>9.000000</td>\n",
       "      <td>0.000000</td>\n",
       "      <td>58.000000</td>\n",
       "      <td>1.0</td>\n",
       "      <td>0.000000</td>\n",
       "      <td>1.000000</td>\n",
       "      <td>1.0</td>\n",
       "      <td>0.000000</td>\n",
       "      <td>0.932394</td>\n",
       "      <td>0.000000</td>\n",
       "      <td>0.000000</td>\n",
       "    </tr>\n",
       "    <tr>\n",
       "      <th>75%</th>\n",
       "      <td>17.000000</td>\n",
       "      <td>0.000000</td>\n",
       "      <td>71.000000</td>\n",
       "      <td>1.0</td>\n",
       "      <td>0.000000</td>\n",
       "      <td>3.000000</td>\n",
       "      <td>1.0</td>\n",
       "      <td>0.000000</td>\n",
       "      <td>6.958751</td>\n",
       "      <td>0.000000</td>\n",
       "      <td>1.000000</td>\n",
       "    </tr>\n",
       "    <tr>\n",
       "      <th>max</th>\n",
       "      <td>362.000000</td>\n",
       "      <td>1.000000</td>\n",
       "      <td>111.000000</td>\n",
       "      <td>1.0</td>\n",
       "      <td>1.000000</td>\n",
       "      <td>6.000000</td>\n",
       "      <td>1.0</td>\n",
       "      <td>1.000000</td>\n",
       "      <td>106.059479</td>\n",
       "      <td>1.000000</td>\n",
       "      <td>1.000000</td>\n",
       "    </tr>\n",
       "  </tbody>\n",
       "</table>\n",
       "</div>"
      ],
      "text/plain": [
       "                LOS          DIED           AGE      SAH           ASA  \\\n",
       "count  38307.000000  38304.000000  38231.000000  38310.0  38310.000000   \n",
       "mean      12.153001      0.204626     58.659569      1.0      0.033908   \n",
       "std       37.072215      0.406335     16.465707      0.0      0.180971   \n",
       "min    -6666.000000     -9.000000      0.000000      1.0      0.000000   \n",
       "25%        3.000000      0.000000     48.000000      1.0      0.000000   \n",
       "50%        9.000000      0.000000     58.000000      1.0      0.000000   \n",
       "75%       17.000000      0.000000     71.000000      1.0      0.000000   \n",
       "max      362.000000      1.000000    111.000000      1.0      1.000000   \n",
       "\n",
       "               RACE  PT_INT_SAH  PT_INT_SAH_ASA         SCORE  DISCHARGE_BAD  \\\n",
       "count  36941.000000     38310.0    38310.000000  38310.000000   38310.000000   \n",
       "mean       1.839149         1.0        0.033908      5.732522       0.053850   \n",
       "std        1.980743         0.0        0.180971     10.280618       0.225772   \n",
       "min       -9.000000         1.0        0.000000      0.298197       0.000000   \n",
       "25%        1.000000         1.0        0.000000      0.932394       0.000000   \n",
       "50%        1.000000         1.0        0.000000      0.932394       0.000000   \n",
       "75%        3.000000         1.0        0.000000      6.958751       0.000000   \n",
       "max        6.000000         1.0        1.000000    106.059479       1.000000   \n",
       "\n",
       "       DISCHARGE_GOOD  \n",
       "count    38310.000000  \n",
       "mean         0.301566  \n",
       "std          0.458856  \n",
       "min          0.000000  \n",
       "25%          0.000000  \n",
       "50%          0.000000  \n",
       "75%          1.000000  \n",
       "max          1.000000  "
      ]
     },
     "execution_count": 13,
     "metadata": {},
     "output_type": "execute_result"
    }
   ],
   "source": [
    "allStateData.describe()"
   ]
  },
  {
   "cell_type": "markdown",
   "metadata": {},
   "source": [
    "As we can see, there are some abberations. For example, the min of LOS is -6666, which is not possible. Hence we scan for other such outliers and remove the cases that correspond to them."
   ]
  },
  {
   "cell_type": "code",
   "execution_count": 14,
   "metadata": {
    "collapsed": false
   },
   "outputs": [
    {
     "data": {
      "text/plain": [
       "array([  0,   1,   1,   0,   0,   0, 630,   0,   0,   0,   0,   0,   0])"
      ]
     },
     "execution_count": 14,
     "metadata": {},
     "output_type": "execute_result"
    }
   ],
   "source": [
    "np.sum(np.array(allStateData < 0),0)"
   ]
  },
  {
   "cell_type": "markdown",
   "metadata": {},
   "source": [
    "As we can see from the above output, only two features -- LOS and DIED -- have negative values. We look at the cases that correspond to these:"
   ]
  },
  {
   "cell_type": "code",
   "execution_count": 15,
   "metadata": {
    "collapsed": false
   },
   "outputs": [
    {
     "data": {
      "text/html": [
       "<div>\n",
       "<table border=\"1\" class=\"dataframe\">\n",
       "  <thead>\n",
       "    <tr style=\"text-align: right;\">\n",
       "      <th></th>\n",
       "      <th>KEY</th>\n",
       "      <th>LOS</th>\n",
       "      <th>DIED</th>\n",
       "      <th>AGE</th>\n",
       "      <th>SAH</th>\n",
       "      <th>ASA</th>\n",
       "      <th>RACE</th>\n",
       "      <th>PT_INT_SAH</th>\n",
       "      <th>PT_INT_SAH_ASA</th>\n",
       "      <th>SCORE</th>\n",
       "      <th>DISCHARGE_BAD</th>\n",
       "      <th>DISCHARGE_GOOD</th>\n",
       "      <th>State</th>\n",
       "    </tr>\n",
       "  </thead>\n",
       "  <tbody>\n",
       "    <tr>\n",
       "      <th>35184</th>\n",
       "      <td>6.20061320052e+12</td>\n",
       "      <td>1.0</td>\n",
       "      <td>-9.0</td>\n",
       "      <td>46.0</td>\n",
       "      <td>1.0</td>\n",
       "      <td>0.0</td>\n",
       "      <td>1.0</td>\n",
       "      <td>1.0</td>\n",
       "      <td>0.0</td>\n",
       "      <td>6.958751</td>\n",
       "      <td>0.0</td>\n",
       "      <td>0.0</td>\n",
       "      <td>CA</td>\n",
       "    </tr>\n",
       "  </tbody>\n",
       "</table>\n",
       "</div>"
      ],
      "text/plain": [
       "                     KEY  LOS  DIED   AGE  SAH  ASA  RACE  PT_INT_SAH  \\\n",
       "35184  6.20061320052e+12  1.0  -9.0  46.0  1.0  0.0   1.0         1.0   \n",
       "\n",
       "       PT_INT_SAH_ASA     SCORE  DISCHARGE_BAD  DISCHARGE_GOOD State  \n",
       "35184             0.0  6.958751            0.0             0.0    CA  "
      ]
     },
     "execution_count": 15,
     "metadata": {},
     "output_type": "execute_result"
    }
   ],
   "source": [
    "allStateData[allStateData['DIED'] < 0]"
   ]
  },
  {
   "cell_type": "code",
   "execution_count": 16,
   "metadata": {
    "collapsed": false
   },
   "outputs": [
    {
     "data": {
      "text/html": [
       "<div>\n",
       "<table border=\"1\" class=\"dataframe\">\n",
       "  <thead>\n",
       "    <tr style=\"text-align: right;\">\n",
       "      <th></th>\n",
       "      <th>KEY</th>\n",
       "      <th>LOS</th>\n",
       "      <th>DIED</th>\n",
       "      <th>AGE</th>\n",
       "      <th>SAH</th>\n",
       "      <th>ASA</th>\n",
       "      <th>RACE</th>\n",
       "      <th>PT_INT_SAH</th>\n",
       "      <th>PT_INT_SAH_ASA</th>\n",
       "      <th>SCORE</th>\n",
       "      <th>DISCHARGE_BAD</th>\n",
       "      <th>DISCHARGE_GOOD</th>\n",
       "      <th>State</th>\n",
       "    </tr>\n",
       "  </thead>\n",
       "  <tbody>\n",
       "    <tr>\n",
       "      <th>24598</th>\n",
       "      <td>6.20061082797e+12</td>\n",
       "      <td>-6666.0</td>\n",
       "      <td>0.0</td>\n",
       "      <td>67.0</td>\n",
       "      <td>1.0</td>\n",
       "      <td>0.0</td>\n",
       "      <td>4.0</td>\n",
       "      <td>1.0</td>\n",
       "      <td>0.0</td>\n",
       "      <td>5.473947</td>\n",
       "      <td>0.0</td>\n",
       "      <td>0.0</td>\n",
       "      <td>CA</td>\n",
       "    </tr>\n",
       "  </tbody>\n",
       "</table>\n",
       "</div>"
      ],
      "text/plain": [
       "                     KEY     LOS  DIED   AGE  SAH  ASA  RACE  PT_INT_SAH  \\\n",
       "24598  6.20061082797e+12 -6666.0   0.0  67.0  1.0  0.0   4.0         1.0   \n",
       "\n",
       "       PT_INT_SAH_ASA     SCORE  DISCHARGE_BAD  DISCHARGE_GOOD State  \n",
       "24598             0.0  5.473947            0.0             0.0    CA  "
      ]
     },
     "execution_count": 16,
     "metadata": {},
     "output_type": "execute_result"
    }
   ],
   "source": [
    "allStateData[allStateData['LOS'] < 0]"
   ]
  },
  {
   "cell_type": "code",
   "execution_count": 18,
   "metadata": {
    "collapsed": false
   },
   "outputs": [],
   "source": [
    "allStateData[allStateData['RACE'] < 0]; # not showing output (630 cases)"
   ]
  },
  {
   "cell_type": "code",
   "execution_count": 19,
   "metadata": {
    "collapsed": false
   },
   "outputs": [
    {
     "data": {
      "text/plain": [
       "array([   0,    3,    6,   79,    0,    0, 1369,    0,    0,    0,    0,\n",
       "          0,    0])"
      ]
     },
     "execution_count": 19,
     "metadata": {},
     "output_type": "execute_result"
    }
   ],
   "source": [
    "np.sum(np.array(pd.isnull(allStateData)),0)"
   ]
  },
  {
   "cell_type": "markdown",
   "metadata": {},
   "source": [
    "There are **1457** missing values in our data."
   ]
  },
  {
   "cell_type": "markdown",
   "metadata": {},
   "source": [
    "We remove all cases which have such outliers:"
   ]
  },
  {
   "cell_type": "code",
   "execution_count": 20,
   "metadata": {
    "collapsed": false
   },
   "outputs": [],
   "source": [
    "for feature in allStateData.columns: \n",
    "    allStateData = allStateData[allStateData[feature] >= 0] #removing all the cases that are less than 0 (only 2 in our case)"
   ]
  },
  {
   "cell_type": "code",
   "execution_count": 21,
   "metadata": {
    "collapsed": true
   },
   "outputs": [],
   "source": [
    "os.chdir('./..') \n",
    "allStateData.to_csv('./allStateData.csv') #saving entire file for easy future access"
   ]
  },
  {
   "cell_type": "markdown",
   "metadata": {},
   "source": [
    "### Data Exploration\n",
    "\n",
    "In this section we first look at how the cases are distributed by STATE and ASA status and then we visualize the relation between the SCORE, DIED, and LOS variables and the ASA status (0 or 1)"
   ]
  },
  {
   "cell_type": "code",
   "execution_count": 22,
   "metadata": {
    "collapsed": false
   },
   "outputs": [],
   "source": [
    "allStateData = pd.read_csv('./allStateData.csv')#ignore this if running script from top"
   ]
  },
  {
   "cell_type": "markdown",
   "metadata": {},
   "source": [
    "#### First we look at the distribution of the case counts by State and ASA status\n",
    "\n",
    "**NOTE:** Since we are including the race variable, which has a lot of NaNs, we will have slightly different results from the previous analysis. None of the conclusion have changed. "
   ]
  },
  {
   "cell_type": "markdown",
   "metadata": {},
   "source": [
    "Taking a look at the number of cases by state:"
   ]
  },
  {
   "cell_type": "code",
   "execution_count": 24,
   "metadata": {
    "collapsed": false
   },
   "outputs": [
    {
     "data": {
      "text/plain": [
       "CA    16990\n",
       "FL     8379\n",
       "NY     8300\n",
       "WA     1729\n",
       "IA      904\n",
       "Name: State, dtype: int64"
      ]
     },
     "execution_count": 24,
     "metadata": {},
     "output_type": "execute_result"
    }
   ],
   "source": [
    "allStateData.State.value_counts()"
   ]
  },
  {
   "cell_type": "code",
   "execution_count": 25,
   "metadata": {
    "collapsed": false
   },
   "outputs": [
    {
     "data": {
      "text/plain": [
       "<matplotlib.text.Text at 0xab9dba8>"
      ]
     },
     "execution_count": 25,
     "metadata": {},
     "output_type": "execute_result"
    },
    {
     "data": {
      "image/png": "[encoded data removed]",
      "text/plain": [
       "<matplotlib.figure.Figure at 0xa957828>"
      ]
     },
     "metadata": {},
     "output_type": "display_data"
    }
   ],
   "source": [
    "allStateData.State.value_counts().plot('bar')\n",
    "plt.title('State Distribution')"
   ]
  },
  {
   "cell_type": "markdown",
   "metadata": {},
   "source": [
    "As seen above, California has the most number of cases, more than the next two (FL and NY) combined.\n"
   ]
  },
  {
   "cell_type": "code",
   "execution_count": 26,
   "metadata": {
    "collapsed": false
   },
   "outputs": [
    {
     "data": {
      "text/plain": [
       "<matplotlib.text.Text at 0xa69a5c0>"
      ]
     },
     "execution_count": 26,
     "metadata": {},
     "output_type": "execute_result"
    },
    {
     "data": {
      "image/png": "[encoded data removed]",
      "text/plain": [
       "<matplotlib.figure.Figure at 0xa2deac8>"
      ]
     },
     "metadata": {},
     "output_type": "display_data"
    }
   ],
   "source": [
    "allStateData.ASA.value_counts().plot('bar')\n",
    "plt.title('ASA distribution')"
   ]
  },
  {
   "cell_type": "markdown",
   "metadata": {},
   "source": [
    "The above barplot shows us that there are **far fewer** cases of ASA than without ASA\n",
    "\n",
    "#### We now look at the distribution of the SCORE variable"
   ]
  },
  {
   "cell_type": "code",
   "execution_count": 27,
   "metadata": {
    "collapsed": false
   },
   "outputs": [
    {
     "data": {
      "image/png": "[encoded data removed]",
      "text/plain": [
       "<matplotlib.figure.Figure at 0xa6b22b0>"
      ]
     },
     "metadata": {},
     "output_type": "display_data"
    },
    {
     "data": {
      "image/png": "[encoded data removed]",
      "text/plain": [
       "<matplotlib.figure.Figure at 0xbc224a8>"
      ]
     },
     "metadata": {},
     "output_type": "display_data"
    },
    {
     "data": {
      "image/png": "[encoded data removed]",
      "text/plain": [
       "<matplotlib.figure.Figure at 0xcebc048>"
      ]
     },
     "metadata": {},
     "output_type": "display_data"
    },
    {
     "data": {
      "image/png": "[encoded data removed]",
      "text/plain": [
       "<matplotlib.figure.Figure at 0xa6a36d8>"
      ]
     },
     "metadata": {},
     "output_type": "display_data"
    }
   ],
   "source": [
    "###ASA = 0\n",
    "allStateData[allStateData.ASA == 0.].SCORE.plot('box')\n",
    "plt.title('Boxplot of SCORE when ASA = 0'); plt.show()\n",
    "###ASA == 1\n",
    "allStateData[allStateData.ASA == 1.].SCORE.plot('box')\n",
    "plt.title('Boxplot of SCORE when ASA = 1'); plt.show()\n",
    "###ASA = 0\n",
    "allStateData[allStateData.ASA == 0.].SCORE.plot('hist', xlim=(0,20), bins = 100) #zooming in to ignore outliers\n",
    "plt.title('Histogram of SCORE when ASA = 0'); plt.show()\n",
    "###ASA = 1\n",
    "allStateData[allStateData.ASA == 1.].SCORE.plot('hist', xlim=(0,20), bins = 100) #zooming in to ignore outliers\n",
    "plt.title('Histogram of SCORE when ASA = 1'); plt.show()"
   ]
  },
  {
   "cell_type": "markdown",
   "metadata": {},
   "source": [
    "From above we can see that both ASA = 1 and ASA = 0 both have a similar distribution for the SCORE variable. However, it is important to notice that these distributions are **NOT** normal. T-tests may **not** be appropriate when the distributions are not normal.\n",
    "\n",
    "Since there seem to be a lot of discrete values, we also create a cross tabulation (contingency table) of the data with proportions:"
   ]
  },
  {
   "cell_type": "code",
   "execution_count": 28,
   "metadata": {
    "collapsed": false
   },
   "outputs": [
    {
     "data": {
      "text/html": [
       "<div>\n",
       "<table border=\"1\" class=\"dataframe\">\n",
       "  <thead>\n",
       "    <tr style=\"text-align: right;\">\n",
       "      <th>ASA</th>\n",
       "      <th>0.0</th>\n",
       "      <th>1.0</th>\n",
       "    </tr>\n",
       "    <tr>\n",
       "      <th>SCORE</th>\n",
       "      <th></th>\n",
       "      <th></th>\n",
       "    </tr>\n",
       "  </thead>\n",
       "  <tbody>\n",
       "    <tr>\n",
       "      <th>0.298197</th>\n",
       "      <td>0.015833</td>\n",
       "      <td>0.012019</td>\n",
       "    </tr>\n",
       "    <tr>\n",
       "      <th>0.463013</th>\n",
       "      <td>0.000200</td>\n",
       "      <td>0.001603</td>\n",
       "    </tr>\n",
       "    <tr>\n",
       "      <th>0.774142</th>\n",
       "      <td>0.000086</td>\n",
       "      <td>0.000000</td>\n",
       "    </tr>\n",
       "    <tr>\n",
       "      <th>0.932394</th>\n",
       "      <td>0.576596</td>\n",
       "      <td>0.644231</td>\n",
       "    </tr>\n",
       "    <tr>\n",
       "      <th>1.447735</th>\n",
       "      <td>0.008359</td>\n",
       "      <td>0.020833</td>\n",
       "    </tr>\n",
       "    <tr>\n",
       "      <th>1.558931</th>\n",
       "      <td>0.000029</td>\n",
       "      <td>0.000000</td>\n",
       "    </tr>\n",
       "    <tr>\n",
       "      <th>1.750672</th>\n",
       "      <td>0.000114</td>\n",
       "      <td>0.000000</td>\n",
       "    </tr>\n",
       "    <tr>\n",
       "      <th>2.225541</th>\n",
       "      <td>0.006390</td>\n",
       "      <td>0.002404</td>\n",
       "    </tr>\n",
       "    <tr>\n",
       "      <th>2.420563</th>\n",
       "      <td>0.001198</td>\n",
       "      <td>0.002404</td>\n",
       "    </tr>\n",
       "    <tr>\n",
       "      <th>3.455614</th>\n",
       "      <td>0.000029</td>\n",
       "      <td>0.000000</td>\n",
       "    </tr>\n",
       "    <tr>\n",
       "      <th>5.473947</th>\n",
       "      <td>0.011382</td>\n",
       "      <td>0.016026</td>\n",
       "    </tr>\n",
       "    <tr>\n",
       "      <th>6.958751</th>\n",
       "      <td>0.301535</td>\n",
       "      <td>0.233974</td>\n",
       "    </tr>\n",
       "    <tr>\n",
       "      <th>8.499436</th>\n",
       "      <td>0.000228</td>\n",
       "      <td>0.000000</td>\n",
       "    </tr>\n",
       "    <tr>\n",
       "      <th>10.804901</th>\n",
       "      <td>0.003537</td>\n",
       "      <td>0.005609</td>\n",
       "    </tr>\n",
       "    <tr>\n",
       "      <th>13.065824</th>\n",
       "      <td>0.001598</td>\n",
       "      <td>0.000000</td>\n",
       "    </tr>\n",
       "    <tr>\n",
       "      <th>14.210769</th>\n",
       "      <td>0.000029</td>\n",
       "      <td>0.000000</td>\n",
       "    </tr>\n",
       "    <tr>\n",
       "      <th>18.065428</th>\n",
       "      <td>0.000599</td>\n",
       "      <td>0.000000</td>\n",
       "    </tr>\n",
       "    <tr>\n",
       "      <th>40.853809</th>\n",
       "      <td>0.071347</td>\n",
       "      <td>0.060096</td>\n",
       "    </tr>\n",
       "    <tr>\n",
       "      <th>63.434006</th>\n",
       "      <td>0.000827</td>\n",
       "      <td>0.000000</td>\n",
       "    </tr>\n",
       "    <tr>\n",
       "      <th>106.059479</th>\n",
       "      <td>0.000086</td>\n",
       "      <td>0.000801</td>\n",
       "    </tr>\n",
       "  </tbody>\n",
       "</table>\n",
       "</div>"
      ],
      "text/plain": [
       "ASA              0.0       1.0\n",
       "SCORE                         \n",
       "0.298197    0.015833  0.012019\n",
       "0.463013    0.000200  0.001603\n",
       "0.774142    0.000086  0.000000\n",
       "0.932394    0.576596  0.644231\n",
       "1.447735    0.008359  0.020833\n",
       "1.558931    0.000029  0.000000\n",
       "1.750672    0.000114  0.000000\n",
       "2.225541    0.006390  0.002404\n",
       "2.420563    0.001198  0.002404\n",
       "3.455614    0.000029  0.000000\n",
       "5.473947    0.011382  0.016026\n",
       "6.958751    0.301535  0.233974\n",
       "8.499436    0.000228  0.000000\n",
       "10.804901   0.003537  0.005609\n",
       "13.065824   0.001598  0.000000\n",
       "14.210769   0.000029  0.000000\n",
       "18.065428   0.000599  0.000000\n",
       "40.853809   0.071347  0.060096\n",
       "63.434006   0.000827  0.000000\n",
       "106.059479  0.000086  0.000801"
      ]
     },
     "execution_count": 28,
     "metadata": {},
     "output_type": "execute_result"
    }
   ],
   "source": [
    "pd.crosstab(allStateData.SCORE, allStateData.ASA).apply(lambda x: x/x.sum(), 0).sort_index()"
   ]
  },
  {
   "cell_type": "markdown",
   "metadata": {},
   "source": [
    "From the table the main difference between ASA=0 and ASA=1 Scores is at **6.958 and 0.9324**"
   ]
  },
  {
   "cell_type": "markdown",
   "metadata": {
    "collapsed": true
   },
   "source": [
    "#### Next we look at the distribution of LOS variable"
   ]
  },
  {
   "cell_type": "code",
   "execution_count": 29,
   "metadata": {
    "collapsed": false
   },
   "outputs": [
    {
     "data": {
      "image/png": "[encoded data removed]",
      "text/plain": [
       "<matplotlib.figure.Figure at 0xa744f60>"
      ]
     },
     "metadata": {},
     "output_type": "display_data"
    },
    {
     "data": {
      "image/png": "[encoded data removed]",
      "text/plain": [
       "<matplotlib.figure.Figure at 0xc75d748>"
      ]
     },
     "metadata": {},
     "output_type": "display_data"
    },
    {
     "data": {
      "image/png": "[encoded data removed]",
      "text/plain": [
       "<matplotlib.figure.Figure at 0xc743358>"
      ]
     },
     "metadata": {},
     "output_type": "display_data"
    },
    {
     "data": {
      "image/png": "[encoded data removed]",
      "text/plain": [
       "<matplotlib.figure.Figure at 0xb5b0128>"
      ]
     },
     "metadata": {},
     "output_type": "display_data"
    }
   ],
   "source": [
    "###ASA = 0\n",
    "allStateData[allStateData.ASA == 0.].LOS.plot('box')\n",
    "plt.title('Boxplot of LOS when ASA = 0'); plt.show()\n",
    "###ASA = 1\n",
    "allStateData[allStateData.ASA == 1.].LOS.plot('box')\n",
    "plt.title('Boxplot of LOS when ASA = 1'); plt.show()\n",
    "###ASA = 0\n",
    "allStateData[allStateData.ASA == 0.].LOS.plot('hist', xlim=(0,120), bins = 100)\n",
    "plt.title('Histogram of LOS when ASA = 0'); plt.show()\n",
    "###ASA = 1\n",
    "allStateData[allStateData.ASA == 1.].LOS.plot('hist',  xlim=(0,120), bins = 100)\n",
    "plt.title('Histogram of LOS when ASA = 1'); plt.show()"
   ]
  },
  {
   "cell_type": "markdown",
   "metadata": {},
   "source": [
    "Just as before, we can see that the ASA = 1 group and ASA = 0 group both have an approximately similar distribution. And **neither** of these these distributions are normal - seem to have a pareto distribution."
   ]
  },
  {
   "cell_type": "markdown",
   "metadata": {},
   "source": [
    "#### Now we look at the distribution of the DIED variable\n",
    "(Box plots are unnecessary here since the data is boolean (0 or 1))"
   ]
  },
  {
   "cell_type": "code",
   "execution_count": 30,
   "metadata": {
    "collapsed": false
   },
   "outputs": [
    {
     "data": {
      "text/html": [
       "<div>\n",
       "<table border=\"1\" class=\"dataframe\">\n",
       "  <thead>\n",
       "    <tr style=\"text-align: right;\">\n",
       "      <th>ASA</th>\n",
       "      <th>0.0</th>\n",
       "      <th>1.0</th>\n",
       "    </tr>\n",
       "    <tr>\n",
       "      <th>DIED</th>\n",
       "      <th></th>\n",
       "      <th></th>\n",
       "    </tr>\n",
       "  </thead>\n",
       "  <tbody>\n",
       "    <tr>\n",
       "      <th>0.0</th>\n",
       "      <td>0.795316</td>\n",
       "      <td>0.801282</td>\n",
       "    </tr>\n",
       "    <tr>\n",
       "      <th>1.0</th>\n",
       "      <td>0.204684</td>\n",
       "      <td>0.198718</td>\n",
       "    </tr>\n",
       "  </tbody>\n",
       "</table>\n",
       "</div>"
      ],
      "text/plain": [
       "ASA        0.0       1.0\n",
       "DIED                    \n",
       "0.0   0.795316  0.801282\n",
       "1.0   0.204684  0.198718"
      ]
     },
     "execution_count": 30,
     "metadata": {},
     "output_type": "execute_result"
    }
   ],
   "source": [
    "pd.crosstab(allStateData.DIED, allStateData.ASA).apply(lambda x: x/x.sum(),0)"
   ]
  },
  {
   "cell_type": "code",
   "execution_count": 31,
   "metadata": {
    "collapsed": false
   },
   "outputs": [
    {
     "data": {
      "image/png": "[encoded data removed]",
      "text/plain": [
       "<matplotlib.figure.Figure at 0x9e1a828>"
      ]
     },
     "metadata": {},
     "output_type": "display_data"
    },
    {
     "data": {
      "image/png": "[encoded data removed]",
      "text/plain": [
       "<matplotlib.figure.Figure at 0xb6fc358>"
      ]
     },
     "metadata": {},
     "output_type": "display_data"
    }
   ],
   "source": [
    "###ASA = 0\n",
    "allStateData[allStateData.ASA == 0.].DIED.plot('hist', bins = 100)\n",
    "plt.title('Histogram of DIED when ASA = 0'); plt.show()\n",
    "###ASA = 1\n",
    "allStateData[allStateData.ASA == 1.].DIED.plot('hist', bins = 100)\n",
    "plt.title('Histogram of DIED when ASA = 1'); plt.show()"
   ]
  },
  {
   "cell_type": "markdown",
   "metadata": {},
   "source": [
    "The table and plots show us that both the cases almost have the exact same distribution."
   ]
  },
  {
   "cell_type": "markdown",
   "metadata": {},
   "source": [
    "### Specific Answers"
   ]
  },
  {
   "cell_type": "code",
   "execution_count": 32,
   "metadata": {
    "collapsed": true
   },
   "outputs": [],
   "source": [
    "from scipy import stats  "
   ]
  },
  {
   "cell_type": "markdown",
   "metadata": {},
   "source": [
    "#### Q1 Is there a relation between Aspirin Usage (ASA) and Hospital Stay (LOS)?\n",
    "\n",
    "To answer this question, we run a simple Mann-Whitney (Wilcoxon Rank Sum) test on both the groups. Mann-Whitney U tests are preferred over a t-test since the data is very unbalanced and it is not normal. It is essentially a non-parametric alternative to a t-test. Also important to note here, this test is comparing the medians and not the means. Means are really only relevant if the distributions are normal, since CLT doesnt apply otherwise.\n",
    "\n",
    "Please note here that this variable (LOS) follows a Pareto distribution (see the data exploration part). So it might make sense for us to find a test that is specifically meant for such distributions. I am searching for one and will update this as soon as I find something."
   ]
  },
  {
   "cell_type": "code",
   "execution_count": 33,
   "metadata": {
    "collapsed": true
   },
   "outputs": [],
   "source": [
    "group1_LOS =  allStateData[allStateData.ASA == 0.].LOS\n",
    "group2_LOS =  allStateData[allStateData.ASA == 1.].LOS"
   ]
  },
  {
   "cell_type": "code",
   "execution_count": 34,
   "metadata": {
    "collapsed": false
   },
   "outputs": [
    {
     "name": "stdout",
     "output_type": "stream",
     "text": [
      "The median LOS of ASA = 0 is  9.0\n"
     ]
    }
   ],
   "source": [
    "print \"The median LOS of ASA = 0 is \", group1_LOS.median()"
   ]
  },
  {
   "cell_type": "code",
   "execution_count": 35,
   "metadata": {
    "collapsed": false
   },
   "outputs": [
    {
     "name": "stdout",
     "output_type": "stream",
     "text": [
      "The median LOS of ASA = 1 is  5.0\n"
     ]
    }
   ],
   "source": [
    "print \"The median LOS of ASA = 1 is \", group2_LOS.median()"
   ]
  },
  {
   "cell_type": "code",
   "execution_count": 36,
   "metadata": {
    "collapsed": false
   },
   "outputs": [
    {
     "name": "stdout",
     "output_type": "stream",
     "text": [
      "p-value:  4.8062647201e-31\n"
     ]
    }
   ],
   "source": [
    "z_stat, p_val = stats.ranksums(group1_LOS, group2_LOS)\n",
    "print \"p-value: \", p_val  "
   ]
  },
  {
   "cell_type": "code",
   "execution_count": 38,
   "metadata": {
    "collapsed": false
   },
   "outputs": [
    {
     "name": "stdout",
     "output_type": "stream",
     "text": [
      "The mean LOS of ASA = 0 is  12.5561419524\n",
      "The mean LOS of ASA = 1 is  8.29887820513\n"
     ]
    }
   ],
   "source": [
    "# Looking at the mean of the LOS variable\n",
    "print \"The mean LOS of ASA = 0 is \", group1_LOS.mean()\n",
    "print \"The mean LOS of ASA = 1 is \", group2_LOS.mean()"
   ]
  },
  {
   "cell_type": "markdown",
   "metadata": {},
   "source": [
    "Since the p-value is <0.01, there is enough evidence to conclude that the mean Hospital Stay of patients that **do not** use aspirin is **greater** than those that do. However, I am **not** convinced that this is a causal relationship. It could just so happen that patients that are given aspirin are just suffering a less severe SAH and are let out sooner as a result."
   ]
  },
  {
   "cell_type": "markdown",
   "metadata": {},
   "source": [
    "#### Q2 Is there a relation between Aspirin Usage (ASA) and Mortality (DIED)?"
   ]
  },
  {
   "cell_type": "markdown",
   "metadata": {},
   "source": [
    "Since the data here is boolean and independent, I suggest we use a **Chi-Squared test**."
   ]
  },
  {
   "cell_type": "code",
   "execution_count": 39,
   "metadata": {
    "collapsed": true
   },
   "outputs": [],
   "source": [
    "group1_DIED =  allStateData[allStateData.ASA == 0.].DIED\n",
    "group2_DIED =  allStateData[allStateData.ASA == 1.].DIED"
   ]
  },
  {
   "cell_type": "code",
   "execution_count": 40,
   "metadata": {
    "collapsed": false
   },
   "outputs": [
    {
     "name": "stdout",
     "output_type": "stream",
     "text": [
      "The mean SCORE of ASA = 0 is  0.204684201518\n"
     ]
    }
   ],
   "source": [
    "print \"The mean SCORE of ASA = 0 is \", group1_DIED.mean()"
   ]
  },
  {
   "cell_type": "code",
   "execution_count": 41,
   "metadata": {
    "collapsed": false
   },
   "outputs": [
    {
     "name": "stdout",
     "output_type": "stream",
     "text": [
      "The mean SCORE of ASA = 1 is  0.198717948718\n"
     ]
    }
   ],
   "source": [
    "print \"The mean SCORE of ASA = 1 is \", group2_DIED.mean()"
   ]
  },
  {
   "cell_type": "code",
   "execution_count": 42,
   "metadata": {
    "collapsed": false
   },
   "outputs": [
    {
     "data": {
      "text/html": [
       "<div>\n",
       "<table border=\"1\" class=\"dataframe\">\n",
       "  <thead>\n",
       "    <tr style=\"text-align: right;\">\n",
       "      <th>ASA</th>\n",
       "      <th>0.0</th>\n",
       "      <th>1.0</th>\n",
       "    </tr>\n",
       "    <tr>\n",
       "      <th>DIED</th>\n",
       "      <th></th>\n",
       "      <th></th>\n",
       "    </tr>\n",
       "  </thead>\n",
       "  <tbody>\n",
       "    <tr>\n",
       "      <th>0.0</th>\n",
       "      <td>27879</td>\n",
       "      <td>1000</td>\n",
       "    </tr>\n",
       "    <tr>\n",
       "      <th>1.0</th>\n",
       "      <td>7175</td>\n",
       "      <td>248</td>\n",
       "    </tr>\n",
       "  </tbody>\n",
       "</table>\n",
       "</div>"
      ],
      "text/plain": [
       "ASA     0.0   1.0\n",
       "DIED             \n",
       "0.0   27879  1000\n",
       "1.0    7175   248"
      ]
     },
     "execution_count": 42,
     "metadata": {},
     "output_type": "execute_result"
    }
   ],
   "source": [
    "ctDIED = pd.crosstab(allStateData.DIED, allStateData.ASA); ctDIED"
   ]
  },
  {
   "cell_type": "code",
   "execution_count": 43,
   "metadata": {
    "collapsed": false
   },
   "outputs": [
    {
     "name": "stdout",
     "output_type": "stream",
     "text": [
      "p-value:  0.632782484453\n"
     ]
    }
   ],
   "source": [
    "p_val = stats.chi2_contingency(ctDIED)[1]\n",
    "print \"p-value: \", p_val  "
   ]
  },
  {
   "cell_type": "code",
   "execution_count": 44,
   "metadata": {
    "collapsed": false
   },
   "outputs": [
    {
     "data": {
      "text/plain": [
       "'\\nprop.test(c(29341,1037),c(36922,1298),correct=FALSE)\\n\\n\\t2-sample test for equality of proportions without\\n\\tcontinuity correction\\n\\ndata:  c(29341, 1037) out of c(36922, 1298)\\nX-squared = 0.13863, df = 1, p-value = 0.7096\\nalternative hypothesis: two.sided\\n95 percent confidence interval:\\n -0.02643650  0.01794419\\nsample estimates:\\n   prop 1    prop 2 \\n0.7946753 0.7989214 \\n'"
      ]
     },
     "execution_count": 44,
     "metadata": {},
     "output_type": "execute_result"
    }
   ],
   "source": [
    "# even the R implementation of ChiSq test, shows the same result. \n",
    "'''\n",
    "prop.test(c(29341,1037),c(36922,1298),correct=FALSE)\n",
    "\n",
    "\t2-sample test for equality of proportions without\n",
    "\tcontinuity correction\n",
    "\n",
    "data:  c(29341, 1037) out of c(36922, 1298)\n",
    "X-squared = 0.13863, df = 1, p-value = 0.7096\n",
    "alternative hypothesis: two.sided\n",
    "95 percent confidence interval:\n",
    " -0.02643650  0.01794419\n",
    "sample estimates:\n",
    "   prop 1    prop 2 \n",
    "0.7946753 0.7989214 \n",
    "'''"
   ]
  },
  {
   "cell_type": "markdown",
   "metadata": {},
   "source": [
    "Since the p-value is >0.05, there is **not** enough evidence to prove that there is a difference in the mortality rate between patients that use aspirin and those that dont."
   ]
  },
  {
   "cell_type": "markdown",
   "metadata": {},
   "source": [
    "#### Q3 Is there a relation between Aspirin Usage (ASA) and Severity of SAH (SCORE)?\n",
    "\n",
    "As seen in the exploration part, this variable is discrete and not really continuous. Mann-Whitney assumes that the distribution is continuous so it might **not** be appropriate here. Hence, we also test using Chi-Sq, which will show if the distributions are similar or not."
   ]
  },
  {
   "cell_type": "code",
   "execution_count": 45,
   "metadata": {
    "collapsed": true
   },
   "outputs": [],
   "source": [
    "group1_SCORE =  allStateData[allStateData.ASA == 0.].SCORE\n",
    "group2_SCORE =  allStateData[allStateData.ASA == 1.].SCORE"
   ]
  },
  {
   "cell_type": "code",
   "execution_count": 46,
   "metadata": {
    "collapsed": false
   },
   "outputs": [
    {
     "name": "stdout",
     "output_type": "stream",
     "text": [
      "The median SCORE of ASA = 0 is  0.932393848896\n"
     ]
    }
   ],
   "source": [
    "print \"The median SCORE of ASA = 0 is \", group1_SCORE.median()"
   ]
  },
  {
   "cell_type": "code",
   "execution_count": 47,
   "metadata": {
    "collapsed": false
   },
   "outputs": [
    {
     "name": "stdout",
     "output_type": "stream",
     "text": [
      "The median SCORE of ASA = 1 is  0.932393848896\n"
     ]
    }
   ],
   "source": [
    "print \"The median SCORE of ASA = 1 is \", group2_SCORE.median()"
   ]
  },
  {
   "cell_type": "code",
   "execution_count": 48,
   "metadata": {
    "collapsed": false
   },
   "outputs": [
    {
     "name": "stdout",
     "output_type": "stream",
     "text": [
      "The mean SCORE of ASA = 0 is  5.78128920169\n"
     ]
    }
   ],
   "source": [
    "print \"The mean SCORE of ASA = 0 is \", group1_SCORE.mean()"
   ]
  },
  {
   "cell_type": "code",
   "execution_count": 49,
   "metadata": {
    "collapsed": false
   },
   "outputs": [
    {
     "name": "stdout",
     "output_type": "stream",
     "text": [
      "The mean SCORE of ASA = 1 is  4.96297010498\n"
     ]
    }
   ],
   "source": [
    "print \"The mean SCORE of ASA = 1 is \", group2_SCORE.mean()"
   ]
  },
  {
   "cell_type": "code",
   "execution_count": 50,
   "metadata": {
    "collapsed": false
   },
   "outputs": [
    {
     "name": "stdout",
     "output_type": "stream",
     "text": [
      "p-value:  3.71878134743e-05\n"
     ]
    }
   ],
   "source": [
    "z_stat, p_val = stats.ranksums(group1_SCORE, group2_SCORE)#, alternative = 'greater')  \n",
    "print \"p-value: \", p_val  "
   ]
  },
  {
   "cell_type": "markdown",
   "metadata": {},
   "source": [
    "Since the p-value is <0.01, there is enough evidence to prove that the severity of SAH of patients that use aspirin is greater than those that don't use aspirin. "
   ]
  },
  {
   "cell_type": "code",
   "execution_count": 51,
   "metadata": {
    "collapsed": false
   },
   "outputs": [
    {
     "data": {
      "text/html": [
       "<div>\n",
       "<table border=\"1\" class=\"dataframe\">\n",
       "  <thead>\n",
       "    <tr style=\"text-align: right;\">\n",
       "      <th>ASA</th>\n",
       "      <th>0.0</th>\n",
       "      <th>1.0</th>\n",
       "    </tr>\n",
       "    <tr>\n",
       "      <th>SCORE</th>\n",
       "      <th></th>\n",
       "      <th></th>\n",
       "    </tr>\n",
       "  </thead>\n",
       "  <tbody>\n",
       "    <tr>\n",
       "      <th>0.298197</th>\n",
       "      <td>555</td>\n",
       "      <td>15</td>\n",
       "    </tr>\n",
       "    <tr>\n",
       "      <th>0.463013</th>\n",
       "      <td>7</td>\n",
       "      <td>2</td>\n",
       "    </tr>\n",
       "    <tr>\n",
       "      <th>0.774142</th>\n",
       "      <td>3</td>\n",
       "      <td>0</td>\n",
       "    </tr>\n",
       "    <tr>\n",
       "      <th>0.932394</th>\n",
       "      <td>20212</td>\n",
       "      <td>804</td>\n",
       "    </tr>\n",
       "    <tr>\n",
       "      <th>1.447735</th>\n",
       "      <td>293</td>\n",
       "      <td>26</td>\n",
       "    </tr>\n",
       "    <tr>\n",
       "      <th>1.558931</th>\n",
       "      <td>1</td>\n",
       "      <td>0</td>\n",
       "    </tr>\n",
       "    <tr>\n",
       "      <th>1.750672</th>\n",
       "      <td>4</td>\n",
       "      <td>0</td>\n",
       "    </tr>\n",
       "    <tr>\n",
       "      <th>2.225541</th>\n",
       "      <td>224</td>\n",
       "      <td>3</td>\n",
       "    </tr>\n",
       "    <tr>\n",
       "      <th>2.420563</th>\n",
       "      <td>42</td>\n",
       "      <td>3</td>\n",
       "    </tr>\n",
       "    <tr>\n",
       "      <th>3.455614</th>\n",
       "      <td>1</td>\n",
       "      <td>0</td>\n",
       "    </tr>\n",
       "    <tr>\n",
       "      <th>5.473947</th>\n",
       "      <td>399</td>\n",
       "      <td>20</td>\n",
       "    </tr>\n",
       "    <tr>\n",
       "      <th>6.958751</th>\n",
       "      <td>10570</td>\n",
       "      <td>292</td>\n",
       "    </tr>\n",
       "    <tr>\n",
       "      <th>8.499436</th>\n",
       "      <td>8</td>\n",
       "      <td>0</td>\n",
       "    </tr>\n",
       "    <tr>\n",
       "      <th>10.804901</th>\n",
       "      <td>124</td>\n",
       "      <td>7</td>\n",
       "    </tr>\n",
       "    <tr>\n",
       "      <th>13.065824</th>\n",
       "      <td>56</td>\n",
       "      <td>0</td>\n",
       "    </tr>\n",
       "    <tr>\n",
       "      <th>14.210769</th>\n",
       "      <td>1</td>\n",
       "      <td>0</td>\n",
       "    </tr>\n",
       "    <tr>\n",
       "      <th>18.065428</th>\n",
       "      <td>21</td>\n",
       "      <td>0</td>\n",
       "    </tr>\n",
       "    <tr>\n",
       "      <th>40.853809</th>\n",
       "      <td>2501</td>\n",
       "      <td>75</td>\n",
       "    </tr>\n",
       "    <tr>\n",
       "      <th>63.434006</th>\n",
       "      <td>29</td>\n",
       "      <td>0</td>\n",
       "    </tr>\n",
       "    <tr>\n",
       "      <th>106.059479</th>\n",
       "      <td>3</td>\n",
       "      <td>1</td>\n",
       "    </tr>\n",
       "  </tbody>\n",
       "</table>\n",
       "</div>"
      ],
      "text/plain": [
       "ASA           0.0  1.0\n",
       "SCORE                 \n",
       "0.298197      555   15\n",
       "0.463013        7    2\n",
       "0.774142        3    0\n",
       "0.932394    20212  804\n",
       "1.447735      293   26\n",
       "1.558931        1    0\n",
       "1.750672        4    0\n",
       "2.225541      224    3\n",
       "2.420563       42    3\n",
       "3.455614        1    0\n",
       "5.473947      399   20\n",
       "6.958751    10570  292\n",
       "8.499436        8    0\n",
       "10.804901     124    7\n",
       "13.065824      56    0\n",
       "14.210769       1    0\n",
       "18.065428      21    0\n",
       "40.853809    2501   75\n",
       "63.434006      29    0\n",
       "106.059479      3    1"
      ]
     },
     "execution_count": 51,
     "metadata": {},
     "output_type": "execute_result"
    }
   ],
   "source": [
    "ctSevere = pd.crosstab(allStateData.SCORE, allStateData.ASA); ctSevere"
   ]
  },
  {
   "cell_type": "code",
   "execution_count": 52,
   "metadata": {
    "collapsed": false
   },
   "outputs": [
    {
     "name": "stdout",
     "output_type": "stream",
     "text": [
      "p-value:  1.67976527684e-09\n"
     ]
    }
   ],
   "source": [
    "p_val = stats.chi2_contingency(ctSevere)[1]\n",
    "print \"p-value: \", p_val"
   ]
  },
  {
   "cell_type": "markdown",
   "metadata": {},
   "source": [
    "This result shows that the distributions are **NOT** similar. Given that this is the case and the Mann-Whitney test is significant. We can move forward with concluding that Patients on Aspirin and those using it have varying levels of severity of SAH. This does **not** mean that using a higher dose of aspirin results in more severe SAH or vice versa. It just shows that they are related. "
   ]
  },
  {
   "cell_type": "markdown",
   "metadata": {},
   "source": [
    "#### Q4 Is there a relation between the discharge status of the patient and ASA?"
   ]
  },
  {
   "cell_type": "code",
   "execution_count": 53,
   "metadata": {
    "collapsed": false
   },
   "outputs": [
    {
     "data": {
      "text/html": [
       "<div>\n",
       "<table border=\"1\" class=\"dataframe\">\n",
       "  <thead>\n",
       "    <tr style=\"text-align: right;\">\n",
       "      <th></th>\n",
       "      <th>ASA</th>\n",
       "      <th>0.0</th>\n",
       "      <th>1.0</th>\n",
       "    </tr>\n",
       "    <tr>\n",
       "      <th>DISCHARGE_GOOD</th>\n",
       "      <th>DISCHARGE_BAD</th>\n",
       "      <th></th>\n",
       "      <th></th>\n",
       "    </tr>\n",
       "  </thead>\n",
       "  <tbody>\n",
       "    <tr>\n",
       "      <th rowspan=\"2\" valign=\"top\">0.0</th>\n",
       "      <th>0.0</th>\n",
       "      <td>22354</td>\n",
       "      <td>823</td>\n",
       "    </tr>\n",
       "    <tr>\n",
       "      <th>1.0</th>\n",
       "      <td>1969</td>\n",
       "      <td>41</td>\n",
       "    </tr>\n",
       "    <tr>\n",
       "      <th>1.0</th>\n",
       "      <th>0.0</th>\n",
       "      <td>10731</td>\n",
       "      <td>384</td>\n",
       "    </tr>\n",
       "  </tbody>\n",
       "</table>\n",
       "</div>"
      ],
      "text/plain": [
       "ASA                             0.0  1.0\n",
       "DISCHARGE_GOOD DISCHARGE_BAD            \n",
       "0.0            0.0            22354  823\n",
       "               1.0             1969   41\n",
       "1.0            0.0            10731  384"
      ]
     },
     "execution_count": 53,
     "metadata": {},
     "output_type": "execute_result"
    }
   ],
   "source": [
    "pd.crosstab([allStateData.DISCHARGE_GOOD,allStateData.DISCHARGE_BAD],allStateData.ASA)"
   ]
  },
  {
   "cell_type": "markdown",
   "metadata": {},
   "source": [
    "Something to note here (see table above) is that of the patients that have **not** been discharged good, only a handful have been discharged bad, a large number of them have are **not** classified as discharged bad. For this analysis, we only use those instances where the patient is either has a discharged_good or discharged_bad of 1. Instances where both these variables are 0 are **not** chosen. "
   ]
  },
  {
   "cell_type": "code",
   "execution_count": 54,
   "metadata": {
    "collapsed": false
   },
   "outputs": [
    {
     "data": {
      "text/plain": [
       "(13125, 14)"
      ]
     },
     "execution_count": 54,
     "metadata": {},
     "output_type": "execute_result"
    }
   ],
   "source": [
    "dataSubset = allStateData[allStateData.DISCHARGE_GOOD+allStateData.DISCHARGE_BAD == 1]; dataSubset.shape # data subset"
   ]
  },
  {
   "cell_type": "code",
   "execution_count": 55,
   "metadata": {
    "collapsed": false
   },
   "outputs": [
    {
     "data": {
      "text/html": [
       "<div>\n",
       "<table border=\"1\" class=\"dataframe\">\n",
       "  <thead>\n",
       "    <tr style=\"text-align: right;\">\n",
       "      <th></th>\n",
       "      <th>ASA</th>\n",
       "      <th>0.0</th>\n",
       "      <th>1.0</th>\n",
       "    </tr>\n",
       "    <tr>\n",
       "      <th>DISCHARGE_GOOD</th>\n",
       "      <th>DISCHARGE_BAD</th>\n",
       "      <th></th>\n",
       "      <th></th>\n",
       "    </tr>\n",
       "  </thead>\n",
       "  <tbody>\n",
       "    <tr>\n",
       "      <th>0.0</th>\n",
       "      <th>1.0</th>\n",
       "      <td>1969</td>\n",
       "      <td>41</td>\n",
       "    </tr>\n",
       "    <tr>\n",
       "      <th>1.0</th>\n",
       "      <th>0.0</th>\n",
       "      <td>10731</td>\n",
       "      <td>384</td>\n",
       "    </tr>\n",
       "  </tbody>\n",
       "</table>\n",
       "</div>"
      ],
      "text/plain": [
       "ASA                             0.0  1.0\n",
       "DISCHARGE_GOOD DISCHARGE_BAD            \n",
       "0.0            1.0             1969   41\n",
       "1.0            0.0            10731  384"
      ]
     },
     "execution_count": 55,
     "metadata": {},
     "output_type": "execute_result"
    }
   ],
   "source": [
    "pd.crosstab( [dataSubset.DISCHARGE_GOOD,dataSubset.DISCHARGE_BAD],dataSubset.ASA) # numbers"
   ]
  },
  {
   "cell_type": "code",
   "execution_count": 56,
   "metadata": {
    "collapsed": false
   },
   "outputs": [
    {
     "data": {
      "text/html": [
       "<div>\n",
       "<table border=\"1\" class=\"dataframe\">\n",
       "  <thead>\n",
       "    <tr style=\"text-align: right;\">\n",
       "      <th>ASA</th>\n",
       "      <th>0.0</th>\n",
       "      <th>1.0</th>\n",
       "    </tr>\n",
       "    <tr>\n",
       "      <th>DISCHARGE_GOOD</th>\n",
       "      <th></th>\n",
       "      <th></th>\n",
       "    </tr>\n",
       "  </thead>\n",
       "  <tbody>\n",
       "    <tr>\n",
       "      <th>0.0</th>\n",
       "      <td>0.155039</td>\n",
       "      <td>0.096471</td>\n",
       "    </tr>\n",
       "    <tr>\n",
       "      <th>1.0</th>\n",
       "      <td>0.844961</td>\n",
       "      <td>0.903529</td>\n",
       "    </tr>\n",
       "  </tbody>\n",
       "</table>\n",
       "</div>"
      ],
      "text/plain": [
       "ASA                  0.0       1.0\n",
       "DISCHARGE_GOOD                    \n",
       "0.0             0.155039  0.096471\n",
       "1.0             0.844961  0.903529"
      ]
     },
     "execution_count": 56,
     "metadata": {},
     "output_type": "execute_result"
    }
   ],
   "source": [
    "pd.crosstab(dataSubset.DISCHARGE_GOOD, dataSubset.ASA).apply(lambda x: x/x.sum()) # percentages"
   ]
  },
  {
   "cell_type": "code",
   "execution_count": null,
   "metadata": {
    "collapsed": true
   },
   "outputs": [],
   "source": [
    "# running a chiSq test in R\n",
    "'''\n",
    "prop.test(c(1969,41),c(10731+1969,41+384),correct=FALSE)\n",
    "\n",
    "\t2-sample test for equality of proportions without continuity\n",
    "\tcorrection\n",
    "\n",
    "data:  c(1969, 41) out of c(10731 + 1969, 41 + 384)\n",
    "X-squared = 10.877, df = 1, p-value = 0.0009735\n",
    "alternative hypothesis: two.sided\n",
    "95 percent confidence interval:\n",
    " 0.02980288 0.08733468\n",
    "sample estimates:\n",
    "    prop 1     prop 2 \n",
    "0.15503937 0.09647059 \n",
    "'''"
   ]
  },
  {
   "cell_type": "markdown",
   "metadata": {},
   "source": [
    "Although the test is significant and the confidence interval tells us that patients on Aspirin have a higher proportion of better discharge than those who are not on aspirin. The sample size for the patients not using Aspirin is so small, that I would **not** draw any conclusions from this. "
   ]
  },
  {
   "cell_type": "markdown",
   "metadata": {
    "collapsed": true
   },
   "source": [
    "### Q5 Is there a relation between the race of the patient and SAH score ?\n",
    "#### KEY:\n",
    "1-White;\n",
    "2-Black;\n",
    "3-Hispanic;\n",
    "4-Asian;\n",
    "0-Other"
   ]
  },
  {
   "cell_type": "code",
   "execution_count": 64,
   "metadata": {
    "collapsed": false
   },
   "outputs": [
    {
     "data": {
      "text/html": [
       "<div>\n",
       "<table border=\"1\" class=\"dataframe\">\n",
       "  <thead>\n",
       "    <tr style=\"text-align: right;\">\n",
       "      <th>RACE</th>\n",
       "      <th>1.0</th>\n",
       "      <th>2.0</th>\n",
       "      <th>3.0</th>\n",
       "      <th>4.0</th>\n",
       "      <th>5.0</th>\n",
       "      <th>6.0</th>\n",
       "    </tr>\n",
       "    <tr>\n",
       "      <th>SCORE</th>\n",
       "      <th></th>\n",
       "      <th></th>\n",
       "      <th></th>\n",
       "      <th></th>\n",
       "      <th></th>\n",
       "      <th></th>\n",
       "    </tr>\n",
       "  </thead>\n",
       "  <tbody>\n",
       "    <tr>\n",
       "      <th>0.298197</th>\n",
       "      <td>120</td>\n",
       "      <td>51</td>\n",
       "      <td>46</td>\n",
       "      <td>13</td>\n",
       "      <td>2</td>\n",
       "      <td>22</td>\n",
       "    </tr>\n",
       "    <tr>\n",
       "      <th>0.463013</th>\n",
       "      <td>0</td>\n",
       "      <td>1</td>\n",
       "      <td>1</td>\n",
       "      <td>0</td>\n",
       "      <td>0</td>\n",
       "      <td>1</td>\n",
       "    </tr>\n",
       "    <tr>\n",
       "      <th>0.932394</th>\n",
       "      <td>5421</td>\n",
       "      <td>1241</td>\n",
       "      <td>1470</td>\n",
       "      <td>318</td>\n",
       "      <td>30</td>\n",
       "      <td>662</td>\n",
       "    </tr>\n",
       "    <tr>\n",
       "      <th>1.447735</th>\n",
       "      <td>55</td>\n",
       "      <td>13</td>\n",
       "      <td>16</td>\n",
       "      <td>8</td>\n",
       "      <td>1</td>\n",
       "      <td>8</td>\n",
       "    </tr>\n",
       "    <tr>\n",
       "      <th>1.558931</th>\n",
       "      <td>0</td>\n",
       "      <td>1</td>\n",
       "      <td>0</td>\n",
       "      <td>0</td>\n",
       "      <td>0</td>\n",
       "      <td>0</td>\n",
       "    </tr>\n",
       "    <tr>\n",
       "      <th>1.750672</th>\n",
       "      <td>0</td>\n",
       "      <td>0</td>\n",
       "      <td>0</td>\n",
       "      <td>0</td>\n",
       "      <td>0</td>\n",
       "      <td>1</td>\n",
       "    </tr>\n",
       "    <tr>\n",
       "      <th>2.225541</th>\n",
       "      <td>44</td>\n",
       "      <td>13</td>\n",
       "      <td>10</td>\n",
       "      <td>4</td>\n",
       "      <td>0</td>\n",
       "      <td>5</td>\n",
       "    </tr>\n",
       "    <tr>\n",
       "      <th>2.420563</th>\n",
       "      <td>4</td>\n",
       "      <td>3</td>\n",
       "      <td>1</td>\n",
       "      <td>0</td>\n",
       "      <td>0</td>\n",
       "      <td>1</td>\n",
       "    </tr>\n",
       "    <tr>\n",
       "      <th>5.473947</th>\n",
       "      <td>23</td>\n",
       "      <td>4</td>\n",
       "      <td>3</td>\n",
       "      <td>3</td>\n",
       "      <td>0</td>\n",
       "      <td>1</td>\n",
       "    </tr>\n",
       "    <tr>\n",
       "      <th>6.958751</th>\n",
       "      <td>1667</td>\n",
       "      <td>501</td>\n",
       "      <td>483</td>\n",
       "      <td>164</td>\n",
       "      <td>18</td>\n",
       "      <td>225</td>\n",
       "    </tr>\n",
       "    <tr>\n",
       "      <th>10.804901</th>\n",
       "      <td>21</td>\n",
       "      <td>5</td>\n",
       "      <td>4</td>\n",
       "      <td>1</td>\n",
       "      <td>0</td>\n",
       "      <td>1</td>\n",
       "    </tr>\n",
       "    <tr>\n",
       "      <th>13.065824</th>\n",
       "      <td>4</td>\n",
       "      <td>1</td>\n",
       "      <td>2</td>\n",
       "      <td>1</td>\n",
       "      <td>0</td>\n",
       "      <td>1</td>\n",
       "    </tr>\n",
       "    <tr>\n",
       "      <th>18.065428</th>\n",
       "      <td>1</td>\n",
       "      <td>4</td>\n",
       "      <td>1</td>\n",
       "      <td>1</td>\n",
       "      <td>0</td>\n",
       "      <td>2</td>\n",
       "    </tr>\n",
       "    <tr>\n",
       "      <th>40.853809</th>\n",
       "      <td>198</td>\n",
       "      <td>77</td>\n",
       "      <td>60</td>\n",
       "      <td>29</td>\n",
       "      <td>0</td>\n",
       "      <td>30</td>\n",
       "    </tr>\n",
       "    <tr>\n",
       "      <th>63.434006</th>\n",
       "      <td>0</td>\n",
       "      <td>0</td>\n",
       "      <td>1</td>\n",
       "      <td>0</td>\n",
       "      <td>0</td>\n",
       "      <td>0</td>\n",
       "    </tr>\n",
       "    <tr>\n",
       "      <th>106.059479</th>\n",
       "      <td>1</td>\n",
       "      <td>0</td>\n",
       "      <td>0</td>\n",
       "      <td>0</td>\n",
       "      <td>0</td>\n",
       "      <td>0</td>\n",
       "    </tr>\n",
       "  </tbody>\n",
       "</table>\n",
       "</div>"
      ],
      "text/plain": [
       "RACE         1.0   2.0   3.0  4.0  5.0  6.0\n",
       "SCORE                                      \n",
       "0.298197     120    51    46   13    2   22\n",
       "0.463013       0     1     1    0    0    1\n",
       "0.932394    5421  1241  1470  318   30  662\n",
       "1.447735      55    13    16    8    1    8\n",
       "1.558931       0     1     0    0    0    0\n",
       "1.750672       0     0     0    0    0    1\n",
       "2.225541      44    13    10    4    0    5\n",
       "2.420563       4     3     1    0    0    1\n",
       "5.473947      23     4     3    3    0    1\n",
       "6.958751    1667   501   483  164   18  225\n",
       "10.804901     21     5     4    1    0    1\n",
       "13.065824      4     1     2    1    0    1\n",
       "18.065428      1     4     1    1    0    2\n",
       "40.853809    198    77    60   29    0   30\n",
       "63.434006      0     0     1    0    0    0\n",
       "106.059479     1     0     0    0    0    0"
      ]
     },
     "execution_count": 64,
     "metadata": {},
     "output_type": "execute_result"
    }
   ],
   "source": [
    "ctRACE = pd.crosstab(dataSubset.SCORE,dataSubset.RACE); ctRACE"
   ]
  },
  {
   "cell_type": "code",
   "execution_count": 62,
   "metadata": {
    "collapsed": false
   },
   "outputs": [
    {
     "data": {
      "text/html": [
       "<div>\n",
       "<table border=\"1\" class=\"dataframe\">\n",
       "  <thead>\n",
       "    <tr style=\"text-align: right;\">\n",
       "      <th>RACE</th>\n",
       "      <th>1.0</th>\n",
       "      <th>2.0</th>\n",
       "      <th>3.0</th>\n",
       "      <th>4.0</th>\n",
       "      <th>5.0</th>\n",
       "      <th>6.0</th>\n",
       "    </tr>\n",
       "    <tr>\n",
       "      <th>SCORE</th>\n",
       "      <th></th>\n",
       "      <th></th>\n",
       "      <th></th>\n",
       "      <th></th>\n",
       "      <th></th>\n",
       "      <th></th>\n",
       "    </tr>\n",
       "  </thead>\n",
       "  <tbody>\n",
       "    <tr>\n",
       "      <th>0.298197</th>\n",
       "      <td>0.015875</td>\n",
       "      <td>0.026632</td>\n",
       "      <td>0.021926</td>\n",
       "      <td>0.023985</td>\n",
       "      <td>0.039216</td>\n",
       "      <td>0.022917</td>\n",
       "    </tr>\n",
       "    <tr>\n",
       "      <th>0.463013</th>\n",
       "      <td>0.000000</td>\n",
       "      <td>0.000522</td>\n",
       "      <td>0.000477</td>\n",
       "      <td>0.000000</td>\n",
       "      <td>0.000000</td>\n",
       "      <td>0.001042</td>\n",
       "    </tr>\n",
       "    <tr>\n",
       "      <th>0.932394</th>\n",
       "      <td>0.717158</td>\n",
       "      <td>0.648042</td>\n",
       "      <td>0.700667</td>\n",
       "      <td>0.586716</td>\n",
       "      <td>0.588235</td>\n",
       "      <td>0.689583</td>\n",
       "    </tr>\n",
       "    <tr>\n",
       "      <th>1.447735</th>\n",
       "      <td>0.007276</td>\n",
       "      <td>0.006789</td>\n",
       "      <td>0.007626</td>\n",
       "      <td>0.014760</td>\n",
       "      <td>0.019608</td>\n",
       "      <td>0.008333</td>\n",
       "    </tr>\n",
       "    <tr>\n",
       "      <th>1.558931</th>\n",
       "      <td>0.000000</td>\n",
       "      <td>0.000522</td>\n",
       "      <td>0.000000</td>\n",
       "      <td>0.000000</td>\n",
       "      <td>0.000000</td>\n",
       "      <td>0.000000</td>\n",
       "    </tr>\n",
       "    <tr>\n",
       "      <th>1.750672</th>\n",
       "      <td>0.000000</td>\n",
       "      <td>0.000000</td>\n",
       "      <td>0.000000</td>\n",
       "      <td>0.000000</td>\n",
       "      <td>0.000000</td>\n",
       "      <td>0.001042</td>\n",
       "    </tr>\n",
       "    <tr>\n",
       "      <th>2.225541</th>\n",
       "      <td>0.005821</td>\n",
       "      <td>0.006789</td>\n",
       "      <td>0.004766</td>\n",
       "      <td>0.007380</td>\n",
       "      <td>0.000000</td>\n",
       "      <td>0.005208</td>\n",
       "    </tr>\n",
       "    <tr>\n",
       "      <th>2.420563</th>\n",
       "      <td>0.000529</td>\n",
       "      <td>0.001567</td>\n",
       "      <td>0.000477</td>\n",
       "      <td>0.000000</td>\n",
       "      <td>0.000000</td>\n",
       "      <td>0.001042</td>\n",
       "    </tr>\n",
       "    <tr>\n",
       "      <th>5.473947</th>\n",
       "      <td>0.003043</td>\n",
       "      <td>0.002089</td>\n",
       "      <td>0.001430</td>\n",
       "      <td>0.005535</td>\n",
       "      <td>0.000000</td>\n",
       "      <td>0.001042</td>\n",
       "    </tr>\n",
       "    <tr>\n",
       "      <th>6.958751</th>\n",
       "      <td>0.220532</td>\n",
       "      <td>0.261619</td>\n",
       "      <td>0.230219</td>\n",
       "      <td>0.302583</td>\n",
       "      <td>0.352941</td>\n",
       "      <td>0.234375</td>\n",
       "    </tr>\n",
       "    <tr>\n",
       "      <th>10.804901</th>\n",
       "      <td>0.002778</td>\n",
       "      <td>0.002611</td>\n",
       "      <td>0.001907</td>\n",
       "      <td>0.001845</td>\n",
       "      <td>0.000000</td>\n",
       "      <td>0.001042</td>\n",
       "    </tr>\n",
       "    <tr>\n",
       "      <th>13.065824</th>\n",
       "      <td>0.000529</td>\n",
       "      <td>0.000522</td>\n",
       "      <td>0.000953</td>\n",
       "      <td>0.001845</td>\n",
       "      <td>0.000000</td>\n",
       "      <td>0.001042</td>\n",
       "    </tr>\n",
       "    <tr>\n",
       "      <th>18.065428</th>\n",
       "      <td>0.000132</td>\n",
       "      <td>0.002089</td>\n",
       "      <td>0.000477</td>\n",
       "      <td>0.001845</td>\n",
       "      <td>0.000000</td>\n",
       "      <td>0.002083</td>\n",
       "    </tr>\n",
       "    <tr>\n",
       "      <th>40.853809</th>\n",
       "      <td>0.026194</td>\n",
       "      <td>0.040209</td>\n",
       "      <td>0.028599</td>\n",
       "      <td>0.053506</td>\n",
       "      <td>0.000000</td>\n",
       "      <td>0.031250</td>\n",
       "    </tr>\n",
       "    <tr>\n",
       "      <th>63.434006</th>\n",
       "      <td>0.000000</td>\n",
       "      <td>0.000000</td>\n",
       "      <td>0.000477</td>\n",
       "      <td>0.000000</td>\n",
       "      <td>0.000000</td>\n",
       "      <td>0.000000</td>\n",
       "    </tr>\n",
       "    <tr>\n",
       "      <th>106.059479</th>\n",
       "      <td>0.000132</td>\n",
       "      <td>0.000000</td>\n",
       "      <td>0.000000</td>\n",
       "      <td>0.000000</td>\n",
       "      <td>0.000000</td>\n",
       "      <td>0.000000</td>\n",
       "    </tr>\n",
       "  </tbody>\n",
       "</table>\n",
       "</div>"
      ],
      "text/plain": [
       "RACE             1.0       2.0       3.0       4.0       5.0       6.0\n",
       "SCORE                                                                 \n",
       "0.298197    0.015875  0.026632  0.021926  0.023985  0.039216  0.022917\n",
       "0.463013    0.000000  0.000522  0.000477  0.000000  0.000000  0.001042\n",
       "0.932394    0.717158  0.648042  0.700667  0.586716  0.588235  0.689583\n",
       "1.447735    0.007276  0.006789  0.007626  0.014760  0.019608  0.008333\n",
       "1.558931    0.000000  0.000522  0.000000  0.000000  0.000000  0.000000\n",
       "1.750672    0.000000  0.000000  0.000000  0.000000  0.000000  0.001042\n",
       "2.225541    0.005821  0.006789  0.004766  0.007380  0.000000  0.005208\n",
       "2.420563    0.000529  0.001567  0.000477  0.000000  0.000000  0.001042\n",
       "5.473947    0.003043  0.002089  0.001430  0.005535  0.000000  0.001042\n",
       "6.958751    0.220532  0.261619  0.230219  0.302583  0.352941  0.234375\n",
       "10.804901   0.002778  0.002611  0.001907  0.001845  0.000000  0.001042\n",
       "13.065824   0.000529  0.000522  0.000953  0.001845  0.000000  0.001042\n",
       "18.065428   0.000132  0.002089  0.000477  0.001845  0.000000  0.002083\n",
       "40.853809   0.026194  0.040209  0.028599  0.053506  0.000000  0.031250\n",
       "63.434006   0.000000  0.000000  0.000477  0.000000  0.000000  0.000000\n",
       "106.059479  0.000132  0.000000  0.000000  0.000000  0.000000  0.000000"
      ]
     },
     "execution_count": 62,
     "metadata": {},
     "output_type": "execute_result"
    }
   ],
   "source": [
    "pd.crosstab(dataSubset.SCORE,dataSubset.RACE).apply(lambda x: x/x.sum()) # percentages"
   ]
  },
  {
   "cell_type": "code",
   "execution_count": 65,
   "metadata": {
    "collapsed": false
   },
   "outputs": [
    {
     "name": "stdout",
     "output_type": "stream",
     "text": [
      "p-value:  3.38862816924e-06\n"
     ]
    }
   ],
   "source": [
    "p_val = stats.chi2_contingency(ctRACE)[1]\n",
    "print \"p-value: \", p_val  "
   ]
  },
  {
   "cell_type": "markdown",
   "metadata": {},
   "source": [
    "P-value < 0.01 so there are difference in the scores between the various races. "
   ]
  },
  {
   "cell_type": "code",
   "execution_count": 70,
   "metadata": {
    "collapsed": false
   },
   "outputs": [
    {
     "data": {
      "text/html": [
       "<div>\n",
       "<table border=\"1\" class=\"dataframe\">\n",
       "  <thead>\n",
       "    <tr style=\"text-align: right;\">\n",
       "      <th>RACE</th>\n",
       "      <th>1.0</th>\n",
       "      <th>2.0</th>\n",
       "      <th>3.0</th>\n",
       "      <th>4.0</th>\n",
       "      <th>5.0</th>\n",
       "      <th>6.0</th>\n",
       "    </tr>\n",
       "    <tr>\n",
       "      <th>SCORE</th>\n",
       "      <th></th>\n",
       "      <th></th>\n",
       "      <th></th>\n",
       "      <th></th>\n",
       "      <th></th>\n",
       "      <th></th>\n",
       "    </tr>\n",
       "  </thead>\n",
       "  <tbody>\n",
       "    <tr>\n",
       "      <th>0.298197</th>\n",
       "      <td>120</td>\n",
       "      <td>51</td>\n",
       "      <td>46</td>\n",
       "      <td>13</td>\n",
       "      <td>2</td>\n",
       "      <td>22</td>\n",
       "    </tr>\n",
       "    <tr>\n",
       "      <th>0.463013</th>\n",
       "      <td>0</td>\n",
       "      <td>1</td>\n",
       "      <td>1</td>\n",
       "      <td>0</td>\n",
       "      <td>0</td>\n",
       "      <td>1</td>\n",
       "    </tr>\n",
       "    <tr>\n",
       "      <th>0.932394</th>\n",
       "      <td>5421</td>\n",
       "      <td>1241</td>\n",
       "      <td>1470</td>\n",
       "      <td>318</td>\n",
       "      <td>30</td>\n",
       "      <td>662</td>\n",
       "    </tr>\n",
       "    <tr>\n",
       "      <th>1.447735</th>\n",
       "      <td>55</td>\n",
       "      <td>13</td>\n",
       "      <td>16</td>\n",
       "      <td>8</td>\n",
       "      <td>1</td>\n",
       "      <td>8</td>\n",
       "    </tr>\n",
       "    <tr>\n",
       "      <th>1.558931</th>\n",
       "      <td>0</td>\n",
       "      <td>1</td>\n",
       "      <td>0</td>\n",
       "      <td>0</td>\n",
       "      <td>0</td>\n",
       "      <td>0</td>\n",
       "    </tr>\n",
       "    <tr>\n",
       "      <th>1.750672</th>\n",
       "      <td>0</td>\n",
       "      <td>0</td>\n",
       "      <td>0</td>\n",
       "      <td>0</td>\n",
       "      <td>0</td>\n",
       "      <td>1</td>\n",
       "    </tr>\n",
       "    <tr>\n",
       "      <th>2.225541</th>\n",
       "      <td>44</td>\n",
       "      <td>13</td>\n",
       "      <td>10</td>\n",
       "      <td>4</td>\n",
       "      <td>0</td>\n",
       "      <td>5</td>\n",
       "    </tr>\n",
       "    <tr>\n",
       "      <th>2.420563</th>\n",
       "      <td>4</td>\n",
       "      <td>3</td>\n",
       "      <td>1</td>\n",
       "      <td>0</td>\n",
       "      <td>0</td>\n",
       "      <td>1</td>\n",
       "    </tr>\n",
       "    <tr>\n",
       "      <th>5.473947</th>\n",
       "      <td>23</td>\n",
       "      <td>4</td>\n",
       "      <td>3</td>\n",
       "      <td>3</td>\n",
       "      <td>0</td>\n",
       "      <td>1</td>\n",
       "    </tr>\n",
       "    <tr>\n",
       "      <th>6.958751</th>\n",
       "      <td>1667</td>\n",
       "      <td>501</td>\n",
       "      <td>483</td>\n",
       "      <td>164</td>\n",
       "      <td>18</td>\n",
       "      <td>225</td>\n",
       "    </tr>\n",
       "    <tr>\n",
       "      <th>10.804901</th>\n",
       "      <td>21</td>\n",
       "      <td>5</td>\n",
       "      <td>4</td>\n",
       "      <td>1</td>\n",
       "      <td>0</td>\n",
       "      <td>1</td>\n",
       "    </tr>\n",
       "    <tr>\n",
       "      <th>13.065824</th>\n",
       "      <td>4</td>\n",
       "      <td>1</td>\n",
       "      <td>2</td>\n",
       "      <td>1</td>\n",
       "      <td>0</td>\n",
       "      <td>1</td>\n",
       "    </tr>\n",
       "    <tr>\n",
       "      <th>18.065428</th>\n",
       "      <td>1</td>\n",
       "      <td>4</td>\n",
       "      <td>1</td>\n",
       "      <td>1</td>\n",
       "      <td>0</td>\n",
       "      <td>2</td>\n",
       "    </tr>\n",
       "    <tr>\n",
       "      <th>40.853809</th>\n",
       "      <td>198</td>\n",
       "      <td>77</td>\n",
       "      <td>60</td>\n",
       "      <td>29</td>\n",
       "      <td>0</td>\n",
       "      <td>30</td>\n",
       "    </tr>\n",
       "    <tr>\n",
       "      <th>63.434006</th>\n",
       "      <td>0</td>\n",
       "      <td>0</td>\n",
       "      <td>1</td>\n",
       "      <td>0</td>\n",
       "      <td>0</td>\n",
       "      <td>0</td>\n",
       "    </tr>\n",
       "    <tr>\n",
       "      <th>106.059479</th>\n",
       "      <td>1</td>\n",
       "      <td>0</td>\n",
       "      <td>0</td>\n",
       "      <td>0</td>\n",
       "      <td>0</td>\n",
       "      <td>0</td>\n",
       "    </tr>\n",
       "  </tbody>\n",
       "</table>\n",
       "</div>"
      ],
      "text/plain": [
       "RACE         1.0   2.0   3.0  4.0  5.0  6.0\n",
       "SCORE                                      \n",
       "0.298197     120    51    46   13    2   22\n",
       "0.463013       0     1     1    0    0    1\n",
       "0.932394    5421  1241  1470  318   30  662\n",
       "1.447735      55    13    16    8    1    8\n",
       "1.558931       0     1     0    0    0    0\n",
       "1.750672       0     0     0    0    0    1\n",
       "2.225541      44    13    10    4    0    5\n",
       "2.420563       4     3     1    0    0    1\n",
       "5.473947      23     4     3    3    0    1\n",
       "6.958751    1667   501   483  164   18  225\n",
       "10.804901     21     5     4    1    0    1\n",
       "13.065824      4     1     2    1    0    1\n",
       "18.065428      1     4     1    1    0    2\n",
       "40.853809    198    77    60   29    0   30\n",
       "63.434006      0     0     1    0    0    0\n",
       "106.059479     1     0     0    0    0    0"
      ]
     },
     "execution_count": 70,
     "metadata": {},
     "output_type": "execute_result"
    }
   ],
   "source": [
    "# lets look at the means\n",
    "ctRACEmean = pd.DataFrame(pd.crosstab(dataSubset.SCORE,dataSubset.RACE).mean(0); ctRACE"
   ]
  },
  {
   "cell_type": "code",
   "execution_count": null,
   "metadata": {
    "collapsed": true
   },
   "outputs": [],
   "source": []
  }
 ],
 "metadata": {
  "kernelspec": {
   "display_name": "Python 2",
   "language": "python",
   "name": "python2"
  },
  "language_info": {
   "codemirror_mode": {
    "name": "ipython",
    "version": 2
   },
   "file_extension": ".py",
   "mimetype": "text/x-python",
   "name": "python",
   "nbconvert_exporter": "python",
   "pygments_lexer": "ipython2",
   "version": "2.7.11"
  }
 },
 "nbformat": 4,
 "nbformat_minor": 0
}
