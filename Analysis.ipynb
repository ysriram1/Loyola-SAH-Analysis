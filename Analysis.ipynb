{
 "cells": [
  {
   "cell_type": "code",
   "execution_count": 1,
   "metadata": {
    "collapsed": false
   },
   "outputs": [],
   "source": [
    "'''\n",
    "Author: Sriram Yarlagadda\n",
    "Date Created: 8/26/2016\n",
    "Note: Please use Python 2.7\n",
    "'''\n",
    "import os\n",
    "import numpy as np\n",
    "import pandas as pd\n",
    "import matplotlib.pyplot as plt\n",
    "%matplotlib inline\n",
    "os.chdir('C:\\Users\\syarlag1\\Desktop\\Loyola-SAH-Analysis') #Set location of home dir here.\n",
    "#os.chdir('/Users/Sriram/Desktop/DePaul/Loyola-SAH-Analysis')#location in Mac"
   ]
  },
  {
   "cell_type": "markdown",
   "metadata": {},
   "source": [
    "### Reading Data"
   ]
  },
  {
   "cell_type": "markdown",
   "metadata": {},
   "source": [
    "Only the variables needed are extracted. See the variable \"varLst\"."
   ]
  },
  {
   "cell_type": "code",
   "execution_count": 2,
   "metadata": {
    "collapsed": false
   },
   "outputs": [
    {
     "name": "stdout",
     "output_type": "stream",
     "text": [
      "CAData\n",
      "FLData\n",
      "IAData\n",
      "NYData\n",
      "WAData\n"
     ]
    }
   ],
   "source": [
    "os.chdir('./data')\n",
    "dataFiles = os.listdir('.')\n",
    "#Names of the variables we need\n",
    "varLst = ['KEY','LOS','DIED','AGE','SAH','ASA','RACE','PT_INT_SAH','PT_INT_SAH_ASA','SCORE','DISCHARGE_BAD','DISCHARGE_GOOD']\n",
    "fullDataDict = {}\n",
    "for fileName in dataFiles:\n",
    "    dataStr = fileName[:2] + 'Data'; print dataStr #print to confirm that the data is created\n",
    "    fullDataDict[dataStr] = pd.DataFrame()\n",
    "    fullDataDict[dataStr] = pd.read_stata(fileName, columns=varLst)\n",
    "    fullDataDict[dataStr]['KEY'] = fullDataDict[dataStr]['KEY'].astype(str)#Setting the KEY variable as an object   \n",
    "    #fullDataDict[dataStr].index = fullDataDict[dataStr]['KEY']; del fullDataDict[dataStr]['KEY'] #Setting 'KEY' as index"
   ]
  },
  {
   "cell_type": "code",
   "execution_count": 3,
   "metadata": {
    "collapsed": false
   },
   "outputs": [],
   "source": [
    "for key in fullDataDict.keys(): #creating a new state identifier column\n",
    "    fullDataDict[key]['State'] = pd.Series([str(key)[:2]]*fullDataDict[key].shape[0])\n",
    "allStateData = pd.concat(fullDataDict.values()) #combing into a single dataframe\n",
    "allStateData.index = range(allStateData.shape[0])"
   ]
  },
  {
   "cell_type": "markdown",
   "metadata": {},
   "source": [
    "### Data Preprocessing"
   ]
  },
  {
   "cell_type": "code",
   "execution_count": 4,
   "metadata": {
    "collapsed": false
   },
   "outputs": [
    {
     "data": {
      "text/html": [
       "<div>\n",
       "<table border=\"1\" class=\"dataframe\">\n",
       "  <thead>\n",
       "    <tr style=\"text-align: right;\">\n",
       "      <th></th>\n",
       "      <th>LOS</th>\n",
       "      <th>DIED</th>\n",
       "      <th>AGE</th>\n",
       "      <th>SAH</th>\n",
       "      <th>ASA</th>\n",
       "      <th>RACE</th>\n",
       "      <th>PT_INT_SAH</th>\n",
       "      <th>PT_INT_SAH_ASA</th>\n",
       "      <th>SCORE</th>\n",
       "      <th>DISCHARGE_BAD</th>\n",
       "      <th>DISCHARGE_GOOD</th>\n",
       "    </tr>\n",
       "  </thead>\n",
       "  <tbody>\n",
       "    <tr>\n",
       "      <th>count</th>\n",
       "      <td>38073.000000</td>\n",
       "      <td>38070.000000</td>\n",
       "      <td>37997.000000</td>\n",
       "      <td>38076.0</td>\n",
       "      <td>38076.000000</td>\n",
       "      <td>36714.000000</td>\n",
       "      <td>38076.0</td>\n",
       "      <td>38076.000000</td>\n",
       "      <td>38076.000000</td>\n",
       "      <td>38076.000000</td>\n",
       "      <td>38076.000000</td>\n",
       "    </tr>\n",
       "    <tr>\n",
       "      <th>mean</th>\n",
       "      <td>12.156121</td>\n",
       "      <td>0.205411</td>\n",
       "      <td>58.953760</td>\n",
       "      <td>1.0</td>\n",
       "      <td>0.034116</td>\n",
       "      <td>1.835921</td>\n",
       "      <td>1.0</td>\n",
       "      <td>0.034116</td>\n",
       "      <td>5.737062</td>\n",
       "      <td>0.053997</td>\n",
       "      <td>0.298823</td>\n",
       "    </tr>\n",
       "    <tr>\n",
       "      <th>std</th>\n",
       "      <td>37.174909</td>\n",
       "      <td>0.406922</td>\n",
       "      <td>16.077388</td>\n",
       "      <td>0.0</td>\n",
       "      <td>0.181565</td>\n",
       "      <td>1.981554</td>\n",
       "      <td>0.0</td>\n",
       "      <td>0.181565</td>\n",
       "      <td>10.290835</td>\n",
       "      <td>0.226037</td>\n",
       "      <td>0.457805</td>\n",
       "    </tr>\n",
       "    <tr>\n",
       "      <th>min</th>\n",
       "      <td>-6666.000000</td>\n",
       "      <td>-9.000000</td>\n",
       "      <td>18.000000</td>\n",
       "      <td>1.0</td>\n",
       "      <td>0.000000</td>\n",
       "      <td>-9.000000</td>\n",
       "      <td>1.0</td>\n",
       "      <td>0.000000</td>\n",
       "      <td>0.298197</td>\n",
       "      <td>0.000000</td>\n",
       "      <td>0.000000</td>\n",
       "    </tr>\n",
       "    <tr>\n",
       "      <th>25%</th>\n",
       "      <td>3.000000</td>\n",
       "      <td>0.000000</td>\n",
       "      <td>48.000000</td>\n",
       "      <td>1.0</td>\n",
       "      <td>0.000000</td>\n",
       "      <td>1.000000</td>\n",
       "      <td>1.0</td>\n",
       "      <td>0.000000</td>\n",
       "      <td>0.932394</td>\n",
       "      <td>0.000000</td>\n",
       "      <td>0.000000</td>\n",
       "    </tr>\n",
       "    <tr>\n",
       "      <th>50%</th>\n",
       "      <td>9.000000</td>\n",
       "      <td>0.000000</td>\n",
       "      <td>58.000000</td>\n",
       "      <td>1.0</td>\n",
       "      <td>0.000000</td>\n",
       "      <td>1.000000</td>\n",
       "      <td>1.0</td>\n",
       "      <td>0.000000</td>\n",
       "      <td>0.932394</td>\n",
       "      <td>0.000000</td>\n",
       "      <td>0.000000</td>\n",
       "    </tr>\n",
       "    <tr>\n",
       "      <th>75%</th>\n",
       "      <td>17.000000</td>\n",
       "      <td>0.000000</td>\n",
       "      <td>71.000000</td>\n",
       "      <td>1.0</td>\n",
       "      <td>0.000000</td>\n",
       "      <td>3.000000</td>\n",
       "      <td>1.0</td>\n",
       "      <td>0.000000</td>\n",
       "      <td>6.958751</td>\n",
       "      <td>0.000000</td>\n",
       "      <td>1.000000</td>\n",
       "    </tr>\n",
       "    <tr>\n",
       "      <th>max</th>\n",
       "      <td>362.000000</td>\n",
       "      <td>1.000000</td>\n",
       "      <td>111.000000</td>\n",
       "      <td>1.0</td>\n",
       "      <td>1.000000</td>\n",
       "      <td>6.000000</td>\n",
       "      <td>1.0</td>\n",
       "      <td>1.000000</td>\n",
       "      <td>106.059479</td>\n",
       "      <td>1.000000</td>\n",
       "      <td>1.000000</td>\n",
       "    </tr>\n",
       "  </tbody>\n",
       "</table>\n",
       "</div>"
      ],
      "text/plain": [
       "                LOS          DIED           AGE      SAH           ASA  \\\n",
       "count  38073.000000  38070.000000  37997.000000  38076.0  38076.000000   \n",
       "mean      12.156121      0.205411     58.953760      1.0      0.034116   \n",
       "std       37.174909      0.406922     16.077388      0.0      0.181565   \n",
       "min    -6666.000000     -9.000000     18.000000      1.0      0.000000   \n",
       "25%        3.000000      0.000000     48.000000      1.0      0.000000   \n",
       "50%        9.000000      0.000000     58.000000      1.0      0.000000   \n",
       "75%       17.000000      0.000000     71.000000      1.0      0.000000   \n",
       "max      362.000000      1.000000    111.000000      1.0      1.000000   \n",
       "\n",
       "               RACE  PT_INT_SAH  PT_INT_SAH_ASA         SCORE  DISCHARGE_BAD  \\\n",
       "count  36714.000000     38076.0    38076.000000  38076.000000   38076.000000   \n",
       "mean       1.835921         1.0        0.034116      5.737062       0.053997   \n",
       "std        1.981554         0.0        0.181565     10.290835       0.226037   \n",
       "min       -9.000000         1.0        0.000000      0.298197       0.000000   \n",
       "25%        1.000000         1.0        0.000000      0.932394       0.000000   \n",
       "50%        1.000000         1.0        0.000000      0.932394       0.000000   \n",
       "75%        3.000000         1.0        0.000000      6.958751       0.000000   \n",
       "max        6.000000         1.0        1.000000    106.059479       1.000000   \n",
       "\n",
       "       DISCHARGE_GOOD  \n",
       "count    38076.000000  \n",
       "mean         0.298823  \n",
       "std          0.457805  \n",
       "min          0.000000  \n",
       "25%          0.000000  \n",
       "50%          0.000000  \n",
       "75%          1.000000  \n",
       "max          1.000000  "
      ]
     },
     "execution_count": 4,
     "metadata": {},
     "output_type": "execute_result"
    }
   ],
   "source": [
    "allStateData.describe()"
   ]
  },
  {
   "cell_type": "markdown",
   "metadata": {},
   "source": [
    "As we can see, there are some abberations. For example, the min of LOS is -6666, which is not possible. Hence we scan for other such outliers and remove the cases that correspond to them."
   ]
  },
  {
   "cell_type": "code",
   "execution_count": 5,
   "metadata": {
    "collapsed": false
   },
   "outputs": [
    {
     "data": {
      "text/plain": [
       "array([  0,   1,   1,   0,   0,   0, 629,   0,   0,   0,   0,   0,   0])"
      ]
     },
     "execution_count": 5,
     "metadata": {},
     "output_type": "execute_result"
    }
   ],
   "source": [
    "np.sum(np.array(allStateData < 0),0)"
   ]
  },
  {
   "cell_type": "markdown",
   "metadata": {},
   "source": [
    "As we can see from the above output, only three features -- LOS, DIED, RACE -- have negative values. We look at the cases that correspond to these:"
   ]
  },
  {
   "cell_type": "code",
   "execution_count": 6,
   "metadata": {
    "collapsed": false
   },
   "outputs": [
    {
     "data": {
      "text/html": [
       "<div>\n",
       "<table border=\"1\" class=\"dataframe\">\n",
       "  <thead>\n",
       "    <tr style=\"text-align: right;\">\n",
       "      <th></th>\n",
       "      <th>KEY</th>\n",
       "      <th>LOS</th>\n",
       "      <th>DIED</th>\n",
       "      <th>AGE</th>\n",
       "      <th>SAH</th>\n",
       "      <th>ASA</th>\n",
       "      <th>RACE</th>\n",
       "      <th>PT_INT_SAH</th>\n",
       "      <th>PT_INT_SAH_ASA</th>\n",
       "      <th>SCORE</th>\n",
       "      <th>DISCHARGE_BAD</th>\n",
       "      <th>DISCHARGE_GOOD</th>\n",
       "      <th>State</th>\n",
       "    </tr>\n",
       "  </thead>\n",
       "  <tbody>\n",
       "    <tr>\n",
       "      <th>34950</th>\n",
       "      <td>6.20061320052e+12</td>\n",
       "      <td>1.0</td>\n",
       "      <td>-9.0</td>\n",
       "      <td>46.0</td>\n",
       "      <td>1.0</td>\n",
       "      <td>0.0</td>\n",
       "      <td>1.0</td>\n",
       "      <td>1.0</td>\n",
       "      <td>0.0</td>\n",
       "      <td>6.958751</td>\n",
       "      <td>0.0</td>\n",
       "      <td>0.0</td>\n",
       "      <td>CA</td>\n",
       "    </tr>\n",
       "  </tbody>\n",
       "</table>\n",
       "</div>"
      ],
      "text/plain": [
       "                     KEY  LOS  DIED   AGE  SAH  ASA  RACE  PT_INT_SAH  \\\n",
       "34950  6.20061320052e+12  1.0  -9.0  46.0  1.0  0.0   1.0         1.0   \n",
       "\n",
       "       PT_INT_SAH_ASA     SCORE  DISCHARGE_BAD  DISCHARGE_GOOD State  \n",
       "34950             0.0  6.958751            0.0             0.0    CA  "
      ]
     },
     "execution_count": 6,
     "metadata": {},
     "output_type": "execute_result"
    }
   ],
   "source": [
    "allStateData[allStateData['DIED'] < 0]"
   ]
  },
  {
   "cell_type": "code",
   "execution_count": 7,
   "metadata": {
    "collapsed": false
   },
   "outputs": [
    {
     "data": {
      "text/html": [
       "<div>\n",
       "<table border=\"1\" class=\"dataframe\">\n",
       "  <thead>\n",
       "    <tr style=\"text-align: right;\">\n",
       "      <th></th>\n",
       "      <th>KEY</th>\n",
       "      <th>LOS</th>\n",
       "      <th>DIED</th>\n",
       "      <th>AGE</th>\n",
       "      <th>SAH</th>\n",
       "      <th>ASA</th>\n",
       "      <th>RACE</th>\n",
       "      <th>PT_INT_SAH</th>\n",
       "      <th>PT_INT_SAH_ASA</th>\n",
       "      <th>SCORE</th>\n",
       "      <th>DISCHARGE_BAD</th>\n",
       "      <th>DISCHARGE_GOOD</th>\n",
       "      <th>State</th>\n",
       "    </tr>\n",
       "  </thead>\n",
       "  <tbody>\n",
       "    <tr>\n",
       "      <th>24364</th>\n",
       "      <td>6.20061082797e+12</td>\n",
       "      <td>-6666.0</td>\n",
       "      <td>0.0</td>\n",
       "      <td>67.0</td>\n",
       "      <td>1.0</td>\n",
       "      <td>0.0</td>\n",
       "      <td>4.0</td>\n",
       "      <td>1.0</td>\n",
       "      <td>0.0</td>\n",
       "      <td>5.473947</td>\n",
       "      <td>0.0</td>\n",
       "      <td>0.0</td>\n",
       "      <td>CA</td>\n",
       "    </tr>\n",
       "  </tbody>\n",
       "</table>\n",
       "</div>"
      ],
      "text/plain": [
       "                     KEY     LOS  DIED   AGE  SAH  ASA  RACE  PT_INT_SAH  \\\n",
       "24364  6.20061082797e+12 -6666.0   0.0  67.0  1.0  0.0   4.0         1.0   \n",
       "\n",
       "       PT_INT_SAH_ASA     SCORE  DISCHARGE_BAD  DISCHARGE_GOOD State  \n",
       "24364             0.0  5.473947            0.0             0.0    CA  "
      ]
     },
     "execution_count": 7,
     "metadata": {},
     "output_type": "execute_result"
    }
   ],
   "source": [
    "allStateData[allStateData['LOS'] < 0]"
   ]
  },
  {
   "cell_type": "code",
   "execution_count": 10,
   "metadata": {
    "collapsed": false
   },
   "outputs": [],
   "source": [
    "allStateData[allStateData['RACE'] < 0]; # not showing output (629 cases)"
   ]
  },
  {
   "cell_type": "code",
   "execution_count": 11,
   "metadata": {
    "collapsed": false
   },
   "outputs": [
    {
     "data": {
      "text/plain": [
       "array([   0,    3,    6,   79,    0,    0, 1362,    0,    0,    0,    0,\n",
       "          0,    0])"
      ]
     },
     "execution_count": 11,
     "metadata": {},
     "output_type": "execute_result"
    }
   ],
   "source": [
    "np.sum(np.array(pd.isnull(allStateData)),0)"
   ]
  },
  {
   "cell_type": "markdown",
   "metadata": {},
   "source": [
    "There are **1450** missing values in our data."
   ]
  },
  {
   "cell_type": "markdown",
   "metadata": {},
   "source": [
    "We remove all cases which have such outliers:"
   ]
  },
  {
   "cell_type": "code",
   "execution_count": 12,
   "metadata": {
    "collapsed": false
   },
   "outputs": [],
   "source": [
    "for feature in allStateData.columns: \n",
    "    allStateData = allStateData[allStateData[feature] >= 0] #removing all the cases that are less than 0 "
   ]
  },
  {
   "cell_type": "code",
   "execution_count": 13,
   "metadata": {
    "collapsed": true
   },
   "outputs": [],
   "source": [
    "os.chdir('./..') \n",
    "allStateData.to_csv('./allStateData.csv') #saving entire file for easy future access"
   ]
  },
  {
   "cell_type": "code",
   "execution_count": 14,
   "metadata": {
    "collapsed": false
   },
   "outputs": [
    {
     "data": {
      "text/plain": [
       "0"
      ]
     },
     "execution_count": 14,
     "metadata": {},
     "output_type": "execute_result"
    }
   ],
   "source": [
    "sum(allStateData.AGE < 18) # checking to see if everyone is over 18 # TRUE"
   ]
  },
  {
   "cell_type": "code",
   "execution_count": 15,
   "metadata": {
    "collapsed": false
   },
   "outputs": [
    {
     "data": {
      "text/html": [
       "<div>\n",
       "<table border=\"1\" class=\"dataframe\">\n",
       "  <thead>\n",
       "    <tr style=\"text-align: right;\">\n",
       "      <th></th>\n",
       "      <th>LOS</th>\n",
       "      <th>DIED</th>\n",
       "      <th>AGE</th>\n",
       "      <th>SAH</th>\n",
       "      <th>ASA</th>\n",
       "      <th>RACE</th>\n",
       "      <th>PT_INT_SAH</th>\n",
       "      <th>PT_INT_SAH_ASA</th>\n",
       "      <th>SCORE</th>\n",
       "      <th>DISCHARGE_BAD</th>\n",
       "      <th>DISCHARGE_GOOD</th>\n",
       "    </tr>\n",
       "  </thead>\n",
       "  <tbody>\n",
       "    <tr>\n",
       "      <th>count</th>\n",
       "      <td>36076.000000</td>\n",
       "      <td>36076.000000</td>\n",
       "      <td>36076.000000</td>\n",
       "      <td>36076.0</td>\n",
       "      <td>36076.000000</td>\n",
       "      <td>36076.000000</td>\n",
       "      <td>36076.0</td>\n",
       "      <td>36076.000000</td>\n",
       "      <td>36076.000000</td>\n",
       "      <td>36076.000000</td>\n",
       "      <td>36076.000000</td>\n",
       "    </tr>\n",
       "    <tr>\n",
       "      <th>mean</th>\n",
       "      <td>12.415262</td>\n",
       "      <td>0.205261</td>\n",
       "      <td>59.179704</td>\n",
       "      <td>1.0</td>\n",
       "      <td>0.034594</td>\n",
       "      <td>2.024587</td>\n",
       "      <td>1.0</td>\n",
       "      <td>0.034594</td>\n",
       "      <td>5.757760</td>\n",
       "      <td>0.055522</td>\n",
       "      <td>0.303415</td>\n",
       "    </tr>\n",
       "    <tr>\n",
       "      <th>std</th>\n",
       "      <td>14.611701</td>\n",
       "      <td>0.403898</td>\n",
       "      <td>16.051164</td>\n",
       "      <td>0.0</td>\n",
       "      <td>0.182788</td>\n",
       "      <td>1.382829</td>\n",
       "      <td>0.0</td>\n",
       "      <td>0.182788</td>\n",
       "      <td>10.309295</td>\n",
       "      <td>0.228984</td>\n",
       "      <td>0.459886</td>\n",
       "    </tr>\n",
       "    <tr>\n",
       "      <th>min</th>\n",
       "      <td>0.000000</td>\n",
       "      <td>0.000000</td>\n",
       "      <td>18.000000</td>\n",
       "      <td>1.0</td>\n",
       "      <td>0.000000</td>\n",
       "      <td>1.000000</td>\n",
       "      <td>1.0</td>\n",
       "      <td>0.000000</td>\n",
       "      <td>0.298197</td>\n",
       "      <td>0.000000</td>\n",
       "      <td>0.000000</td>\n",
       "    </tr>\n",
       "    <tr>\n",
       "      <th>25%</th>\n",
       "      <td>3.000000</td>\n",
       "      <td>0.000000</td>\n",
       "      <td>48.000000</td>\n",
       "      <td>1.0</td>\n",
       "      <td>0.000000</td>\n",
       "      <td>1.000000</td>\n",
       "      <td>1.0</td>\n",
       "      <td>0.000000</td>\n",
       "      <td>0.932394</td>\n",
       "      <td>0.000000</td>\n",
       "      <td>0.000000</td>\n",
       "    </tr>\n",
       "    <tr>\n",
       "      <th>50%</th>\n",
       "      <td>9.000000</td>\n",
       "      <td>0.000000</td>\n",
       "      <td>58.000000</td>\n",
       "      <td>1.0</td>\n",
       "      <td>0.000000</td>\n",
       "      <td>1.000000</td>\n",
       "      <td>1.0</td>\n",
       "      <td>0.000000</td>\n",
       "      <td>0.932394</td>\n",
       "      <td>0.000000</td>\n",
       "      <td>0.000000</td>\n",
       "    </tr>\n",
       "    <tr>\n",
       "      <th>75%</th>\n",
       "      <td>17.000000</td>\n",
       "      <td>0.000000</td>\n",
       "      <td>71.000000</td>\n",
       "      <td>1.0</td>\n",
       "      <td>0.000000</td>\n",
       "      <td>3.000000</td>\n",
       "      <td>1.0</td>\n",
       "      <td>0.000000</td>\n",
       "      <td>6.958751</td>\n",
       "      <td>0.000000</td>\n",
       "      <td>1.000000</td>\n",
       "    </tr>\n",
       "    <tr>\n",
       "      <th>max</th>\n",
       "      <td>362.000000</td>\n",
       "      <td>1.000000</td>\n",
       "      <td>111.000000</td>\n",
       "      <td>1.0</td>\n",
       "      <td>1.000000</td>\n",
       "      <td>6.000000</td>\n",
       "      <td>1.0</td>\n",
       "      <td>1.000000</td>\n",
       "      <td>106.059479</td>\n",
       "      <td>1.000000</td>\n",
       "      <td>1.000000</td>\n",
       "    </tr>\n",
       "  </tbody>\n",
       "</table>\n",
       "</div>"
      ],
      "text/plain": [
       "                LOS          DIED           AGE      SAH           ASA  \\\n",
       "count  36076.000000  36076.000000  36076.000000  36076.0  36076.000000   \n",
       "mean      12.415262      0.205261     59.179704      1.0      0.034594   \n",
       "std       14.611701      0.403898     16.051164      0.0      0.182788   \n",
       "min        0.000000      0.000000     18.000000      1.0      0.000000   \n",
       "25%        3.000000      0.000000     48.000000      1.0      0.000000   \n",
       "50%        9.000000      0.000000     58.000000      1.0      0.000000   \n",
       "75%       17.000000      0.000000     71.000000      1.0      0.000000   \n",
       "max      362.000000      1.000000    111.000000      1.0      1.000000   \n",
       "\n",
       "               RACE  PT_INT_SAH  PT_INT_SAH_ASA         SCORE  DISCHARGE_BAD  \\\n",
       "count  36076.000000     36076.0    36076.000000  36076.000000   36076.000000   \n",
       "mean       2.024587         1.0        0.034594      5.757760       0.055522   \n",
       "std        1.382829         0.0        0.182788     10.309295       0.228984   \n",
       "min        1.000000         1.0        0.000000      0.298197       0.000000   \n",
       "25%        1.000000         1.0        0.000000      0.932394       0.000000   \n",
       "50%        1.000000         1.0        0.000000      0.932394       0.000000   \n",
       "75%        3.000000         1.0        0.000000      6.958751       0.000000   \n",
       "max        6.000000         1.0        1.000000    106.059479       1.000000   \n",
       "\n",
       "       DISCHARGE_GOOD  \n",
       "count    36076.000000  \n",
       "mean         0.303415  \n",
       "std          0.459886  \n",
       "min          0.000000  \n",
       "25%          0.000000  \n",
       "50%          0.000000  \n",
       "75%          1.000000  \n",
       "max          1.000000  "
      ]
     },
     "execution_count": 15,
     "metadata": {},
     "output_type": "execute_result"
    }
   ],
   "source": [
    "allStateData.describe()"
   ]
  },
  {
   "cell_type": "markdown",
   "metadata": {},
   "source": [
    "### Data Exploration\n",
    "\n",
    "In this section we first look at how the cases are distributed by STATE and ASA status and then we visualize the relation between the SCORE, DIED, and LOS variables and the ASA status (0 or 1)"
   ]
  },
  {
   "cell_type": "code",
   "execution_count": 12,
   "metadata": {
    "collapsed": false
   },
   "outputs": [],
   "source": [
    "allStateData = pd.read_csv('./allStateData.csv')#ignore this if running script from top"
   ]
  },
  {
   "cell_type": "markdown",
   "metadata": {},
   "source": [
    "#### First we look at the distribution of the case counts by State and ASA status\n",
    "\n",
    "**NOTE:** Since we are including the race variable, which has a lot of NaNs, we will have slightly different results from the previous analysis. None of the conclusion have changed. "
   ]
  },
  {
   "cell_type": "markdown",
   "metadata": {},
   "source": [
    "Taking a look at the number of cases by state:"
   ]
  },
  {
   "cell_type": "code",
   "execution_count": 16,
   "metadata": {
    "collapsed": false
   },
   "outputs": [
    {
     "data": {
      "text/plain": [
       "CA    16990\n",
       "FL     8340\n",
       "NY     8146\n",
       "WA     1709\n",
       "IA      891\n",
       "Name: State, dtype: int64"
      ]
     },
     "execution_count": 16,
     "metadata": {},
     "output_type": "execute_result"
    }
   ],
   "source": [
    "allStateData.State.value_counts()"
   ]
  },
  {
   "cell_type": "code",
   "execution_count": 17,
   "metadata": {
    "collapsed": false
   },
   "outputs": [
    {
     "data": {
      "text/plain": [
       "<matplotlib.text.Text at 0xd097ef0>"
      ]
     },
     "execution_count": 17,
     "metadata": {},
     "output_type": "execute_result"
    },
    {
     "data": {
      "image/png": "[encoded data removed]",
      "text/plain": [
       "<matplotlib.figure.Figure at 0xa1a01d0>"
      ]
     },
     "metadata": {},
     "output_type": "display_data"
    }
   ],
   "source": [
    "allStateData.State.value_counts().plot('bar')\n",
    "plt.title('State Distribution')"
   ]
  },
  {
   "cell_type": "markdown",
   "metadata": {},
   "source": [
    "As seen above, California has the most number of cases, more than the next two (FL and NY) combined.\n"
   ]
  },
  {
   "cell_type": "code",
   "execution_count": 18,
   "metadata": {
    "collapsed": false
   },
   "outputs": [
    {
     "data": {
      "text/plain": [
       "<matplotlib.text.Text at 0xa229940>"
      ]
     },
     "execution_count": 18,
     "metadata": {},
     "output_type": "execute_result"
    },
    {
     "data": {
      "image/png": "[encoded data removed]",
      "text/plain": [
       "<matplotlib.figure.Figure at 0x96840f0>"
      ]
     },
     "metadata": {},
     "output_type": "display_data"
    }
   ],
   "source": [
    "allStateData.ASA.value_counts().plot('bar')\n",
    "plt.title('ASA distribution')"
   ]
  },
  {
   "cell_type": "markdown",
   "metadata": {},
   "source": [
    "The above barplot shows us that there are **far fewer** cases of ASA than without ASA\n",
    "\n",
    "#### We now look at the distribution of the SCORE variable"
   ]
  },
  {
   "cell_type": "code",
   "execution_count": 19,
   "metadata": {
    "collapsed": false
   },
   "outputs": [
    {
     "data": {
      "image/png": "[encoded data removed]",
      "text/plain": [
       "<matplotlib.figure.Figure at 0xa1fa668>"
      ]
     },
     "metadata": {},
     "output_type": "display_data"
    },
    {
     "data": {
      "image/png": "[encoded data removed]",
      "text/plain": [
       "<matplotlib.figure.Figure at 0xd6574e0>"
      ]
     },
     "metadata": {},
     "output_type": "display_data"
    },
    {
     "data": {
      "image/png": "[encoded data removed]",
      "text/plain": [
       "<matplotlib.figure.Figure at 0xa5042e8>"
      ]
     },
     "metadata": {},
     "output_type": "display_data"
    },
    {
     "data": {
      "image/png": "[encoded data removed]",
      "text/plain": [
       "<matplotlib.figure.Figure at 0xc9a9ac8>"
      ]
     },
     "metadata": {},
     "output_type": "display_data"
    }
   ],
   "source": [
    "###ASA = 0\n",
    "allStateData[allStateData.ASA == 0.].SCORE.plot('box')\n",
    "plt.title('Boxplot of SCORE when ASA = 0'); plt.show()\n",
    "###ASA == 1\n",
    "allStateData[allStateData.ASA == 1.].SCORE.plot('box')\n",
    "plt.title('Boxplot of SCORE when ASA = 1'); plt.show()\n",
    "###ASA = 0\n",
    "allStateData[allStateData.ASA == 0.].SCORE.plot('hist', xlim=(0,20), bins = 100) #zooming in to ignore outliers\n",
    "plt.title('Histogram of SCORE when ASA = 0'); plt.show()\n",
    "###ASA = 1\n",
    "allStateData[allStateData.ASA == 1.].SCORE.plot('hist', xlim=(0,20), bins = 100) #zooming in to ignore outliers\n",
    "plt.title('Histogram of SCORE when ASA = 1'); plt.show()"
   ]
  },
  {
   "cell_type": "markdown",
   "metadata": {},
   "source": [
    "From above we can see that both ASA = 1 and ASA = 0 both have a similar distribution for the SCORE variable. However, it is important to notice that these distributions are **NOT** normal. T-tests may **not** be appropriate when the distributions are not normal.\n",
    "\n",
    "Since there seem to be a lot of discrete values, we also create a cross tabulation (contingency table) of the data with proportions:"
   ]
  },
  {
   "cell_type": "code",
   "execution_count": 20,
   "metadata": {
    "collapsed": false
   },
   "outputs": [
    {
     "data": {
      "text/html": [
       "<div>\n",
       "<table border=\"1\" class=\"dataframe\">\n",
       "  <thead>\n",
       "    <tr style=\"text-align: right;\">\n",
       "      <th>ASA</th>\n",
       "      <th>0.0</th>\n",
       "      <th>1.0</th>\n",
       "    </tr>\n",
       "    <tr>\n",
       "      <th>SCORE</th>\n",
       "      <th></th>\n",
       "      <th></th>\n",
       "    </tr>\n",
       "  </thead>\n",
       "  <tbody>\n",
       "    <tr>\n",
       "      <th>0.298197</th>\n",
       "      <td>0.015849</td>\n",
       "      <td>0.012019</td>\n",
       "    </tr>\n",
       "    <tr>\n",
       "      <th>0.463013</th>\n",
       "      <td>0.000201</td>\n",
       "      <td>0.001603</td>\n",
       "    </tr>\n",
       "    <tr>\n",
       "      <th>0.774142</th>\n",
       "      <td>0.000086</td>\n",
       "      <td>0.000000</td>\n",
       "    </tr>\n",
       "    <tr>\n",
       "      <th>0.932394</th>\n",
       "      <td>0.576605</td>\n",
       "      <td>0.644231</td>\n",
       "    </tr>\n",
       "    <tr>\n",
       "      <th>1.447735</th>\n",
       "      <td>0.008384</td>\n",
       "      <td>0.020833</td>\n",
       "    </tr>\n",
       "    <tr>\n",
       "      <th>1.558931</th>\n",
       "      <td>0.000029</td>\n",
       "      <td>0.000000</td>\n",
       "    </tr>\n",
       "    <tr>\n",
       "      <th>1.750672</th>\n",
       "      <td>0.000115</td>\n",
       "      <td>0.000000</td>\n",
       "    </tr>\n",
       "    <tr>\n",
       "      <th>2.225541</th>\n",
       "      <td>0.006403</td>\n",
       "      <td>0.002404</td>\n",
       "    </tr>\n",
       "    <tr>\n",
       "      <th>2.420563</th>\n",
       "      <td>0.001206</td>\n",
       "      <td>0.002404</td>\n",
       "    </tr>\n",
       "    <tr>\n",
       "      <th>3.455614</th>\n",
       "      <td>0.000029</td>\n",
       "      <td>0.000000</td>\n",
       "    </tr>\n",
       "    <tr>\n",
       "      <th>5.473947</th>\n",
       "      <td>0.011428</td>\n",
       "      <td>0.016026</td>\n",
       "    </tr>\n",
       "    <tr>\n",
       "      <th>6.958751</th>\n",
       "      <td>0.301252</td>\n",
       "      <td>0.233974</td>\n",
       "    </tr>\n",
       "    <tr>\n",
       "      <th>8.499436</th>\n",
       "      <td>0.000230</td>\n",
       "      <td>0.000000</td>\n",
       "    </tr>\n",
       "    <tr>\n",
       "      <th>10.804901</th>\n",
       "      <td>0.003560</td>\n",
       "      <td>0.005609</td>\n",
       "    </tr>\n",
       "    <tr>\n",
       "      <th>13.065824</th>\n",
       "      <td>0.001579</td>\n",
       "      <td>0.000000</td>\n",
       "    </tr>\n",
       "    <tr>\n",
       "      <th>14.210769</th>\n",
       "      <td>0.000029</td>\n",
       "      <td>0.000000</td>\n",
       "    </tr>\n",
       "    <tr>\n",
       "      <th>18.065428</th>\n",
       "      <td>0.000603</td>\n",
       "      <td>0.000000</td>\n",
       "    </tr>\n",
       "    <tr>\n",
       "      <th>40.853809</th>\n",
       "      <td>0.071494</td>\n",
       "      <td>0.060096</td>\n",
       "    </tr>\n",
       "    <tr>\n",
       "      <th>63.434006</th>\n",
       "      <td>0.000833</td>\n",
       "      <td>0.000000</td>\n",
       "    </tr>\n",
       "    <tr>\n",
       "      <th>106.059479</th>\n",
       "      <td>0.000086</td>\n",
       "      <td>0.000801</td>\n",
       "    </tr>\n",
       "  </tbody>\n",
       "</table>\n",
       "</div>"
      ],
      "text/plain": [
       "ASA              0.0       1.0\n",
       "SCORE                         \n",
       "0.298197    0.015849  0.012019\n",
       "0.463013    0.000201  0.001603\n",
       "0.774142    0.000086  0.000000\n",
       "0.932394    0.576605  0.644231\n",
       "1.447735    0.008384  0.020833\n",
       "1.558931    0.000029  0.000000\n",
       "1.750672    0.000115  0.000000\n",
       "2.225541    0.006403  0.002404\n",
       "2.420563    0.001206  0.002404\n",
       "3.455614    0.000029  0.000000\n",
       "5.473947    0.011428  0.016026\n",
       "6.958751    0.301252  0.233974\n",
       "8.499436    0.000230  0.000000\n",
       "10.804901   0.003560  0.005609\n",
       "13.065824   0.001579  0.000000\n",
       "14.210769   0.000029  0.000000\n",
       "18.065428   0.000603  0.000000\n",
       "40.853809   0.071494  0.060096\n",
       "63.434006   0.000833  0.000000\n",
       "106.059479  0.000086  0.000801"
      ]
     },
     "execution_count": 20,
     "metadata": {},
     "output_type": "execute_result"
    }
   ],
   "source": [
    "pd.crosstab(allStateData.SCORE, allStateData.ASA).apply(lambda x: x/x.sum(), 0).sort_index()"
   ]
  },
  {
   "cell_type": "markdown",
   "metadata": {},
   "source": [
    "From the table the main difference between ASA=0 and ASA=1 Scores is at **6.958 and 0.9324**"
   ]
  },
  {
   "cell_type": "markdown",
   "metadata": {
    "collapsed": true
   },
   "source": [
    "#### Next we look at the distribution of LOS variable"
   ]
  },
  {
   "cell_type": "code",
   "execution_count": 21,
   "metadata": {
    "collapsed": false
   },
   "outputs": [
    {
     "data": {
      "image/png": "[encoded data removed]",
      "text/plain": [
       "<matplotlib.figure.Figure at 0xa211278>"
      ]
     },
     "metadata": {},
     "output_type": "display_data"
    },
    {
     "data": {
      "image/png": "[encoded data removed]",
      "text/plain": [
       "<matplotlib.figure.Figure at 0xd6bd9e8>"
      ]
     },
     "metadata": {},
     "output_type": "display_data"
    },
    {
     "data": {
      "image/png": "[encoded data removed]",
      "text/plain": [
       "<matplotlib.figure.Figure at 0xd4d07f0>"
      ]
     },
     "metadata": {},
     "output_type": "display_data"
    },
    {
     "data": {
      "image/png": "[encoded data removed]",
      "text/plain": [
       "<matplotlib.figure.Figure at 0xaa43a20>"
      ]
     },
     "metadata": {},
     "output_type": "display_data"
    }
   ],
   "source": [
    "###ASA = 0\n",
    "allStateData[allStateData.ASA == 0.].LOS.plot('box')\n",
    "plt.title('Boxplot of LOS when ASA = 0'); plt.show()\n",
    "###ASA = 1\n",
    "allStateData[allStateData.ASA == 1.].LOS.plot('box')\n",
    "plt.title('Boxplot of LOS when ASA = 1'); plt.show()\n",
    "###ASA = 0\n",
    "allStateData[allStateData.ASA == 0.].LOS.plot('hist', xlim=(0,120), bins = 100)\n",
    "plt.title('Histogram of LOS when ASA = 0'); plt.show()\n",
    "###ASA = 1\n",
    "allStateData[allStateData.ASA == 1.].LOS.plot('hist',  xlim=(0,120), bins = 100)\n",
    "plt.title('Histogram of LOS when ASA = 1'); plt.show()"
   ]
  },
  {
   "cell_type": "markdown",
   "metadata": {},
   "source": [
    "Just as before, we can see that the ASA = 1 group and ASA = 0 group both have an approximately similar distribution. And **neither** of these these distributions are normal."
   ]
  },
  {
   "cell_type": "markdown",
   "metadata": {},
   "source": [
    "#### Now we look at the distribution of the DIED variable\n",
    "(Box plots are unnecessary here since the data is boolean (0 or 1))"
   ]
  },
  {
   "cell_type": "code",
   "execution_count": 22,
   "metadata": {
    "collapsed": false
   },
   "outputs": [
    {
     "data": {
      "text/html": [
       "<div>\n",
       "<table border=\"1\" class=\"dataframe\">\n",
       "  <thead>\n",
       "    <tr style=\"text-align: right;\">\n",
       "      <th>ASA</th>\n",
       "      <th>0.0</th>\n",
       "      <th>1.0</th>\n",
       "    </tr>\n",
       "    <tr>\n",
       "      <th>DIED</th>\n",
       "      <th></th>\n",
       "      <th></th>\n",
       "    </tr>\n",
       "  </thead>\n",
       "  <tbody>\n",
       "    <tr>\n",
       "      <th>0.0</th>\n",
       "      <td>0.794504</td>\n",
       "      <td>0.801282</td>\n",
       "    </tr>\n",
       "    <tr>\n",
       "      <th>1.0</th>\n",
       "      <td>0.205496</td>\n",
       "      <td>0.198718</td>\n",
       "    </tr>\n",
       "  </tbody>\n",
       "</table>\n",
       "</div>"
      ],
      "text/plain": [
       "ASA        0.0       1.0\n",
       "DIED                    \n",
       "0.0   0.794504  0.801282\n",
       "1.0   0.205496  0.198718"
      ]
     },
     "execution_count": 22,
     "metadata": {},
     "output_type": "execute_result"
    }
   ],
   "source": [
    "pd.crosstab(allStateData.DIED, allStateData.ASA).apply(lambda x: x/x.sum(),0)"
   ]
  },
  {
   "cell_type": "code",
   "execution_count": 23,
   "metadata": {
    "collapsed": false
   },
   "outputs": [
    {
     "data": {
      "image/png": "[encoded data removed]",
      "text/plain": [
       "<matplotlib.figure.Figure at 0xa205fd0>"
      ]
     },
     "metadata": {},
     "output_type": "display_data"
    },
    {
     "data": {
      "image/png": "[encoded data removed]",
      "text/plain": [
       "<matplotlib.figure.Figure at 0xdf436d8>"
      ]
     },
     "metadata": {},
     "output_type": "display_data"
    }
   ],
   "source": [
    "###ASA = 0\n",
    "allStateData[allStateData.ASA == 0.].DIED.plot('hist', bins = 100)\n",
    "plt.title('Histogram of DIED when ASA = 0'); plt.show()\n",
    "###ASA = 1\n",
    "allStateData[allStateData.ASA == 1.].DIED.plot('hist', bins = 100)\n",
    "plt.title('Histogram of DIED when ASA = 1'); plt.show()"
   ]
  },
  {
   "cell_type": "markdown",
   "metadata": {},
   "source": [
    "The table and plots show us that both the cases almost have similar distribution."
   ]
  },
  {
   "cell_type": "markdown",
   "metadata": {},
   "source": [
    "### Specific Answers"
   ]
  },
  {
   "cell_type": "code",
   "execution_count": 24,
   "metadata": {
    "collapsed": true
   },
   "outputs": [],
   "source": [
    "from scipy import stats  "
   ]
  },
  {
   "cell_type": "markdown",
   "metadata": {},
   "source": [
    "#### Q1 Is there a relation between Aspirin Usage (ASA) and Hospital Stay (LOS)?\n",
    "\n",
    "To answer this question, we run a simple Mann-Whitney (Wilcoxon Rank Sum) test on both the groups. Mann-Whitney U tests are preferred over a t-test since the data is very unbalanced and it is not normal. It is essentially a non-parametric alternative to a t-test. Also important to note here, this test is comparing the medians and not the means. Means are really only relevant if the distributions are normal, since CLT doesnt apply otherwise."
   ]
  },
  {
   "cell_type": "code",
   "execution_count": 25,
   "metadata": {
    "collapsed": true
   },
   "outputs": [],
   "source": [
    "group1_LOS =  allStateData[allStateData.ASA == 0.].LOS\n",
    "group2_LOS =  allStateData[allStateData.ASA == 1.].LOS"
   ]
  },
  {
   "cell_type": "code",
   "execution_count": 26,
   "metadata": {
    "collapsed": false
   },
   "outputs": [
    {
     "name": "stdout",
     "output_type": "stream",
     "text": [
      "The median LOS of ASA = 0 is  9.0\n"
     ]
    }
   ],
   "source": [
    "print \"The median LOS of ASA = 0 is \", group1_LOS.median()"
   ]
  },
  {
   "cell_type": "code",
   "execution_count": 27,
   "metadata": {
    "collapsed": false
   },
   "outputs": [
    {
     "name": "stdout",
     "output_type": "stream",
     "text": [
      "The median LOS of ASA = 1 is  5.0\n"
     ]
    }
   ],
   "source": [
    "print \"The median LOS of ASA = 1 is \", group2_LOS.median()"
   ]
  },
  {
   "cell_type": "code",
   "execution_count": 28,
   "metadata": {
    "collapsed": false
   },
   "outputs": [
    {
     "name": "stdout",
     "output_type": "stream",
     "text": [
      "p-value:  4.33255391058e-31\n"
     ]
    }
   ],
   "source": [
    "z_stat, p_val = stats.ranksums(group1_LOS, group2_LOS)\n",
    "print \"p-value: \", p_val  "
   ]
  },
  {
   "cell_type": "code",
   "execution_count": 29,
   "metadata": {
    "collapsed": false
   },
   "outputs": [
    {
     "name": "stdout",
     "output_type": "stream",
     "text": [
      "The mean LOS of ASA = 0 is  12.5627655909\n",
      "The mean LOS of ASA = 1 is  8.29887820513\n"
     ]
    }
   ],
   "source": [
    "# Looking at the mean of the LOS variable\n",
    "print \"The mean LOS of ASA = 0 is \", group1_LOS.mean()\n",
    "print \"The mean LOS of ASA = 1 is \", group2_LOS.mean()"
   ]
  },
  {
   "cell_type": "markdown",
   "metadata": {},
   "source": [
    "Since the p-value is <0.01, the mean Hospital Stay of patients that **do not** use aspirin is **greater** than those that do. However, I am **not** convinced that this is a causal relationship. It could just so happen that patients that are given aspirin are just suffering a less severe SAH and are let out sooner as a result."
   ]
  },
  {
   "cell_type": "markdown",
   "metadata": {},
   "source": [
    "#### Q2 Is there a relation between Aspirin Usage (ASA) and Mortality (DIED)?"
   ]
  },
  {
   "cell_type": "markdown",
   "metadata": {},
   "source": [
    "Since the data here is boolean and independent, I suggest we use a **Chi-Squared test**."
   ]
  },
  {
   "cell_type": "code",
   "execution_count": 30,
   "metadata": {
    "collapsed": true
   },
   "outputs": [],
   "source": [
    "group1_DIED =  allStateData[allStateData.ASA == 0.].DIED\n",
    "group2_DIED =  allStateData[allStateData.ASA == 1.].DIED"
   ]
  },
  {
   "cell_type": "code",
   "execution_count": 90,
   "metadata": {
    "collapsed": false
   },
   "outputs": [
    {
     "name": "stdout",
     "output_type": "stream",
     "text": [
      "The mean DIED of ASA = 0 is  0.20549557827\n"
     ]
    }
   ],
   "source": [
    "print \"The mean DIED of ASA = 0 is \", group1_DIED.mean()"
   ]
  },
  {
   "cell_type": "code",
   "execution_count": 91,
   "metadata": {
    "collapsed": false
   },
   "outputs": [
    {
     "name": "stdout",
     "output_type": "stream",
     "text": [
      "The mean DIED of ASA = 1 is  0.198717948718\n"
     ]
    }
   ],
   "source": [
    "print \"The mean DIED of ASA = 1 is \", group2_DIED.mean()"
   ]
  },
  {
   "cell_type": "code",
   "execution_count": 92,
   "metadata": {
    "collapsed": false
   },
   "outputs": [
    {
     "data": {
      "text/html": [
       "<div>\n",
       "<table border=\"1\" class=\"dataframe\">\n",
       "  <thead>\n",
       "    <tr style=\"text-align: right;\">\n",
       "      <th>ASA</th>\n",
       "      <th>0.0</th>\n",
       "      <th>1.0</th>\n",
       "    </tr>\n",
       "    <tr>\n",
       "      <th>DIED</th>\n",
       "      <th></th>\n",
       "      <th></th>\n",
       "    </tr>\n",
       "  </thead>\n",
       "  <tbody>\n",
       "    <tr>\n",
       "      <th>0.0</th>\n",
       "      <td>27671</td>\n",
       "      <td>1000</td>\n",
       "    </tr>\n",
       "    <tr>\n",
       "      <th>1.0</th>\n",
       "      <td>7157</td>\n",
       "      <td>248</td>\n",
       "    </tr>\n",
       "  </tbody>\n",
       "</table>\n",
       "</div>"
      ],
      "text/plain": [
       "ASA     0.0   1.0\n",
       "DIED             \n",
       "0.0   27671  1000\n",
       "1.0    7157   248"
      ]
     },
     "execution_count": 92,
     "metadata": {},
     "output_type": "execute_result"
    }
   ],
   "source": [
    "ctDIED = pd.crosstab(allStateData.DIED, allStateData.ASA); ctDIED"
   ]
  },
  {
   "cell_type": "code",
   "execution_count": 93,
   "metadata": {
    "collapsed": false
   },
   "outputs": [
    {
     "name": "stdout",
     "output_type": "stream",
     "text": [
      "p-value:  0.584511717953\n"
     ]
    }
   ],
   "source": [
    "p_val = stats.chi2_contingency(ctDIED)[1]\n",
    "print \"p-value: \", p_val  "
   ]
  },
  {
   "cell_type": "code",
   "execution_count": 35,
   "metadata": {
    "collapsed": false
   },
   "outputs": [
    {
     "data": {
      "text/plain": [
       "'\\nprop.test(c(27671,1000),c(27671 + 7157,1000 + 248),correct=FALSE)\\n\\n\\t2-sample test for equality of proportions without continuity correction\\n\\ndata:  c(27671, 1000) out of c(27671 + 7157, 1000 + 248)\\nX-squared = 0.33927, df = 1, p-value = 0.5602\\nalternative hypothesis: two.sided\\n95 percent confidence interval:\\n -0.02931937  0.01576411\\nsample estimates:\\n   prop 1    prop 2 \\n0.7945044 0.8012821 \\n'"
      ]
     },
     "execution_count": 35,
     "metadata": {},
     "output_type": "execute_result"
    }
   ],
   "source": [
    "# even the R implementation of ChiSq test, shows the same result. \n",
    "'''\n",
    "prop.test(c(27671,1000),c(27671 + 7157,1000 + 248),correct=FALSE)\n",
    "\n",
    "\t2-sample test for equality of proportions without continuity correction\n",
    "\n",
    "data:  c(27671, 1000) out of c(27671 + 7157, 1000 + 248)\n",
    "X-squared = 0.33927, df = 1, p-value = 0.5602\n",
    "alternative hypothesis: two.sided\n",
    "95 percent confidence interval:\n",
    " -0.02931937  0.01576411\n",
    "sample estimates:\n",
    "   prop 1    prop 2 \n",
    "0.7945044 0.8012821 \n",
    "'''"
   ]
  },
  {
   "cell_type": "markdown",
   "metadata": {},
   "source": [
    "Since the p-value is >0.05, there is **not** enough evidence to prove that there is a difference in the mortality rate between patients that use aspirin and those that dont."
   ]
  },
  {
   "cell_type": "markdown",
   "metadata": {},
   "source": [
    "#### Q3 Is there a relation between Aspirin Usage (ASA) and Severity of SAH (SCORE)?\n",
    "\n",
    "As seen in the exploration part, this variable is discrete and not really continuous. Mann-Whitney assumes that the distribution is continuous so it might **not** be appropriate here. Hence, we also test using Chi-Sq, which will show if the distributions are similar or not."
   ]
  },
  {
   "cell_type": "code",
   "execution_count": 94,
   "metadata": {
    "collapsed": true
   },
   "outputs": [],
   "source": [
    "group1_SCORE =  allStateData[allStateData.ASA == 0.].SCORE\n",
    "group2_SCORE =  allStateData[allStateData.ASA == 1.].SCORE"
   ]
  },
  {
   "cell_type": "code",
   "execution_count": 95,
   "metadata": {
    "collapsed": false
   },
   "outputs": [
    {
     "name": "stdout",
     "output_type": "stream",
     "text": [
      "The median SCORE of ASA = 0 is  0.932393848896\n"
     ]
    }
   ],
   "source": [
    "print \"The median SCORE of ASA = 0 is \", group1_SCORE.median()"
   ]
  },
  {
   "cell_type": "code",
   "execution_count": 96,
   "metadata": {
    "collapsed": false
   },
   "outputs": [
    {
     "name": "stdout",
     "output_type": "stream",
     "text": [
      "The median SCORE of ASA = 1 is  0.932393848896\n"
     ]
    }
   ],
   "source": [
    "print \"The median SCORE of ASA = 1 is \", group2_SCORE.median()"
   ]
  },
  {
   "cell_type": "code",
   "execution_count": 97,
   "metadata": {
    "collapsed": false
   },
   "outputs": [
    {
     "name": "stdout",
     "output_type": "stream",
     "text": [
      "The mean SCORE of ASA = 0 is  5.7861790657\n"
     ]
    }
   ],
   "source": [
    "print \"The mean SCORE of ASA = 0 is \", group1_SCORE.mean()"
   ]
  },
  {
   "cell_type": "code",
   "execution_count": 46,
   "metadata": {
    "collapsed": false
   },
   "outputs": [
    {
     "name": "stdout",
     "output_type": "stream",
     "text": [
      "The mean SCORE of ASA = 1 is  4.96303319931\n"
     ]
    }
   ],
   "source": [
    "print \"The mean SCORE of ASA = 1 is \", group2_SCORE.mean()"
   ]
  },
  {
   "cell_type": "code",
   "execution_count": 47,
   "metadata": {
    "collapsed": false
   },
   "outputs": [
    {
     "name": "stdout",
     "output_type": "stream",
     "text": [
      "p-value:  3.7396422861e-05\n"
     ]
    }
   ],
   "source": [
    "z_stat, p_val = stats.ranksums(group1_SCORE, group2_SCORE)\n",
    "print \"p-value: \", p_val  "
   ]
  },
  {
   "cell_type": "markdown",
   "metadata": {},
   "source": [
    "Since the p-value is <0.01, there is enough evidence to say that the severity of SAH of patients that use aspirin is **lower** than those that don't use aspirin. However, like before this does **not** mean a casual relationship - i.e., we cannot conclude that Aspirin results in a lower SAH score."
   ]
  },
  {
   "cell_type": "code",
   "execution_count": 48,
   "metadata": {
    "collapsed": false
   },
   "outputs": [
    {
     "data": {
      "text/html": [
       "<div>\n",
       "<table border=\"1\" class=\"dataframe\">\n",
       "  <thead>\n",
       "    <tr style=\"text-align: right;\">\n",
       "      <th>ASA</th>\n",
       "      <th>0.0</th>\n",
       "      <th>1.0</th>\n",
       "    </tr>\n",
       "    <tr>\n",
       "      <th>SCORE</th>\n",
       "      <th></th>\n",
       "      <th></th>\n",
       "    </tr>\n",
       "  </thead>\n",
       "  <tbody>\n",
       "    <tr>\n",
       "      <th>0.298197</th>\n",
       "      <td>552</td>\n",
       "      <td>15</td>\n",
       "    </tr>\n",
       "    <tr>\n",
       "      <th>0.463013</th>\n",
       "      <td>7</td>\n",
       "      <td>2</td>\n",
       "    </tr>\n",
       "    <tr>\n",
       "      <th>0.774142</th>\n",
       "      <td>3</td>\n",
       "      <td>0</td>\n",
       "    </tr>\n",
       "    <tr>\n",
       "      <th>0.932394</th>\n",
       "      <td>20082</td>\n",
       "      <td>804</td>\n",
       "    </tr>\n",
       "    <tr>\n",
       "      <th>1.447735</th>\n",
       "      <td>292</td>\n",
       "      <td>26</td>\n",
       "    </tr>\n",
       "    <tr>\n",
       "      <th>1.558931</th>\n",
       "      <td>1</td>\n",
       "      <td>0</td>\n",
       "    </tr>\n",
       "    <tr>\n",
       "      <th>1.750672</th>\n",
       "      <td>4</td>\n",
       "      <td>0</td>\n",
       "    </tr>\n",
       "    <tr>\n",
       "      <th>2.225541</th>\n",
       "      <td>223</td>\n",
       "      <td>3</td>\n",
       "    </tr>\n",
       "    <tr>\n",
       "      <th>2.420563</th>\n",
       "      <td>42</td>\n",
       "      <td>3</td>\n",
       "    </tr>\n",
       "    <tr>\n",
       "      <th>3.455614</th>\n",
       "      <td>1</td>\n",
       "      <td>0</td>\n",
       "    </tr>\n",
       "    <tr>\n",
       "      <th>5.473947</th>\n",
       "      <td>398</td>\n",
       "      <td>20</td>\n",
       "    </tr>\n",
       "    <tr>\n",
       "      <th>6.958751</th>\n",
       "      <td>10492</td>\n",
       "      <td>292</td>\n",
       "    </tr>\n",
       "    <tr>\n",
       "      <th>8.499436</th>\n",
       "      <td>8</td>\n",
       "      <td>0</td>\n",
       "    </tr>\n",
       "    <tr>\n",
       "      <th>10.804901</th>\n",
       "      <td>124</td>\n",
       "      <td>7</td>\n",
       "    </tr>\n",
       "    <tr>\n",
       "      <th>13.065824</th>\n",
       "      <td>55</td>\n",
       "      <td>0</td>\n",
       "    </tr>\n",
       "    <tr>\n",
       "      <th>14.210769</th>\n",
       "      <td>1</td>\n",
       "      <td>0</td>\n",
       "    </tr>\n",
       "    <tr>\n",
       "      <th>18.065428</th>\n",
       "      <td>21</td>\n",
       "      <td>0</td>\n",
       "    </tr>\n",
       "    <tr>\n",
       "      <th>40.853809</th>\n",
       "      <td>2490</td>\n",
       "      <td>75</td>\n",
       "    </tr>\n",
       "    <tr>\n",
       "      <th>63.434006</th>\n",
       "      <td>29</td>\n",
       "      <td>0</td>\n",
       "    </tr>\n",
       "    <tr>\n",
       "      <th>106.059479</th>\n",
       "      <td>3</td>\n",
       "      <td>1</td>\n",
       "    </tr>\n",
       "  </tbody>\n",
       "</table>\n",
       "</div>"
      ],
      "text/plain": [
       "ASA           0.0  1.0\n",
       "SCORE                 \n",
       "0.298197      552   15\n",
       "0.463013        7    2\n",
       "0.774142        3    0\n",
       "0.932394    20082  804\n",
       "1.447735      292   26\n",
       "1.558931        1    0\n",
       "1.750672        4    0\n",
       "2.225541      223    3\n",
       "2.420563       42    3\n",
       "3.455614        1    0\n",
       "5.473947      398   20\n",
       "6.958751    10492  292\n",
       "8.499436        8    0\n",
       "10.804901     124    7\n",
       "13.065824      55    0\n",
       "14.210769       1    0\n",
       "18.065428      21    0\n",
       "40.853809    2490   75\n",
       "63.434006      29    0\n",
       "106.059479      3    1"
      ]
     },
     "execution_count": 48,
     "metadata": {},
     "output_type": "execute_result"
    }
   ],
   "source": [
    "ctSevere = pd.crosstab(allStateData.SCORE, allStateData.ASA); ctSevere"
   ]
  },
  {
   "cell_type": "code",
   "execution_count": 49,
   "metadata": {
    "collapsed": false
   },
   "outputs": [
    {
     "name": "stdout",
     "output_type": "stream",
     "text": [
      "p-value:  2.0331652973e-09\n"
     ]
    }
   ],
   "source": [
    "p_val = stats.chi2_contingency(ctSevere)[1]\n",
    "print \"p-value: \", p_val"
   ]
  },
  {
   "cell_type": "markdown",
   "metadata": {},
   "source": [
    "This result shows that the distributions are **NOT** similar. Given that this is the case and the Mann-Whitney test is significant. We can move forward with concluding that Patients on Aspirin and those using it have varying levels of severity of SAH. This does **not** mean that using a higher dose of aspirin results in more severe SAH or vice versa. It just shows that they are related. "
   ]
  },
  {
   "cell_type": "code",
   "execution_count": 98,
   "metadata": {
    "collapsed": false
   },
   "outputs": [
    {
     "name": "stdout",
     "output_type": "stream",
     "text": [
      "The std of SCORE of ASA = 0 is  10.3211855292\n",
      "The std of SCORE of ASA = 1 is  9.89234347729\n",
      "The range of SCORE of ASA = 0 is  (0.29819727, 106.05948)\n",
      "The range of SCORE of ASA = 1 is  (0.29819727, 106.05948)\n"
     ]
    }
   ],
   "source": [
    "print \"The std of SCORE of ASA = 0 is \", group1_SCORE.std()\n",
    "print \"The std of SCORE of ASA = 1 is \", group2_SCORE.std()\n",
    "print \"The range of SCORE of ASA = 0 is \", (group1_SCORE.min(), group1_SCORE.max())\n",
    "print \"The range of SCORE of ASA = 1 is \", (group2_SCORE.min(), group2_SCORE.max())"
   ]
  },
  {
   "cell_type": "markdown",
   "metadata": {},
   "source": [
    "#### Q4 Is there a relation between the discharge status of the patient and ASA?"
   ]
  },
  {
   "cell_type": "code",
   "execution_count": 50,
   "metadata": {
    "collapsed": false
   },
   "outputs": [
    {
     "data": {
      "text/html": [
       "<div>\n",
       "<table border=\"1\" class=\"dataframe\">\n",
       "  <thead>\n",
       "    <tr style=\"text-align: right;\">\n",
       "      <th></th>\n",
       "      <th>ASA</th>\n",
       "      <th>0.0</th>\n",
       "      <th>1.0</th>\n",
       "    </tr>\n",
       "    <tr>\n",
       "      <th>DISCHARGE_GOOD</th>\n",
       "      <th>DISCHARGE_BAD</th>\n",
       "      <th></th>\n",
       "      <th></th>\n",
       "    </tr>\n",
       "  </thead>\n",
       "  <tbody>\n",
       "    <tr>\n",
       "      <th rowspan=\"2\" valign=\"top\">0.0</th>\n",
       "      <th>0.0</th>\n",
       "      <td>22304</td>\n",
       "      <td>823</td>\n",
       "    </tr>\n",
       "    <tr>\n",
       "      <th>1.0</th>\n",
       "      <td>1962</td>\n",
       "      <td>41</td>\n",
       "    </tr>\n",
       "    <tr>\n",
       "      <th>1.0</th>\n",
       "      <th>0.0</th>\n",
       "      <td>10562</td>\n",
       "      <td>384</td>\n",
       "    </tr>\n",
       "  </tbody>\n",
       "</table>\n",
       "</div>"
      ],
      "text/plain": [
       "ASA                             0.0  1.0\n",
       "DISCHARGE_GOOD DISCHARGE_BAD            \n",
       "0.0            0.0            22304  823\n",
       "               1.0             1962   41\n",
       "1.0            0.0            10562  384"
      ]
     },
     "execution_count": 50,
     "metadata": {},
     "output_type": "execute_result"
    }
   ],
   "source": [
    "pd.crosstab([allStateData.DISCHARGE_GOOD,allStateData.DISCHARGE_BAD],allStateData.ASA)"
   ]
  },
  {
   "cell_type": "markdown",
   "metadata": {},
   "source": [
    "Something to note here (see table above) is that of the patients that have **not** been discharged good, only a handful have been discharged bad, a large number of them have are **not** classified as discharged bad. For this analysis, we only use those instances where the patient is either has a discharged_good or discharged_bad of 1. Instances where both these variables are 0 are **not** chosen. "
   ]
  },
  {
   "cell_type": "code",
   "execution_count": 51,
   "metadata": {
    "collapsed": false
   },
   "outputs": [
    {
     "data": {
      "text/plain": [
       "(12949, 13)"
      ]
     },
     "execution_count": 51,
     "metadata": {},
     "output_type": "execute_result"
    }
   ],
   "source": [
    "dataSubset = allStateData[allStateData.DISCHARGE_GOOD+allStateData.DISCHARGE_BAD == 1]; dataSubset.shape # data subset"
   ]
  },
  {
   "cell_type": "code",
   "execution_count": 52,
   "metadata": {
    "collapsed": false
   },
   "outputs": [
    {
     "data": {
      "text/html": [
       "<div>\n",
       "<table border=\"1\" class=\"dataframe\">\n",
       "  <thead>\n",
       "    <tr style=\"text-align: right;\">\n",
       "      <th></th>\n",
       "      <th>ASA</th>\n",
       "      <th>0.0</th>\n",
       "      <th>1.0</th>\n",
       "    </tr>\n",
       "    <tr>\n",
       "      <th>DISCHARGE_GOOD</th>\n",
       "      <th>DISCHARGE_BAD</th>\n",
       "      <th></th>\n",
       "      <th></th>\n",
       "    </tr>\n",
       "  </thead>\n",
       "  <tbody>\n",
       "    <tr>\n",
       "      <th>0.0</th>\n",
       "      <th>1.0</th>\n",
       "      <td>1962</td>\n",
       "      <td>41</td>\n",
       "    </tr>\n",
       "    <tr>\n",
       "      <th>1.0</th>\n",
       "      <th>0.0</th>\n",
       "      <td>10562</td>\n",
       "      <td>384</td>\n",
       "    </tr>\n",
       "  </tbody>\n",
       "</table>\n",
       "</div>"
      ],
      "text/plain": [
       "ASA                             0.0  1.0\n",
       "DISCHARGE_GOOD DISCHARGE_BAD            \n",
       "0.0            1.0             1962   41\n",
       "1.0            0.0            10562  384"
      ]
     },
     "execution_count": 52,
     "metadata": {},
     "output_type": "execute_result"
    }
   ],
   "source": [
    "pd.crosstab( [dataSubset.DISCHARGE_GOOD,dataSubset.DISCHARGE_BAD],dataSubset.ASA) # numbers"
   ]
  },
  {
   "cell_type": "code",
   "execution_count": 53,
   "metadata": {
    "collapsed": false
   },
   "outputs": [
    {
     "data": {
      "text/html": [
       "<div>\n",
       "<table border=\"1\" class=\"dataframe\">\n",
       "  <thead>\n",
       "    <tr style=\"text-align: right;\">\n",
       "      <th>ASA</th>\n",
       "      <th>0.0</th>\n",
       "      <th>1.0</th>\n",
       "    </tr>\n",
       "    <tr>\n",
       "      <th>DISCHARGE_GOOD</th>\n",
       "      <th></th>\n",
       "      <th></th>\n",
       "    </tr>\n",
       "  </thead>\n",
       "  <tbody>\n",
       "    <tr>\n",
       "      <th>0.0</th>\n",
       "      <td>0.156659</td>\n",
       "      <td>0.096471</td>\n",
       "    </tr>\n",
       "    <tr>\n",
       "      <th>1.0</th>\n",
       "      <td>0.843341</td>\n",
       "      <td>0.903529</td>\n",
       "    </tr>\n",
       "  </tbody>\n",
       "</table>\n",
       "</div>"
      ],
      "text/plain": [
       "ASA                  0.0       1.0\n",
       "DISCHARGE_GOOD                    \n",
       "0.0             0.156659  0.096471\n",
       "1.0             0.843341  0.903529"
      ]
     },
     "execution_count": 53,
     "metadata": {},
     "output_type": "execute_result"
    }
   ],
   "source": [
    "pd.crosstab(dataSubset.DISCHARGE_GOOD, dataSubset.ASA).apply(lambda x: x/x.sum()) # percentages"
   ]
  },
  {
   "cell_type": "code",
   "execution_count": 54,
   "metadata": {
    "collapsed": false
   },
   "outputs": [
    {
     "data": {
      "text/plain": [
       "'\\nprop.test(c(1962,41),c(10562+1962,41+384),correct=FALSE)\\n\\n\\t2-sample test for equality of proportions\\n\\twithout continuity correction\\n\\ndata:  c(1962, 41) out of c(10562 + 1962, 41 + 384)\\nX-squared = 11.388, df = 1, p-value = 0.0007391\\nalternative hypothesis: two.sided\\n95 percent confidence interval:\\n 0.03140711 0.08897014\\nsample estimates:\\n    prop 1     prop 2 \\n0.15665921 0.09647059 \\n'"
      ]
     },
     "execution_count": 54,
     "metadata": {},
     "output_type": "execute_result"
    }
   ],
   "source": [
    "# running a chiSq test in R\n",
    "'''\n",
    "prop.test(c(1962,41),c(10562+1962,41+384),correct=FALSE)\n",
    "\n",
    "\t2-sample test for equality of proportions\n",
    "\twithout continuity correction\n",
    "\n",
    "data:  c(1962, 41) out of c(10562 + 1962, 41 + 384)\n",
    "X-squared = 11.388, df = 1, p-value = 0.0007391\n",
    "alternative hypothesis: two.sided\n",
    "95 percent confidence interval:\n",
    " 0.03140711 0.08897014\n",
    "sample estimates:\n",
    "    prop 1     prop 2 \n",
    "0.15665921 0.09647059 \n",
    "'''"
   ]
  },
  {
   "cell_type": "markdown",
   "metadata": {},
   "source": [
    "Although the test is significant and the confidence interval tells us that patients on Aspirin have a higher proportion of better discharge than those who are not on aspirin. The sample size for the patients not using Aspirin is so small, that I would **not** draw any conclusions from this. "
   ]
  },
  {
   "cell_type": "markdown",
   "metadata": {
    "collapsed": true
   },
   "source": [
    "### Q5 Is there a relation between the race of the patient and SAH score ?\n",
    "#### KEY:\n",
    "1-White;\n",
    "2-Black;\n",
    "3-Hispanic;\n",
    "4-Asian;\n",
    "0-Other\n",
    "\n",
    "The there are 6 race values in the data (there are only 5 listed above). Also the race IDs start at 1 in the data."
   ]
  },
  {
   "cell_type": "code",
   "execution_count": 55,
   "metadata": {
    "collapsed": false
   },
   "outputs": [
    {
     "data": {
      "text/html": [
       "<div>\n",
       "<table border=\"1\" class=\"dataframe\">\n",
       "  <thead>\n",
       "    <tr style=\"text-align: right;\">\n",
       "      <th>RACE</th>\n",
       "      <th>1.0</th>\n",
       "      <th>2.0</th>\n",
       "      <th>3.0</th>\n",
       "      <th>4.0</th>\n",
       "      <th>5.0</th>\n",
       "      <th>6.0</th>\n",
       "    </tr>\n",
       "    <tr>\n",
       "      <th>SCORE</th>\n",
       "      <th></th>\n",
       "      <th></th>\n",
       "      <th></th>\n",
       "      <th></th>\n",
       "      <th></th>\n",
       "      <th></th>\n",
       "    </tr>\n",
       "  </thead>\n",
       "  <tbody>\n",
       "    <tr>\n",
       "      <th>0.298197</th>\n",
       "      <td>280</td>\n",
       "      <td>81</td>\n",
       "      <td>114</td>\n",
       "      <td>52</td>\n",
       "      <td>2</td>\n",
       "      <td>38</td>\n",
       "    </tr>\n",
       "    <tr>\n",
       "      <th>0.463013</th>\n",
       "      <td>2</td>\n",
       "      <td>1</td>\n",
       "      <td>3</td>\n",
       "      <td>1</td>\n",
       "      <td>0</td>\n",
       "      <td>2</td>\n",
       "    </tr>\n",
       "    <tr>\n",
       "      <th>0.774142</th>\n",
       "      <td>0</td>\n",
       "      <td>0</td>\n",
       "      <td>0</td>\n",
       "      <td>3</td>\n",
       "      <td>0</td>\n",
       "      <td>0</td>\n",
       "    </tr>\n",
       "    <tr>\n",
       "      <th>0.932394</th>\n",
       "      <td>11705</td>\n",
       "      <td>2259</td>\n",
       "      <td>4382</td>\n",
       "      <td>1433</td>\n",
       "      <td>41</td>\n",
       "      <td>1066</td>\n",
       "    </tr>\n",
       "    <tr>\n",
       "      <th>1.447735</th>\n",
       "      <td>176</td>\n",
       "      <td>37</td>\n",
       "      <td>59</td>\n",
       "      <td>28</td>\n",
       "      <td>2</td>\n",
       "      <td>16</td>\n",
       "    </tr>\n",
       "    <tr>\n",
       "      <th>1.558931</th>\n",
       "      <td>0</td>\n",
       "      <td>1</td>\n",
       "      <td>0</td>\n",
       "      <td>0</td>\n",
       "      <td>0</td>\n",
       "      <td>0</td>\n",
       "    </tr>\n",
       "    <tr>\n",
       "      <th>1.750672</th>\n",
       "      <td>2</td>\n",
       "      <td>0</td>\n",
       "      <td>0</td>\n",
       "      <td>0</td>\n",
       "      <td>0</td>\n",
       "      <td>2</td>\n",
       "    </tr>\n",
       "    <tr>\n",
       "      <th>2.225541</th>\n",
       "      <td>122</td>\n",
       "      <td>35</td>\n",
       "      <td>37</td>\n",
       "      <td>15</td>\n",
       "      <td>1</td>\n",
       "      <td>16</td>\n",
       "    </tr>\n",
       "    <tr>\n",
       "      <th>2.420563</th>\n",
       "      <td>20</td>\n",
       "      <td>6</td>\n",
       "      <td>13</td>\n",
       "      <td>4</td>\n",
       "      <td>0</td>\n",
       "      <td>2</td>\n",
       "    </tr>\n",
       "    <tr>\n",
       "      <th>3.455614</th>\n",
       "      <td>0</td>\n",
       "      <td>1</td>\n",
       "      <td>0</td>\n",
       "      <td>0</td>\n",
       "      <td>0</td>\n",
       "      <td>0</td>\n",
       "    </tr>\n",
       "    <tr>\n",
       "      <th>5.473947</th>\n",
       "      <td>251</td>\n",
       "      <td>25</td>\n",
       "      <td>69</td>\n",
       "      <td>54</td>\n",
       "      <td>0</td>\n",
       "      <td>19</td>\n",
       "    </tr>\n",
       "    <tr>\n",
       "      <th>6.958751</th>\n",
       "      <td>5795</td>\n",
       "      <td>1337</td>\n",
       "      <td>2177</td>\n",
       "      <td>877</td>\n",
       "      <td>33</td>\n",
       "      <td>565</td>\n",
       "    </tr>\n",
       "    <tr>\n",
       "      <th>8.499436</th>\n",
       "      <td>6</td>\n",
       "      <td>1</td>\n",
       "      <td>0</td>\n",
       "      <td>1</td>\n",
       "      <td>0</td>\n",
       "      <td>0</td>\n",
       "    </tr>\n",
       "    <tr>\n",
       "      <th>10.804901</th>\n",
       "      <td>69</td>\n",
       "      <td>16</td>\n",
       "      <td>24</td>\n",
       "      <td>14</td>\n",
       "      <td>2</td>\n",
       "      <td>6</td>\n",
       "    </tr>\n",
       "    <tr>\n",
       "      <th>13.065824</th>\n",
       "      <td>28</td>\n",
       "      <td>6</td>\n",
       "      <td>9</td>\n",
       "      <td>7</td>\n",
       "      <td>0</td>\n",
       "      <td>5</td>\n",
       "    </tr>\n",
       "    <tr>\n",
       "      <th>14.210769</th>\n",
       "      <td>0</td>\n",
       "      <td>1</td>\n",
       "      <td>0</td>\n",
       "      <td>0</td>\n",
       "      <td>0</td>\n",
       "      <td>0</td>\n",
       "    </tr>\n",
       "    <tr>\n",
       "      <th>18.065428</th>\n",
       "      <td>11</td>\n",
       "      <td>5</td>\n",
       "      <td>2</td>\n",
       "      <td>1</td>\n",
       "      <td>0</td>\n",
       "      <td>2</td>\n",
       "    </tr>\n",
       "    <tr>\n",
       "      <th>40.853809</th>\n",
       "      <td>1327</td>\n",
       "      <td>306</td>\n",
       "      <td>517</td>\n",
       "      <td>276</td>\n",
       "      <td>10</td>\n",
       "      <td>129</td>\n",
       "    </tr>\n",
       "    <tr>\n",
       "      <th>63.434006</th>\n",
       "      <td>14</td>\n",
       "      <td>4</td>\n",
       "      <td>9</td>\n",
       "      <td>2</td>\n",
       "      <td>0</td>\n",
       "      <td>0</td>\n",
       "    </tr>\n",
       "    <tr>\n",
       "      <th>106.059479</th>\n",
       "      <td>2</td>\n",
       "      <td>1</td>\n",
       "      <td>1</td>\n",
       "      <td>0</td>\n",
       "      <td>0</td>\n",
       "      <td>0</td>\n",
       "    </tr>\n",
       "  </tbody>\n",
       "</table>\n",
       "</div>"
      ],
      "text/plain": [
       "RACE          1.0   2.0   3.0   4.0  5.0   6.0\n",
       "SCORE                                         \n",
       "0.298197      280    81   114    52    2    38\n",
       "0.463013        2     1     3     1    0     2\n",
       "0.774142        0     0     0     3    0     0\n",
       "0.932394    11705  2259  4382  1433   41  1066\n",
       "1.447735      176    37    59    28    2    16\n",
       "1.558931        0     1     0     0    0     0\n",
       "1.750672        2     0     0     0    0     2\n",
       "2.225541      122    35    37    15    1    16\n",
       "2.420563       20     6    13     4    0     2\n",
       "3.455614        0     1     0     0    0     0\n",
       "5.473947      251    25    69    54    0    19\n",
       "6.958751     5795  1337  2177   877   33   565\n",
       "8.499436        6     1     0     1    0     0\n",
       "10.804901      69    16    24    14    2     6\n",
       "13.065824      28     6     9     7    0     5\n",
       "14.210769       0     1     0     0    0     0\n",
       "18.065428      11     5     2     1    0     2\n",
       "40.853809    1327   306   517   276   10   129\n",
       "63.434006      14     4     9     2    0     0\n",
       "106.059479      2     1     1     0    0     0"
      ]
     },
     "execution_count": 55,
     "metadata": {},
     "output_type": "execute_result"
    }
   ],
   "source": [
    "ctRACE = pd.crosstab(allStateData.SCORE,allStateData.RACE); ctRACE"
   ]
  },
  {
   "cell_type": "code",
   "execution_count": 56,
   "metadata": {
    "collapsed": false
   },
   "outputs": [
    {
     "data": {
      "text/html": [
       "<div>\n",
       "<table border=\"1\" class=\"dataframe\">\n",
       "  <thead>\n",
       "    <tr style=\"text-align: right;\">\n",
       "      <th>RACE</th>\n",
       "      <th>1.0</th>\n",
       "      <th>2.0</th>\n",
       "      <th>3.0</th>\n",
       "      <th>4.0</th>\n",
       "      <th>5.0</th>\n",
       "      <th>6.0</th>\n",
       "    </tr>\n",
       "    <tr>\n",
       "      <th>SCORE</th>\n",
       "      <th></th>\n",
       "      <th></th>\n",
       "      <th></th>\n",
       "      <th></th>\n",
       "      <th></th>\n",
       "      <th></th>\n",
       "    </tr>\n",
       "  </thead>\n",
       "  <tbody>\n",
       "    <tr>\n",
       "      <th>0.298197</th>\n",
       "      <td>0.014134</td>\n",
       "      <td>0.019646</td>\n",
       "      <td>0.015372</td>\n",
       "      <td>0.018786</td>\n",
       "      <td>0.021978</td>\n",
       "      <td>0.020343</td>\n",
       "    </tr>\n",
       "    <tr>\n",
       "      <th>0.463013</th>\n",
       "      <td>0.000101</td>\n",
       "      <td>0.000243</td>\n",
       "      <td>0.000405</td>\n",
       "      <td>0.000361</td>\n",
       "      <td>0.000000</td>\n",
       "      <td>0.001071</td>\n",
       "    </tr>\n",
       "    <tr>\n",
       "      <th>0.774142</th>\n",
       "      <td>0.000000</td>\n",
       "      <td>0.000000</td>\n",
       "      <td>0.000000</td>\n",
       "      <td>0.001084</td>\n",
       "      <td>0.000000</td>\n",
       "      <td>0.000000</td>\n",
       "    </tr>\n",
       "    <tr>\n",
       "      <th>0.932394</th>\n",
       "      <td>0.590863</td>\n",
       "      <td>0.547902</td>\n",
       "      <td>0.590885</td>\n",
       "      <td>0.517702</td>\n",
       "      <td>0.450549</td>\n",
       "      <td>0.570664</td>\n",
       "    </tr>\n",
       "    <tr>\n",
       "      <th>1.447735</th>\n",
       "      <td>0.008884</td>\n",
       "      <td>0.008974</td>\n",
       "      <td>0.007956</td>\n",
       "      <td>0.010116</td>\n",
       "      <td>0.021978</td>\n",
       "      <td>0.008565</td>\n",
       "    </tr>\n",
       "    <tr>\n",
       "      <th>1.558931</th>\n",
       "      <td>0.000000</td>\n",
       "      <td>0.000243</td>\n",
       "      <td>0.000000</td>\n",
       "      <td>0.000000</td>\n",
       "      <td>0.000000</td>\n",
       "      <td>0.000000</td>\n",
       "    </tr>\n",
       "    <tr>\n",
       "      <th>1.750672</th>\n",
       "      <td>0.000101</td>\n",
       "      <td>0.000000</td>\n",
       "      <td>0.000000</td>\n",
       "      <td>0.000000</td>\n",
       "      <td>0.000000</td>\n",
       "      <td>0.001071</td>\n",
       "    </tr>\n",
       "    <tr>\n",
       "      <th>2.225541</th>\n",
       "      <td>0.006159</td>\n",
       "      <td>0.008489</td>\n",
       "      <td>0.004989</td>\n",
       "      <td>0.005419</td>\n",
       "      <td>0.010989</td>\n",
       "      <td>0.008565</td>\n",
       "    </tr>\n",
       "    <tr>\n",
       "      <th>2.420563</th>\n",
       "      <td>0.001010</td>\n",
       "      <td>0.001455</td>\n",
       "      <td>0.001753</td>\n",
       "      <td>0.001445</td>\n",
       "      <td>0.000000</td>\n",
       "      <td>0.001071</td>\n",
       "    </tr>\n",
       "    <tr>\n",
       "      <th>3.455614</th>\n",
       "      <td>0.000000</td>\n",
       "      <td>0.000243</td>\n",
       "      <td>0.000000</td>\n",
       "      <td>0.000000</td>\n",
       "      <td>0.000000</td>\n",
       "      <td>0.000000</td>\n",
       "    </tr>\n",
       "    <tr>\n",
       "      <th>5.473947</th>\n",
       "      <td>0.012670</td>\n",
       "      <td>0.006064</td>\n",
       "      <td>0.009304</td>\n",
       "      <td>0.019509</td>\n",
       "      <td>0.000000</td>\n",
       "      <td>0.010171</td>\n",
       "    </tr>\n",
       "    <tr>\n",
       "      <th>6.958751</th>\n",
       "      <td>0.292529</td>\n",
       "      <td>0.324278</td>\n",
       "      <td>0.293554</td>\n",
       "      <td>0.316835</td>\n",
       "      <td>0.362637</td>\n",
       "      <td>0.302463</td>\n",
       "    </tr>\n",
       "    <tr>\n",
       "      <th>8.499436</th>\n",
       "      <td>0.000303</td>\n",
       "      <td>0.000243</td>\n",
       "      <td>0.000000</td>\n",
       "      <td>0.000361</td>\n",
       "      <td>0.000000</td>\n",
       "      <td>0.000000</td>\n",
       "    </tr>\n",
       "    <tr>\n",
       "      <th>10.804901</th>\n",
       "      <td>0.003483</td>\n",
       "      <td>0.003881</td>\n",
       "      <td>0.003236</td>\n",
       "      <td>0.005058</td>\n",
       "      <td>0.021978</td>\n",
       "      <td>0.003212</td>\n",
       "    </tr>\n",
       "    <tr>\n",
       "      <th>13.065824</th>\n",
       "      <td>0.001413</td>\n",
       "      <td>0.001455</td>\n",
       "      <td>0.001214</td>\n",
       "      <td>0.002529</td>\n",
       "      <td>0.000000</td>\n",
       "      <td>0.002677</td>\n",
       "    </tr>\n",
       "    <tr>\n",
       "      <th>14.210769</th>\n",
       "      <td>0.000000</td>\n",
       "      <td>0.000243</td>\n",
       "      <td>0.000000</td>\n",
       "      <td>0.000000</td>\n",
       "      <td>0.000000</td>\n",
       "      <td>0.000000</td>\n",
       "    </tr>\n",
       "    <tr>\n",
       "      <th>18.065428</th>\n",
       "      <td>0.000555</td>\n",
       "      <td>0.001213</td>\n",
       "      <td>0.000270</td>\n",
       "      <td>0.000361</td>\n",
       "      <td>0.000000</td>\n",
       "      <td>0.001071</td>\n",
       "    </tr>\n",
       "    <tr>\n",
       "      <th>40.853809</th>\n",
       "      <td>0.066986</td>\n",
       "      <td>0.074218</td>\n",
       "      <td>0.069714</td>\n",
       "      <td>0.099711</td>\n",
       "      <td>0.109890</td>\n",
       "      <td>0.069058</td>\n",
       "    </tr>\n",
       "    <tr>\n",
       "      <th>63.434006</th>\n",
       "      <td>0.000707</td>\n",
       "      <td>0.000970</td>\n",
       "      <td>0.001214</td>\n",
       "      <td>0.000723</td>\n",
       "      <td>0.000000</td>\n",
       "      <td>0.000000</td>\n",
       "    </tr>\n",
       "    <tr>\n",
       "      <th>106.059479</th>\n",
       "      <td>0.000101</td>\n",
       "      <td>0.000243</td>\n",
       "      <td>0.000135</td>\n",
       "      <td>0.000000</td>\n",
       "      <td>0.000000</td>\n",
       "      <td>0.000000</td>\n",
       "    </tr>\n",
       "  </tbody>\n",
       "</table>\n",
       "</div>"
      ],
      "text/plain": [
       "RACE             1.0       2.0       3.0       4.0       5.0       6.0\n",
       "SCORE                                                                 \n",
       "0.298197    0.014134  0.019646  0.015372  0.018786  0.021978  0.020343\n",
       "0.463013    0.000101  0.000243  0.000405  0.000361  0.000000  0.001071\n",
       "0.774142    0.000000  0.000000  0.000000  0.001084  0.000000  0.000000\n",
       "0.932394    0.590863  0.547902  0.590885  0.517702  0.450549  0.570664\n",
       "1.447735    0.008884  0.008974  0.007956  0.010116  0.021978  0.008565\n",
       "1.558931    0.000000  0.000243  0.000000  0.000000  0.000000  0.000000\n",
       "1.750672    0.000101  0.000000  0.000000  0.000000  0.000000  0.001071\n",
       "2.225541    0.006159  0.008489  0.004989  0.005419  0.010989  0.008565\n",
       "2.420563    0.001010  0.001455  0.001753  0.001445  0.000000  0.001071\n",
       "3.455614    0.000000  0.000243  0.000000  0.000000  0.000000  0.000000\n",
       "5.473947    0.012670  0.006064  0.009304  0.019509  0.000000  0.010171\n",
       "6.958751    0.292529  0.324278  0.293554  0.316835  0.362637  0.302463\n",
       "8.499436    0.000303  0.000243  0.000000  0.000361  0.000000  0.000000\n",
       "10.804901   0.003483  0.003881  0.003236  0.005058  0.021978  0.003212\n",
       "13.065824   0.001413  0.001455  0.001214  0.002529  0.000000  0.002677\n",
       "14.210769   0.000000  0.000243  0.000000  0.000000  0.000000  0.000000\n",
       "18.065428   0.000555  0.001213  0.000270  0.000361  0.000000  0.001071\n",
       "40.853809   0.066986  0.074218  0.069714  0.099711  0.109890  0.069058\n",
       "63.434006   0.000707  0.000970  0.001214  0.000723  0.000000  0.000000\n",
       "106.059479  0.000101  0.000243  0.000135  0.000000  0.000000  0.000000"
      ]
     },
     "execution_count": 56,
     "metadata": {},
     "output_type": "execute_result"
    }
   ],
   "source": [
    "pd.crosstab(allStateData.SCORE,allStateData.RACE).apply(lambda x: x/x.sum()) # percentages"
   ]
  },
  {
   "cell_type": "code",
   "execution_count": 57,
   "metadata": {
    "collapsed": false
   },
   "outputs": [
    {
     "name": "stdout",
     "output_type": "stream",
     "text": [
      "p-value:  3.32271066509e-17\n"
     ]
    }
   ],
   "source": [
    "p_val = stats.chi2_contingency(ctRACE)[1]\n",
    "print \"p-value: \", p_val  "
   ]
  },
  {
   "cell_type": "markdown",
   "metadata": {},
   "source": [
    "P-value < 0.01 so there are difference in the scores between the various races. "
   ]
  },
  {
   "cell_type": "code",
   "execution_count": 58,
   "metadata": {
    "collapsed": false
   },
   "outputs": [
    {
     "data": {
      "text/plain": [
       "RACE\n",
       "1.0    5.550254\n",
       "2.0    6.050925\n",
       "3.0    5.671344\n",
       "4.0    7.047776\n",
       "5.0    7.733321\n",
       "6.0    5.645308\n",
       "Name: SCORE, dtype: float32"
      ]
     },
     "execution_count": 58,
     "metadata": {},
     "output_type": "execute_result"
    }
   ],
   "source": [
    "# These are the mean scores for each race\n",
    "allStateData.groupby('RACE')['SCORE'].mean()"
   ]
  },
  {
   "cell_type": "markdown",
   "metadata": {},
   "source": [
    "As we can see there is a clear difference in the means. We perform a ANOVA to test the statistical significance of this difference. "
   ]
  },
  {
   "cell_type": "code",
   "execution_count": 59,
   "metadata": {
    "collapsed": false
   },
   "outputs": [],
   "source": [
    "race_1 = allStateData[allStateData.RACE == 1].SCORE;  race_2 = allStateData[allStateData.RACE == 2].SCORE;\n",
    "race_3 = allStateData[allStateData.RACE == 3].SCORE;  race_4 = allStateData[allStateData.RACE == 4].SCORE;\n",
    "race_5 = allStateData[allStateData.RACE == 5].SCORE;  race_6 = allStateData[allStateData.RACE == 6].SCORE; \n",
    "racesLst = [allStateData[allStateData.RACE == x].SCORE for x in range(1,7)]"
   ]
  },
  {
   "cell_type": "code",
   "execution_count": 60,
   "metadata": {
    "collapsed": false
   },
   "outputs": [
    {
     "data": {
      "text/plain": [
       "F_onewayResult(statistic=11.774634483991139, pvalue=2.1226967841290499e-11)"
      ]
     },
     "execution_count": 60,
     "metadata": {},
     "output_type": "execute_result"
    }
   ],
   "source": [
    "stats.f_oneway(race_1, race_2, race_3, race_4, race_5, race_6)"
   ]
  },
  {
   "cell_type": "markdown",
   "metadata": {},
   "source": [
    "The p-value < 0.01 indicates a significant ANOVA, i.e., the means are different.\n",
    "Let us now compare each race with the other to see the results."
   ]
  },
  {
   "cell_type": "code",
   "execution_count": 61,
   "metadata": {
    "collapsed": false
   },
   "outputs": [],
   "source": [
    "from statsmodels.stats.weightstats import ttest_ind\n",
    "pVals = {}\n",
    "for race_i in range(len(racesLst)):\n",
    "    for race_j in range(len(racesLst)):\n",
    "        if race_i == race_j: continue\n",
    "        else:\n",
    "            pVals[(race_i+1,race_j+1)] = ttest_ind(racesLst[race_i],racesLst[race_j], 'larger')[1]"
   ]
  },
  {
   "cell_type": "code",
   "execution_count": 62,
   "metadata": {
    "collapsed": false
   },
   "outputs": [
    {
     "data": {
      "text/plain": [
       "{(1, 2): 0.9980422727115924,\n",
       " (1, 3): 0.81027889084360938,\n",
       " (1, 4): 0.99999999999966183,\n",
       " (1, 5): 0.98057409903015202,\n",
       " (1, 6): 0.65210270799953052,\n",
       " (2, 1): 0.0019577272884075216,\n",
       " (2, 3): 0.030166612355805315,\n",
       " (2, 4): 0.99988002086166938,\n",
       " (2, 5): 0.93294224169932427,\n",
       " (2, 6): 0.08084093826467266,\n",
       " (3, 1): 0.18972110915639068,\n",
       " (3, 2): 0.96983338764419469,\n",
       " (3, 4): 0.99999999588886324,\n",
       " (3, 5): 0.97071296904361704,\n",
       " (3, 6): 0.46092377038357657,\n",
       " (4, 1): 3.3824035123590329e-13,\n",
       " (4, 2): 0.00011997913833064399,\n",
       " (4, 3): 4.111136756952368e-09,\n",
       " (4, 5): 0.70833984125380534,\n",
       " (4, 6): 1.1667936010733243e-05,\n",
       " (5, 1): 0.019425900969847917,\n",
       " (5, 2): 0.067057758300675743,\n",
       " (5, 3): 0.029287030956382951,\n",
       " (5, 4): 0.29166015874619472,\n",
       " (5, 6): 0.027278131258812972,\n",
       " (6, 1): 0.34789729200046959,\n",
       " (6, 2): 0.91915906173532735,\n",
       " (6, 3): 0.53907622961642343,\n",
       " (6, 4): 0.99998833206398929,\n",
       " (6, 5): 0.97272186874118705}"
      ]
     },
     "execution_count": 62,
     "metadata": {},
     "output_type": "execute_result"
    }
   ],
   "source": [
    "pVals"
   ]
  },
  {
   "cell_type": "markdown",
   "metadata": {},
   "source": [
    "**Conclusions**\n",
    "\n",
    "As seen from the p-values: The following conclusions can be drawn: (using alpha of 0.01)\n",
    "- race2 has higher mean than race1\n",
    "- race4 has higher mean than race1\n",
    "- race4 has higher mean than race2\n",
    "- race4 has higher mean than race3\n",
    "- race4 has higher mean than race6\n",
    "- **\"race5 has higher mean than race1\" (NOT True any more- race5 does NOT HAVE higher mean than race1, this is different) **"
   ]
  },
  {
   "cell_type": "code",
   "execution_count": 88,
   "metadata": {
    "collapsed": false
   },
   "outputs": [
    {
     "data": {
      "text/plain": [
       "{1: 10.048111574003011,\n",
       " 2: 10.560057227817715,\n",
       " 3: 10.312201848199434,\n",
       " 4: 11.717988256492532,\n",
       " 5: 12.07596765277949,\n",
       " 6: 10.007239963375032}"
      ]
     },
     "execution_count": 88,
     "metadata": {},
     "output_type": "execute_result"
    }
   ],
   "source": [
    "# Standard deviation of the scores of different races\n",
    "SDs = {}\n",
    "for race_i in range(len(racesLst)):\n",
    "    SDs[race_i+1] = racesLst[race_i].std()\n",
    "\n",
    "SDs"
   ]
  },
  {
   "cell_type": "code",
   "execution_count": 87,
   "metadata": {
    "collapsed": false
   },
   "outputs": [
    {
     "data": {
      "text/plain": [
       "{1: (0.29819727, 106.05948),\n",
       " 2: (0.29819727, 106.05948),\n",
       " 3: (0.29819727, 106.05948),\n",
       " 4: (0.29819727, 63.434006),\n",
       " 5: (0.29819727, 40.853809),\n",
       " 6: (0.29819727, 40.853809)}"
      ]
     },
     "execution_count": 87,
     "metadata": {},
     "output_type": "execute_result"
    }
   ],
   "source": [
    "# Ranges of the scores of different races\n",
    "ranges = {}\n",
    "for race_i in range(len(racesLst)):\n",
    "    ranges[race_i+1] = (racesLst[race_i].min(),racesLst[race_i].max())\n",
    "\n",
    "ranges"
   ]
  },
  {
   "cell_type": "markdown",
   "metadata": {},
   "source": [
    "### Q6 Is there a relation between the age of the patient and SAH score ?"
   ]
  },
  {
   "cell_type": "code",
   "execution_count": 63,
   "metadata": {
    "collapsed": false
   },
   "outputs": [
    {
     "data": {
      "text/plain": [
       "(array([  1.04700000e+03,   1.64900000e+03,   4.19300000e+03,\n",
       "          8.72100000e+03,   7.41800000e+03,   5.40300000e+03,\n",
       "          4.90600000e+03,   2.46600000e+03,   2.67000000e+02,\n",
       "          6.00000000e+00]),\n",
       " array([  18. ,   27.3,   36.6,   45.9,   55.2,   64.5,   73.8,   83.1,\n",
       "          92.4,  101.7,  111. ]),\n",
       " <a list of 10 Patch objects>)"
      ]
     },
     "execution_count": 63,
     "metadata": {},
     "output_type": "execute_result"
    },
    {
     "data": {
      "image/png": "[encoded data removed]",
      "text/plain": [
       "<matplotlib.figure.Figure at 0xa919160>"
      ]
     },
     "metadata": {},
     "output_type": "display_data"
    }
   ],
   "source": [
    "# distribution of age values in the data\n",
    "plt.hist(allStateData.AGE)"
   ]
  },
  {
   "cell_type": "markdown",
   "metadata": {},
   "source": [
    "let us take a look at the correlation between the AGE of the patient and his/her score"
   ]
  },
  {
   "cell_type": "code",
   "execution_count": 64,
   "metadata": {
    "collapsed": false
   },
   "outputs": [
    {
     "data": {
      "text/plain": [
       "0.036465866572796372"
      ]
     },
     "execution_count": 64,
     "metadata": {},
     "output_type": "execute_result"
    }
   ],
   "source": [
    "stats.pearsonr(allStateData.AGE, allStateData.SCORE)[0]"
   ]
  },
  {
   "cell_type": "markdown",
   "metadata": {},
   "source": [
    "This indicates that there is really no correlation. But let us take a look at the means."
   ]
  },
  {
   "cell_type": "code",
   "execution_count": 55,
   "metadata": {
    "collapsed": false
   },
   "outputs": [
    {
     "data": {
      "image/png": "[encoded data removed]",
      "text/plain": [
       "<matplotlib.figure.Figure at 0x1171577d0>"
      ]
     },
     "metadata": {},
     "output_type": "display_data"
    }
   ],
   "source": [
    "# let us also look at how the (mean) score varies with age\n",
    "meanScoreByAge = allStateData.groupby('AGE')['SCORE'].mean()\n",
    "plt.scatter(meanScoreByAge.index, meanScoreByAge)\n",
    "plt.xlabel('age'); plt.ylabel('mean score')\n",
    "df_AgeScore = pd.DataFrame({'AGE':meanScoreByAge.index, 'SCORE':meanScoreByAge})"
   ]
  },
  {
   "cell_type": "markdown",
   "metadata": {},
   "source": [
    "Looking at this plot there seems to be a linear increase in the score going from 20 to 70 years and then a drop from 70 to 100 years. Let us take a look at the correlations for these ranges."
   ]
  },
  {
   "cell_type": "code",
   "execution_count": 56,
   "metadata": {
    "collapsed": false
   },
   "outputs": [
    {
     "data": {
      "text/plain": [
       "0.81234396723046531"
      ]
     },
     "execution_count": 56,
     "metadata": {},
     "output_type": "execute_result"
    }
   ],
   "source": [
    "# 20years to 70years\n",
    "age20_70 =df_AgeScore[(df_AgeScore.AGE>20) & (df_AgeScore.AGE<70)].AGE \n",
    "score20_70 = df_AgeScore[(df_AgeScore.AGE>20) & (df_AgeScore.AGE<70)].SCORE\n",
    "stats.pearsonr(age20_70, score20_70)[0]"
   ]
  },
  {
   "cell_type": "code",
   "execution_count": 57,
   "metadata": {
    "collapsed": false
   },
   "outputs": [
    {
     "data": {
      "text/plain": [
       "-0.62974811515403373"
      ]
     },
     "execution_count": 57,
     "metadata": {},
     "output_type": "execute_result"
    }
   ],
   "source": [
    "# 70years to 100years\n",
    "age70_100 =df_AgeScore[(df_AgeScore.AGE>70) & (df_AgeScore.AGE<100)].AGE\n",
    "score70_100 = df_AgeScore[(df_AgeScore.AGE>70) & (df_AgeScore.AGE<100)].SCORE\n",
    "stats.pearsonr(age70_100, score70_100)[0]"
   ]
  },
  {
   "cell_type": "markdown",
   "metadata": {},
   "source": [
    "Based on these values, we can conclude that there is some correaltion between age and score. In the 20 to 70 year group, there is a 81% correlation. And in the 70 to 100 year group there is a -63% correlation (decreasing)."
   ]
  },
  {
   "cell_type": "markdown",
   "metadata": {
    "collapsed": true
   },
   "source": [
    "Let us now conduct some hypothesis test on these values to check if they are statistically significant:"
   ]
  },
  {
   "cell_type": "code",
   "execution_count": 58,
   "metadata": {
    "collapsed": false
   },
   "outputs": [
    {
     "data": {
      "text/plain": [
       "1.3869377395118408e-12"
      ]
     },
     "execution_count": 58,
     "metadata": {},
     "output_type": "execute_result"
    }
   ],
   "source": [
    "# 20years to 70years\n",
    "stats.pearsonr(age20_70, score20_70)[1]"
   ]
  },
  {
   "cell_type": "code",
   "execution_count": 59,
   "metadata": {
    "collapsed": false
   },
   "outputs": [
    {
     "data": {
      "text/plain": [
       "0.00025171174106927653"
      ]
     },
     "execution_count": 59,
     "metadata": {},
     "output_type": "execute_result"
    }
   ],
   "source": [
    "# 70years to 100years\n",
    "stats.pearsonr(age70_100, score70_100)[1]"
   ]
  },
  {
   "cell_type": "markdown",
   "metadata": {},
   "source": [
    "From the above results we can see that both tests are significant using at $\\alpha$ of 0.01. What this is telling us is that a correlation between age and SAH score is present and statistically significant. Again, does **NOT** indicate a casual relationship."
   ]
  },
  {
   "cell_type": "code",
   "execution_count": null,
   "metadata": {
    "collapsed": true
   },
   "outputs": [],
   "source": []
  }
 ],
 "metadata": {
  "kernelspec": {
   "display_name": "Python 2",
   "language": "python",
   "name": "python2"
  },
  "language_info": {
   "codemirror_mode": {
    "name": "ipython",
    "version": 2
   },
   "file_extension": ".py",
   "mimetype": "text/x-python",
   "name": "python",
   "nbconvert_exporter": "python",
   "pygments_lexer": "ipython2",
   "version": "2.7.12"
  }
 },
 "nbformat": 4,
 "nbformat_minor": 0
}
