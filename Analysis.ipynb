{
 "cells": [
  {
   "cell_type": "markdown",
   "metadata": {},
   "source": [
    "# Reading and Exploring the Data"
   ]
  },
  {
   "cell_type": "code",
   "execution_count": 23,
   "metadata": {
    "collapsed": false
   },
   "outputs": [],
   "source": [
    "'''\n",
    "Author: Sriram Yarlagadda\n",
    "Date Created: 8/26/2016\n",
    "Note: Please use Python 2.7\n",
    "'''\n",
    "import os\n",
    "import numpy as np\n",
    "import pandas as pd\n",
    "import matplotlib.pyplot as plt\n",
    "%matplotlib inline\n",
    "#os.chdir('C:\\Users\\syarlag1\\Desktop\\Loyola-SAH-Analysis') #Set location of home dir here.\n",
    "os.chdir('/Users/Sriram/Desktop/DePaul/Loyola-SAH-Analysis')#location in Mac"
   ]
  },
  {
   "cell_type": "markdown",
   "metadata": {},
   "source": [
    "### Reading Data"
   ]
  },
  {
   "cell_type": "code",
   "execution_count": 2,
   "metadata": {
    "collapsed": false
   },
   "outputs": [
    {
     "name": "stdout",
     "output_type": "stream",
     "text": [
      "CAData\n",
      "FLData\n",
      "IAData\n",
      "NYData\n",
      "WAData\n"
     ]
    }
   ],
   "source": [
    "os.chdir('./data')\n",
    "dataFiles = os.listdir('.')\n",
    "varLst = ['KEY','LOS','DIED','AGE','SAH','ASA','PT_INT_SAH','PT_INT_SAH_ASA','SCORE']#Names of the variables we need\n",
    "fullDataDict = {}\n",
    "for fileName in dataFiles:\n",
    "    dataStr = fileName[:2] + 'Data'; print dataStr #print to confirm that the data is created\n",
    "    fullDataDict[dataStr] = pd.DataFrame()\n",
    "    fullDataDict[dataStr] = pd.read_stata(fileName, columns=varLst)\n",
    "    fullDataDict[dataStr]['KEY'] = fullDataDict[dataStr]['KEY'].astype(str)#Setting the KEY variable as an object   \n",
    "    #fullDataDict[dataStr].index = fullDataDict[dataStr]['KEY']; del fullDataDict[dataStr]['KEY'] #Setting 'KEY' as index"
   ]
  },
  {
   "cell_type": "code",
   "execution_count": 3,
   "metadata": {
    "collapsed": false
   },
   "outputs": [],
   "source": [
    "for key in fullDataDict.keys(): #creating a new state identifier column\n",
    "    fullDataDict[key]['State'] = pd.Series([str(key)[:2]]*fullDataDict[key].shape[0])\n",
    "allStateData = pd.concat(fullDataDict.values()) #combing into a single dataframe\n",
    "allStateData.index = range(allStateData.shape[0])"
   ]
  },
  {
   "cell_type": "markdown",
   "metadata": {},
   "source": [
    "### Data Preprocessing"
   ]
  },
  {
   "cell_type": "code",
   "execution_count": 4,
   "metadata": {
    "collapsed": false
   },
   "outputs": [
    {
     "data": {
      "text/html": [
       "<div>\n",
       "<table border=\"1\" class=\"dataframe\">\n",
       "  <thead>\n",
       "    <tr style=\"text-align: right;\">\n",
       "      <th></th>\n",
       "      <th>LOS</th>\n",
       "      <th>DIED</th>\n",
       "      <th>AGE</th>\n",
       "      <th>SAH</th>\n",
       "      <th>ASA</th>\n",
       "      <th>PT_INT_SAH</th>\n",
       "      <th>PT_INT_SAH_ASA</th>\n",
       "      <th>SCORE</th>\n",
       "    </tr>\n",
       "  </thead>\n",
       "  <tbody>\n",
       "    <tr>\n",
       "      <th>count</th>\n",
       "      <td>38307.000000</td>\n",
       "      <td>38304.000000</td>\n",
       "      <td>38231.000000</td>\n",
       "      <td>38310.0</td>\n",
       "      <td>38310.000000</td>\n",
       "      <td>38310.0</td>\n",
       "      <td>38310.000000</td>\n",
       "      <td>38310.000000</td>\n",
       "    </tr>\n",
       "    <tr>\n",
       "      <th>mean</th>\n",
       "      <td>12.153001</td>\n",
       "      <td>0.204626</td>\n",
       "      <td>58.659569</td>\n",
       "      <td>1.0</td>\n",
       "      <td>0.033908</td>\n",
       "      <td>1.0</td>\n",
       "      <td>0.033908</td>\n",
       "      <td>5.732522</td>\n",
       "    </tr>\n",
       "    <tr>\n",
       "      <th>std</th>\n",
       "      <td>37.072215</td>\n",
       "      <td>0.406335</td>\n",
       "      <td>16.465707</td>\n",
       "      <td>0.0</td>\n",
       "      <td>0.180971</td>\n",
       "      <td>0.0</td>\n",
       "      <td>0.180971</td>\n",
       "      <td>10.280618</td>\n",
       "    </tr>\n",
       "    <tr>\n",
       "      <th>min</th>\n",
       "      <td>-6666.000000</td>\n",
       "      <td>-9.000000</td>\n",
       "      <td>0.000000</td>\n",
       "      <td>1.0</td>\n",
       "      <td>0.000000</td>\n",
       "      <td>1.0</td>\n",
       "      <td>0.000000</td>\n",
       "      <td>0.298197</td>\n",
       "    </tr>\n",
       "    <tr>\n",
       "      <th>25%</th>\n",
       "      <td>3.000000</td>\n",
       "      <td>0.000000</td>\n",
       "      <td>48.000000</td>\n",
       "      <td>1.0</td>\n",
       "      <td>0.000000</td>\n",
       "      <td>1.0</td>\n",
       "      <td>0.000000</td>\n",
       "      <td>0.932394</td>\n",
       "    </tr>\n",
       "    <tr>\n",
       "      <th>50%</th>\n",
       "      <td>9.000000</td>\n",
       "      <td>0.000000</td>\n",
       "      <td>58.000000</td>\n",
       "      <td>1.0</td>\n",
       "      <td>0.000000</td>\n",
       "      <td>1.0</td>\n",
       "      <td>0.000000</td>\n",
       "      <td>0.932394</td>\n",
       "    </tr>\n",
       "    <tr>\n",
       "      <th>75%</th>\n",
       "      <td>17.000000</td>\n",
       "      <td>0.000000</td>\n",
       "      <td>71.000000</td>\n",
       "      <td>1.0</td>\n",
       "      <td>0.000000</td>\n",
       "      <td>1.0</td>\n",
       "      <td>0.000000</td>\n",
       "      <td>6.958751</td>\n",
       "    </tr>\n",
       "    <tr>\n",
       "      <th>max</th>\n",
       "      <td>362.000000</td>\n",
       "      <td>1.000000</td>\n",
       "      <td>111.000000</td>\n",
       "      <td>1.0</td>\n",
       "      <td>1.000000</td>\n",
       "      <td>1.0</td>\n",
       "      <td>1.000000</td>\n",
       "      <td>106.059479</td>\n",
       "    </tr>\n",
       "  </tbody>\n",
       "</table>\n",
       "</div>"
      ],
      "text/plain": [
       "                LOS          DIED           AGE      SAH           ASA  \\\n",
       "count  38307.000000  38304.000000  38231.000000  38310.0  38310.000000   \n",
       "mean      12.153001      0.204626     58.659569      1.0      0.033908   \n",
       "std       37.072215      0.406335     16.465707      0.0      0.180971   \n",
       "min    -6666.000000     -9.000000      0.000000      1.0      0.000000   \n",
       "25%        3.000000      0.000000     48.000000      1.0      0.000000   \n",
       "50%        9.000000      0.000000     58.000000      1.0      0.000000   \n",
       "75%       17.000000      0.000000     71.000000      1.0      0.000000   \n",
       "max      362.000000      1.000000    111.000000      1.0      1.000000   \n",
       "\n",
       "       PT_INT_SAH  PT_INT_SAH_ASA         SCORE  \n",
       "count     38310.0    38310.000000  38310.000000  \n",
       "mean          1.0        0.033908      5.732522  \n",
       "std           0.0        0.180971     10.280618  \n",
       "min           1.0        0.000000      0.298197  \n",
       "25%           1.0        0.000000      0.932394  \n",
       "50%           1.0        0.000000      0.932394  \n",
       "75%           1.0        0.000000      6.958751  \n",
       "max           1.0        1.000000    106.059479  "
      ]
     },
     "execution_count": 4,
     "metadata": {},
     "output_type": "execute_result"
    }
   ],
   "source": [
    "allStateData.describe()"
   ]
  },
  {
   "cell_type": "markdown",
   "metadata": {},
   "source": [
    "As we can see if have some abberations. For example, the min of LOS is -6666, which is not possible. Hence we quickly scan for other such outliers and remove the corresponding cases."
   ]
  },
  {
   "cell_type": "code",
   "execution_count": 5,
   "metadata": {
    "collapsed": false
   },
   "outputs": [
    {
     "data": {
      "text/plain": [
       "array([0, 1, 1, 0, 0, 0, 0, 0, 0, 0])"
      ]
     },
     "execution_count": 5,
     "metadata": {},
     "output_type": "execute_result"
    }
   ],
   "source": [
    "np.sum(np.array(allStateData < 0), 0)"
   ]
  },
  {
   "cell_type": "markdown",
   "metadata": {},
   "source": [
    "As we can see from the above output, only two features -- LOS and DIED -- have negative values. We look at the cases that correspond to these:"
   ]
  },
  {
   "cell_type": "code",
   "execution_count": 6,
   "metadata": {
    "collapsed": false
   },
   "outputs": [
    {
     "data": {
      "text/html": [
       "<div>\n",
       "<table border=\"1\" class=\"dataframe\">\n",
       "  <thead>\n",
       "    <tr style=\"text-align: right;\">\n",
       "      <th></th>\n",
       "      <th>KEY</th>\n",
       "      <th>LOS</th>\n",
       "      <th>DIED</th>\n",
       "      <th>AGE</th>\n",
       "      <th>SAH</th>\n",
       "      <th>ASA</th>\n",
       "      <th>PT_INT_SAH</th>\n",
       "      <th>PT_INT_SAH_ASA</th>\n",
       "      <th>SCORE</th>\n",
       "      <th>State</th>\n",
       "    </tr>\n",
       "  </thead>\n",
       "  <tbody>\n",
       "    <tr>\n",
       "      <th>35184</th>\n",
       "      <td>6.20061320052e+12</td>\n",
       "      <td>1.0</td>\n",
       "      <td>-9.0</td>\n",
       "      <td>46.0</td>\n",
       "      <td>1.0</td>\n",
       "      <td>0.0</td>\n",
       "      <td>1.0</td>\n",
       "      <td>0.0</td>\n",
       "      <td>6.958751</td>\n",
       "      <td>CA</td>\n",
       "    </tr>\n",
       "  </tbody>\n",
       "</table>\n",
       "</div>"
      ],
      "text/plain": [
       "                     KEY  LOS  DIED   AGE  SAH  ASA  PT_INT_SAH  \\\n",
       "35184  6.20061320052e+12  1.0  -9.0  46.0  1.0  0.0         1.0   \n",
       "\n",
       "       PT_INT_SAH_ASA     SCORE State  \n",
       "35184             0.0  6.958751    CA  "
      ]
     },
     "execution_count": 6,
     "metadata": {},
     "output_type": "execute_result"
    }
   ],
   "source": [
    "allStateData[allStateData['DIED'] < 0]"
   ]
  },
  {
   "cell_type": "code",
   "execution_count": 7,
   "metadata": {
    "collapsed": false
   },
   "outputs": [
    {
     "data": {
      "text/html": [
       "<div>\n",
       "<table border=\"1\" class=\"dataframe\">\n",
       "  <thead>\n",
       "    <tr style=\"text-align: right;\">\n",
       "      <th></th>\n",
       "      <th>KEY</th>\n",
       "      <th>LOS</th>\n",
       "      <th>DIED</th>\n",
       "      <th>AGE</th>\n",
       "      <th>SAH</th>\n",
       "      <th>ASA</th>\n",
       "      <th>PT_INT_SAH</th>\n",
       "      <th>PT_INT_SAH_ASA</th>\n",
       "      <th>SCORE</th>\n",
       "      <th>State</th>\n",
       "    </tr>\n",
       "  </thead>\n",
       "  <tbody>\n",
       "    <tr>\n",
       "      <th>24598</th>\n",
       "      <td>6.20061082797e+12</td>\n",
       "      <td>-6666.0</td>\n",
       "      <td>0.0</td>\n",
       "      <td>67.0</td>\n",
       "      <td>1.0</td>\n",
       "      <td>0.0</td>\n",
       "      <td>1.0</td>\n",
       "      <td>0.0</td>\n",
       "      <td>5.473947</td>\n",
       "      <td>CA</td>\n",
       "    </tr>\n",
       "  </tbody>\n",
       "</table>\n",
       "</div>"
      ],
      "text/plain": [
       "                     KEY     LOS  DIED   AGE  SAH  ASA  PT_INT_SAH  \\\n",
       "24598  6.20061082797e+12 -6666.0   0.0  67.0  1.0  0.0         1.0   \n",
       "\n",
       "       PT_INT_SAH_ASA     SCORE State  \n",
       "24598             0.0  5.473947    CA  "
      ]
     },
     "execution_count": 7,
     "metadata": {},
     "output_type": "execute_result"
    }
   ],
   "source": [
    "allStateData[allStateData['LOS'] < 0]"
   ]
  },
  {
   "cell_type": "code",
   "execution_count": 8,
   "metadata": {
    "collapsed": false
   },
   "outputs": [
    {
     "data": {
      "text/plain": [
       "array([ 0,  3,  6, 79,  0,  0,  0,  0,  0,  0])"
      ]
     },
     "execution_count": 8,
     "metadata": {},
     "output_type": "execute_result"
    }
   ],
   "source": [
    "np.sum(np.array(pd.isnull(allStateData)),0)"
   ]
  },
  {
   "cell_type": "markdown",
   "metadata": {},
   "source": [
    "There are **89** missing values in our data."
   ]
  },
  {
   "cell_type": "markdown",
   "metadata": {},
   "source": [
    "We remove all cases which have such outliers:"
   ]
  },
  {
   "cell_type": "code",
   "execution_count": 9,
   "metadata": {
    "collapsed": false
   },
   "outputs": [],
   "source": [
    "for feature in allStateData.columns: \n",
    "    allStateData = allStateData[allStateData[feature] >= 0] #removing all the cases that are less than 0 (only 2 in our case)"
   ]
  },
  {
   "cell_type": "code",
   "execution_count": 10,
   "metadata": {
    "collapsed": true
   },
   "outputs": [],
   "source": [
    "os.chdir('./..')\n",
    "allStateData.to_csv('./allStateData.csv')"
   ]
  },
  {
   "cell_type": "markdown",
   "metadata": {},
   "source": [
    "### Data Exploration"
   ]
  },
  {
   "cell_type": "code",
   "execution_count": 9,
   "metadata": {
    "collapsed": false
   },
   "outputs": [],
   "source": [
    "allStateData = pd.read_csv('./allStateData.csv')#ignore this if running script from top"
   ]
  },
  {
   "cell_type": "markdown",
   "metadata": {},
   "source": [
    "Taking a look at the number of cases by state:"
   ]
  },
  {
   "cell_type": "code",
   "execution_count": 19,
   "metadata": {
    "collapsed": false
   },
   "outputs": [
    {
     "data": {
      "text/plain": [
       "CA    18357\n",
       "FL     8602\n",
       "NY     8318\n",
       "WA     2006\n",
       "IA      937\n",
       "Name: State, dtype: int64"
      ]
     },
     "execution_count": 19,
     "metadata": {},
     "output_type": "execute_result"
    }
   ],
   "source": [
    "allStateData.State.value_counts()"
   ]
  },
  {
   "cell_type": "code",
   "execution_count": 28,
   "metadata": {
    "collapsed": false
   },
   "outputs": [
    {
     "data": {
      "text/plain": [
       "<matplotlib.text.Text at 0x1145e8c10>"
      ]
     },
     "execution_count": 28,
     "metadata": {},
     "output_type": "execute_result"
    },
    {
     "data": {
      "image/png": "[encoded data removed]",
      "text/plain": [
       "<matplotlib.figure.Figure at 0x1168a5410>"
      ]
     },
     "metadata": {},
     "output_type": "display_data"
    }
   ],
   "source": [
    "allStateData.State.value_counts().plot('bar')\n",
    "plt.title('State Distribution')"
   ]
  },
  {
   "cell_type": "markdown",
   "metadata": {},
   "source": [
    "As seen above, California has the most number of cases, more than the next two (FL and NY) combined.\n"
   ]
  },
  {
   "cell_type": "code",
   "execution_count": 27,
   "metadata": {
    "collapsed": false
   },
   "outputs": [
    {
     "data": {
      "text/plain": [
       "<matplotlib.text.Text at 0x11bd346d0>"
      ]
     },
     "execution_count": 27,
     "metadata": {},
     "output_type": "execute_result"
    },
    {
     "data": {
      "image/png": "[encoded data removed]",
      "text/plain": [
       "<matplotlib.figure.Figure at 0x11bcd2050>"
      ]
     },
     "metadata": {},
     "output_type": "display_data"
    }
   ],
   "source": [
    "allStateData.ASA.value_counts().plot('bar')\n",
    "plt.title('ASA distribution')"
   ]
  },
  {
   "cell_type": "markdown",
   "metadata": {},
   "source": [
    "The above barplot shows us that there are **far fewer** cases of ASA than without ASA\n",
    "\n",
    "Next we visualize the relation between the Length of Stay (LOS), Died, Age, and High Asprin use and SAH presence (ASA).\n",
    "\n",
    "First we look at the distribution of the \"score\" variable:"
   ]
  },
  {
   "cell_type": "code",
   "execution_count": 59,
   "metadata": {
    "collapsed": false
   },
   "outputs": [
    {
     "data": {
      "text/plain": [
       "<matplotlib.axes._subplots.AxesSubplot at 0x1347a0ad0>"
      ]
     },
     "execution_count": 59,
     "metadata": {},
     "output_type": "execute_result"
    },
    {
     "data": {
      "image/png": "[encoded data removed]",
      "text/plain": [
       "<matplotlib.figure.Figure at 0x1350b43d0>"
      ]
     },
     "metadata": {},
     "output_type": "display_data"
    }
   ],
   "source": [
    "###ASA = 0\n",
    "allStateData[allStateData.ASA == 0.].SCORE.plot('box')"
   ]
  },
  {
   "cell_type": "code",
   "execution_count": 61,
   "metadata": {
    "collapsed": false
   },
   "outputs": [
    {
     "data": {
      "text/plain": [
       "<matplotlib.axes._subplots.AxesSubplot at 0x134f04dd0>"
      ]
     },
     "execution_count": 61,
     "metadata": {},
     "output_type": "execute_result"
    },
    {
     "data": {
      "image/png": "[encoded data removed]",
      "text/plain": [
       "<matplotlib.figure.Figure at 0x134b4e610>"
      ]
     },
     "metadata": {},
     "output_type": "display_data"
    }
   ],
   "source": [
    "#Hist of the ASA spread on the LOS variable\n",
    "allStateData[allStateData.ASA == 0.].SCORE.plot('hist', xlim=(0,20), bins = 100) #zooming in to ignore outliers"
   ]
  },
  {
   "cell_type": "code",
   "execution_count": 62,
   "metadata": {
    "collapsed": false
   },
   "outputs": [
    {
     "data": {
      "text/plain": [
       "<matplotlib.axes._subplots.AxesSubplot at 0x135520310>"
      ]
     },
     "execution_count": 62,
     "metadata": {},
     "output_type": "execute_result"
    },
    {
     "data": {
      "image/png": "[encoded data removed]",
      "text/plain": [
       "<matplotlib.figure.Figure at 0x13561a350>"
      ]
     },
     "metadata": {},
     "output_type": "display_data"
    }
   ],
   "source": [
    "##ASA == 1\n",
    "allStateData[allStateData.ASA == 1.].SCORE.plot('box')"
   ]
  },
  {
   "cell_type": "code",
   "execution_count": 63,
   "metadata": {
    "collapsed": false
   },
   "outputs": [
    {
     "data": {
      "text/plain": [
       "<matplotlib.axes._subplots.AxesSubplot at 0x1359420d0>"
      ]
     },
     "execution_count": 63,
     "metadata": {},
     "output_type": "execute_result"
    },
    {
     "data": {
      "image/png": "[encoded data removed]",
      "text/plain": [
       "<matplotlib.figure.Figure at 0x11d9c9d90>"
      ]
     },
     "metadata": {},
     "output_type": "display_data"
    }
   ],
   "source": [
    "allStateData[allStateData.ASA == 1.].SCORE.plot('hist', xlim=(0,20), bins = 100) #zooming in to ignore outliers"
   ]
  },
  {
   "cell_type": "markdown",
   "metadata": {},
   "source": [
    "From above we can see that both ASA = 1 and ASA = 0 both have a similar distribution for the SCORE variable. However, it is important to notice that these distributions are **NOT** normal. T-tests may not be appropriate when the distributions are not normal."
   ]
  },
  {
   "cell_type": "code",
   "execution_count": 65,
   "metadata": {
    "collapsed": false
   },
   "outputs": [
    {
     "data": {
      "text/plain": [
       "0.932394      21366\n",
       "6.958751      11082\n",
       "40.853809      2631\n",
       "0.298197        575\n",
       "5.473947        422\n",
       "1.447735        297\n",
       "2.225541        236\n",
       "10.804901       129\n",
       "13.065824        59\n",
       "2.420563         43\n",
       "63.434006        30\n",
       "18.065428        23\n",
       "8.499436          8\n",
       "0.463013          8\n",
       "1.750672          4\n",
       "0.774142          3\n",
       "106.059479        3\n",
       "3.455614          1\n",
       "1.558931          1\n",
       "14.210769         1\n",
       "Name: SCORE, dtype: int64"
      ]
     },
     "execution_count": 65,
     "metadata": {},
     "output_type": "execute_result"
    }
   ],
   "source": [
    "allStateData[allStateData.ASA == 0.].SCORE.value_counts()"
   ]
  },
  {
   "cell_type": "code",
   "execution_count": 66,
   "metadata": {
    "collapsed": false
   },
   "outputs": [
    {
     "data": {
      "text/plain": [
       "0.932394      21366\n",
       "6.958751      11082\n",
       "40.853809      2631\n",
       "0.298197        575\n",
       "5.473947        422\n",
       "1.447735        297\n",
       "2.225541        236\n",
       "10.804901       129\n",
       "13.065824        59\n",
       "2.420563         43\n",
       "63.434006        30\n",
       "18.065428        23\n",
       "8.499436          8\n",
       "0.463013          8\n",
       "1.750672          4\n",
       "0.774142          3\n",
       "106.059479        3\n",
       "3.455614          1\n",
       "1.558931          1\n",
       "14.210769         1\n",
       "Name: SCORE, dtype: int64"
      ]
     },
     "execution_count": 66,
     "metadata": {},
     "output_type": "execute_result"
    }
   ],
   "source": [
    "allStateData[allStateData.ASA == 0.].SCORE.value_counts()"
   ]
  },
  {
   "cell_type": "code",
   "execution_count": 70,
   "metadata": {
    "collapsed": false
   },
   "outputs": [
    {
     "data": {
      "text/plain": [
       "8.312788906009246"
      ]
     },
     "execution_count": 70,
     "metadata": {},
     "output_type": "execute_result"
    }
   ],
   "source": [
    "allStateData[allStateData.ASA == 1.].LOS.mean()"
   ]
  },
  {
   "cell_type": "code",
   "execution_count": 71,
   "metadata": {
    "collapsed": false
   },
   "outputs": [
    {
     "data": {
      "text/plain": [
       "12.484453713233302"
      ]
     },
     "execution_count": 71,
     "metadata": {},
     "output_type": "execute_result"
    }
   ],
   "source": [
    "allStateData[allStateData.ASA == 0.].LOS.mean() "
   ]
  },
  {
   "cell_type": "code",
   "execution_count": 91,
   "metadata": {
    "collapsed": false
   },
   "outputs": [
    {
     "data": {
      "text/plain": [
       "4.9821646668603625"
      ]
     },
     "execution_count": 91,
     "metadata": {},
     "output_type": "execute_result"
    }
   ],
   "source": [
    "allStateData[allStateData.ASA == 1.].SCORE.mean()"
   ]
  },
  {
   "cell_type": "code",
   "execution_count": 92,
   "metadata": {
    "collapsed": false
   },
   "outputs": [
    {
     "data": {
      "text/plain": [
       "5.768029964112174"
      ]
     },
     "execution_count": 92,
     "metadata": {},
     "output_type": "execute_result"
    }
   ],
   "source": [
    "allStateData[allStateData.ASA == 0.].SCORE.mean()"
   ]
  },
  {
   "cell_type": "code",
   "execution_count": null,
   "metadata": {
    "collapsed": true
   },
   "outputs": [],
   "source": []
  },
  {
   "cell_type": "code",
   "execution_count": null,
   "metadata": {
    "collapsed": true
   },
   "outputs": [],
   "source": []
  },
  {
   "cell_type": "markdown",
   "metadata": {},
   "source": [
    "### Mann–Whitney U tests\n",
    "\n",
    "Mann-Whitney test is preferred over a t-test since the data is very unbalanced and it is not normal"
   ]
  },
  {
   "cell_type": "code",
   "execution_count": 72,
   "metadata": {
    "collapsed": true
   },
   "outputs": [],
   "source": [
    "from scipy import stats  "
   ]
  },
  {
   "cell_type": "markdown",
   "metadata": {},
   "source": [
    "#### Q1 Is there a relation between Aspring Usage (ASA) and Hospital Stay (LOS)?\n",
    "\n",
    "To answer this question, we run a simple Mann-Whitney test on both the groups"
   ]
  },
  {
   "cell_type": "code",
   "execution_count": 83,
   "metadata": {
    "collapsed": true
   },
   "outputs": [],
   "source": [
    "group1_LOS =  allStateData[allStateData.ASA == 0.].LOS\n",
    "group2_LOS =  allStateData[allStateData.ASA == 1.].LOS"
   ]
  },
  {
   "cell_type": "code",
   "execution_count": 86,
   "metadata": {
    "collapsed": false
   },
   "outputs": [
    {
     "name": "stdout",
     "output_type": "stream",
     "text": [
      "MWW RankSum P for groups 1 and 2 = 3.00882055468e-30\n"
     ]
    }
   ],
   "source": [
    "z_stat, p_val = stats.mannwhitneyu(group1_LOS, group2_LOS, alternative = 'greater')  \n",
    "print \"MWW RankSum P for groups 1 and 2 =\", p_val  "
   ]
  },
  {
   "cell_type": "markdown",
   "metadata": {},
   "source": [
    "Since the p-value is <0.01, there is enough evidence to prove that the mean Hospital length of stay between patients that **use** asprin is **greater** than those that don't"
   ]
  },
  {
   "cell_type": "markdown",
   "metadata": {},
   "source": [
    "#### Q2 Is there a relation between Aspring Usage (ASA) and Mortality (DIED)?"
   ]
  },
  {
   "cell_type": "code",
   "execution_count": 88,
   "metadata": {
    "collapsed": true
   },
   "outputs": [],
   "source": [
    "group1_DIED =  allStateData[allStateData.ASA == 0.].DIED\n",
    "group2_DIED =  allStateData[allStateData.ASA == 1.].DIED"
   ]
  },
  {
   "cell_type": "code",
   "execution_count": 89,
   "metadata": {
    "collapsed": false
   },
   "outputs": [
    {
     "name": "stdout",
     "output_type": "stream",
     "text": [
      "MWW RankSum P for groups 1 and 2 = 0.397266478553\n"
     ]
    }
   ],
   "source": [
    "z_stat, p_val = stats.mannwhitneyu(group1_DIED, group2_DIED, alternative='greater')  \n",
    "print \"MWW RankSum P for groups 1 and 2 =\", p_val  "
   ]
  },
  {
   "cell_type": "markdown",
   "metadata": {},
   "source": [
    "Since the p-value is >0.05, there is **not** enough evidence to prove that there is a difference in the mortality rate between patients that use asprine and those that dont"
   ]
  },
  {
   "cell_type": "markdown",
   "metadata": {},
   "source": [
    "#### Q3 Is there a relation between Aspring Usage (ASA) and Severity of SAH (SCORE)?"
   ]
  },
  {
   "cell_type": "code",
   "execution_count": 80,
   "metadata": {
    "collapsed": true
   },
   "outputs": [],
   "source": [
    "group1_SCORE =  allStateData[allStateData.ASA == 0.].SCORE\n",
    "group2_SCORE =  allStateData[allStateData.ASA == 1.].SCORE"
   ]
  },
  {
   "cell_type": "code",
   "execution_count": 94,
   "metadata": {
    "collapsed": false
   },
   "outputs": [
    {
     "name": "stdout",
     "output_type": "stream",
     "text": [
      "MWW RankSum P for groups 1 and 2 = 4.90990106523e-05\n"
     ]
    }
   ],
   "source": [
    "z_stat, p_val = stats.mannwhitneyu(group1_SCORE, group2_SCORE, alternative = 'greater')  \n",
    "print \"MWW RankSum P for groups 1 and 2 =\", p_val  "
   ]
  },
  {
   "cell_type": "markdown",
   "metadata": {},
   "source": [
    "Since the p-value is <0.01, there is enough evidence to prove that the severity of SAH of patients that use asprin is greater than those that don't"
   ]
  },
  {
   "cell_type": "code",
   "execution_count": null,
   "metadata": {
    "collapsed": true
   },
   "outputs": [],
   "source": []
  }
 ],
 "metadata": {
  "kernelspec": {
   "display_name": "Python 2",
   "language": "python",
   "name": "python2"
  },
  "language_info": {
   "codemirror_mode": {
    "name": "ipython",
    "version": 2
   },
   "file_extension": ".py",
   "mimetype": "text/x-python",
   "name": "python",
   "nbconvert_exporter": "python",
   "pygments_lexer": "ipython2",
   "version": "2.7.11"
  }
 },
 "nbformat": 4,
 "nbformat_minor": 0
}
